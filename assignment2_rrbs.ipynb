{
 "cells": [
  {
   "cell_type": "markdown",
   "id": "d0f8a0ac-a50a-4ca1-af19-e765a95056ea",
   "metadata": {},
   "source": [
    "# Autoreload and logging config"
   ]
  },
  {
   "cell_type": "code",
   "execution_count": 1,
   "id": "5074d926-f88a-4ad5-b087-46d1dc53bf71",
   "metadata": {
    "tags": []
   },
   "outputs": [],
   "source": [
    "# autoreload\n",
    "%load_ext autoreload\n",
    "%autoreload 2\n",
    "\n",
    "# configure logging\n",
    "import logging\n",
    "logging.basicConfig(level=logging.WARNING)\n",
    "logging.getLogger('Assignment2RRBSDataSource').setLevel(logging.DEBUG)\n",
    "logging.getLogger('GlmNetEpigeneticClockTrainer').setLevel(logging.DEBUG)\n",
    "logging.getLogger('download_file').setLevel(logging.DEBUG)"
   ]
  },
  {
   "cell_type": "markdown",
   "id": "9780cae2-9ded-4e4a-85b1-cefbb08831cf",
   "metadata": {},
   "source": [
    "# Download data files"
   ]
  },
  {
   "cell_type": "code",
   "execution_count": 2,
   "id": "111cc112-a74d-4136-b3cb-bc37783e0dc0",
   "metadata": {
    "tags": []
   },
   "outputs": [
    {
     "name": "stderr",
     "output_type": "stream",
     "text": [
      "DEBUG:download_file:file data/assignment2/MetaPolished.csv already exists; do not download again\n",
      "DEBUG:download_file:file data/assignment2/FTGenForGenomicCov.py-cov5.csv already exists; do not download again\n"
     ]
    },
    {
     "name": "stdout",
     "output_type": "stream",
     "text": [
      "CPU times: user 1.51 s, sys: 4.3 s, total: 5.81 s\n",
      "Wall time: 940 ms\n"
     ]
    }
   ],
   "source": [
    "%%time\n",
    "import os\n",
    "from epigenetic_clock_assignment import download_file\n",
    "\n",
    "data_dir = 'data/assignment2'\n",
    "#meta_csv_filepath = os.path.join(data_dir, 'MetaPolished.csv')\n",
    "#features_csv_filepath = os.path.join(data_dir, 'FTGenForGenomicCov_MergeStrands.py-cov5.csv-dropna.py-1.0.csv-Format.py.csv')\n",
    "#features_zip_filepath = os.path.join(data_dir, 'FTGenForGenomicCov_MergeStrands.py-cov5.csv-dropna.py-1.0.csv-Format.py.csv.zip')\n",
    "\n",
    "meta_csv_filepath = os.path.join(data_dir, 'MetaPolished.csv')\n",
    "features_csv_filepath = os.path.join(data_dir, 'FTGenForGenomicCov.py-cov5.csv')\n",
    "features_zip_filepath = os.path.join(data_dir, 'FTGenForGenomicCov.py-cov5.csv.zip')\n",
    "\n",
    "\n",
    "# download meta file\n",
    "download_file(url='https://kerepesi.web.elte.hu/bioinf_ora/MetaPolished.csv',\n",
    "              out_filepath=meta_csv_filepath)\n",
    "\n",
    "# download features file if does not exists\n",
    "download_file(url='https://kerepesi.web.elte.hu/bioinf_ora/FTGenForGenomicCov.py-cov5.csv.zip',\n",
    "              out_filepath=features_csv_filepath, \n",
    "              intermediate_archive_filepath=features_zip_filepath,\n",
    "              archive_format='zip')\n"
   ]
  },
  {
   "cell_type": "markdown",
   "id": "460a889d-c420-4eba-98ee-15f73c636acf",
   "metadata": {},
   "source": [
    "# Load data"
   ]
  },
  {
   "cell_type": "code",
   "execution_count": 3,
   "id": "1623f185-e27a-413b-954f-4381ae521e11",
   "metadata": {
    "tags": []
   },
   "outputs": [
    {
     "name": "stderr",
     "output_type": "stream",
     "text": [
      "DEBUG:Assignment2RRBSDataSource:load\n",
      "DEBUG:Assignment2RRBSDataSource:loading features from cache file \"data/assignment2/features_cache_mean.pickle\"...\n",
      "DEBUG:Assignment2RRBSDataSource:loaded; shape=(182, 8722093)\n",
      "DEBUG:Assignment2RRBSDataSource:joining based on ID\n",
      "DEBUG:Assignment2RRBSDataSource:joined; shape=(182, 8722096)\n",
      "DEBUG:Assignment2RRBSDataSource:creating y\n",
      "DEBUG:Assignment2RRBSDataSource:creating X\n",
      "DEBUG:Assignment2RRBSDataSource:loaded\n"
     ]
    },
    {
     "name": "stdout",
     "output_type": "stream",
     "text": [
      "CPU times: user 4.92 s, sys: 4.16 s, total: 9.08 s\n",
      "Wall time: 10.1 s\n"
     ]
    }
   ],
   "source": [
    "%%time\n",
    "\n",
    "import os\n",
    "from epigenetic_clock_assignment import Assignment2RRBSDataSource\n",
    "\n",
    "data_source = Assignment2RRBSDataSource(\n",
    "    meta_csv_filepath=meta_csv_filepath,\n",
    "    features_csv_filepath=features_csv_filepath,\n",
    "    features_pickle_cache_filepath=os.path.join(data_dir, 'features_cache_mean.pickle'))\n",
    "\n",
    "X, y, meta_df = data_source.load()"
   ]
  },
  {
   "cell_type": "markdown",
   "id": "ea18063f-a0d0-4f23-896c-f94c0ea11e69",
   "metadata": {},
   "source": [
    "# Hyperparameter optimization (ElasticNet $\\lambda, \\alpha$)"
   ]
  },
  {
   "cell_type": "code",
   "execution_count": null,
   "id": "afa84794-d5b0-45c6-814a-aa63f0218a25",
   "metadata": {
    "tags": []
   },
   "outputs": [
    {
     "name": "stderr",
     "output_type": "stream",
     "text": [
      "DEBUG:GlmNetEpigeneticClockTrainer:starting hyperparameter optimization with alpha range [0.  0.2 0.4 0.6 0.8 1. ]\n",
      "DEBUG:GlmNetEpigeneticClockTrainer:training with alpha 0.0...\n"
     ]
    }
   ],
   "source": [
    "%%time\n",
    "from epigenetic_clock_assignment import GlmNetEpigeneticClockTrainer\n",
    "\n",
    "clock_trainer = GlmNetEpigeneticClockTrainer(\n",
    "    n_parallel_jobs=1,\n",
    "    n_cv_fold=10,\n",
    "    # the weight of standard error used to determine lambda_best, 0 means use lambda_max (see glmnet.ElasticNet)\n",
    "    std_error_weight_for_lambda_best=0.5,\n",
    "    seed=43\n",
    ")\n",
    "\n",
    "X_train, X_test, y_train, y_test, meta_train, meta_test = clock_trainer.train_test_split(X, y, meta_df,\n",
    "                                                                  test_size=0.2)\n",
    "\n",
    "hyperparameter_result, hyperparameter_stats, best_model = clock_trainer.hyperparameter_optimization(\n",
    "    X_train=X_train, \n",
    "    y_train=y_train, \n",
    "    alpha_count= 5 + 1)\n"
   ]
  },
  {
   "cell_type": "markdown",
   "id": "b8a511ad-3531-4e6a-9b2f-8efe2fbfcfda",
   "metadata": {},
   "source": [
    "# Plot hyperparameter optimization result"
   ]
  },
  {
   "cell_type": "code",
   "execution_count": null,
   "id": "7f2cb553-a77f-4e12-8abd-de449a27f4b0",
   "metadata": {},
   "outputs": [],
   "source": [
    "# filter negative cv_r2_mean (possibly caused by overflow)\n",
    "hyperparameter_stats_filtered = hyperparameter_stats[hyperparameter_stats['cv_r2_mean']>=0]"
   ]
  },
  {
   "cell_type": "code",
   "execution_count": null,
   "id": "1aba880c-dd65-47c3-91df-d4a131d22af7",
   "metadata": {},
   "outputs": [],
   "source": [
    "clock_trainer.plot_hyperparameter_optimization_result(\n",
    "    hyperparameter_result=hyperparameter_result, \n",
    "    hyperparameter_stats=hyperparameter_stats_filtered,\n",
    "    arrow_xytext_offset=(-100, 50))"
   ]
  },
  {
   "cell_type": "markdown",
   "id": "d8f4c4c4-1afc-4c4d-853c-a6a624b666d4",
   "metadata": {},
   "source": [
    "# Predict on test data using the best model"
   ]
  },
  {
   "cell_type": "code",
   "execution_count": null,
   "id": "05046d1a-b2c2-4fca-947d-9da6568b6769",
   "metadata": {},
   "outputs": [],
   "source": [
    "best_lambda = hyperparameter_result.lambd\n",
    "best_alpha = hyperparameter_result.alpha\n",
    "\n",
    "# sanity check\n",
    "assert best_model.alpha == best_alpha\n",
    "assert best_model.lambda_best_ == best_lambda\n",
    "\n",
    "# predict\n",
    "y_test_pred = best_model.predict(X = X_test, lamb=best_lambda)\n"
   ]
  },
  {
   "cell_type": "markdown",
   "id": "6669601d-f490-48c8-93fd-fb07ce3c5c3d",
   "metadata": {},
   "source": [
    "# Plot linear regression result on test data"
   ]
  },
  {
   "cell_type": "code",
   "execution_count": null,
   "id": "0d18b237-bb0c-49ee-9707-f50cda6ec468",
   "metadata": {},
   "outputs": [],
   "source": [
    "test_stats = clock_trainer.calculate_statistics(y_true=y_test, y_pred=y_test_pred)\n",
    "clock_trainer.plot_linear_regression_result(\n",
    "    y_true=y_test, \n",
    "    y_pred=y_test_pred, \n",
    "    stats=test_stats, \n",
    "    alpha=best_alpha, \n",
    "    lamb=best_lambda,\n",
    "    title_prefix='Test set',\n",
    "    hue=meta_test['Condition'],\n",
    "    style=meta_test['Gender'])"
   ]
  },
  {
   "cell_type": "markdown",
   "id": "00926355-bd94-4667-84d5-192ae0f983c4",
   "metadata": {},
   "source": [
    "# Predict on all samples using the best model"
   ]
  },
  {
   "cell_type": "code",
   "execution_count": null,
   "id": "77de0bea-19f5-4afc-818d-5012339f048b",
   "metadata": {},
   "outputs": [],
   "source": [
    "# predict\n",
    "y_pred = best_model.predict(X = X, lamb=best_lambda)"
   ]
  },
  {
   "cell_type": "markdown",
   "id": "1fb06460-74f1-4781-8f43-608a0514532b",
   "metadata": {},
   "source": [
    "# Plot linear regression result for all samples"
   ]
  },
  {
   "cell_type": "code",
   "execution_count": null,
   "id": "4437f961-f5a9-4ec5-adc0-d11a0e8d1dda",
   "metadata": {},
   "outputs": [],
   "source": [
    "stats = clock_trainer.calculate_statistics(y_true=y, y_pred=y_pred)\n",
    "clock_trainer.plot_linear_regression_result(\n",
    "    y_true=y, \n",
    "    y_pred=y_pred, \n",
    "    stats=stats, \n",
    "    alpha=best_alpha, \n",
    "    lamb=best_lambda,\n",
    "    title_prefix='All samples',\n",
    "    hue=meta_df['Condition'],\n",
    "    style=None)\n",
    "\n"
   ]
  },
  {
   "cell_type": "markdown",
   "id": "4fc0ffd7-cee2-4899-935d-fc2facfa58b4",
   "metadata": {},
   "source": [
    "# Prepare dataframe for Healthy-MDD-SA comparison"
   ]
  },
  {
   "cell_type": "code",
   "execution_count": null,
   "id": "97dada1b-a412-4986-867a-c3ad60fbf02d",
   "metadata": {},
   "outputs": [],
   "source": [
    "from epigenetic_clock_assignment import HealthyMDDSAStats\n",
    "\n",
    "# prepare stats\n",
    "healthy_mdd_sa_stats = HealthyMDDSAStats()\n",
    "\n",
    "healthy_mdd_sa_stats_df, is_age_normal, is_age_acceleration_norm = healthy_mdd_sa_stats.prepare_stat_dataframe(\n",
    "    meta_df=meta_df,\n",
    "    y=y,\n",
    "    y_pred=y_pred,\n",
    "    stats=stats)\n",
    "\n",
    "print('is condition grouped \"age\" normally distributed?\\n', is_age_normal)\n",
    "print('is condition grouped \"age acceleration\" normally distributed?\\n', is_age_normal)"
   ]
  },
  {
   "cell_type": "markdown",
   "id": "7f2dba71-1b2f-433a-a1a8-f2458d564d55",
   "metadata": {},
   "source": [
    "# Plot Healthy-MDD-SA comparison\n",
    "\n",
    "(not normally distributed, use Mann-Whitney-Wixocon test)"
   ]
  },
  {
   "cell_type": "code",
   "execution_count": null,
   "id": "a22819dc-f0df-4f19-9b91-0cd6f127c202",
   "metadata": {},
   "outputs": [],
   "source": [
    "from epigenetic_clock_assignment import HealthyMDDSAPlot\n",
    "\n",
    "healthy_mdd_sa_plot = HealthyMDDSAPlot()\n",
    "healthy_mdd_sa_plot.boxplot(healthy_mdd_sa_stats_df, title='Age acceleration comparison on condition groups')\n"
   ]
  },
  {
   "cell_type": "markdown",
   "id": "84a62762-74ed-4531-9b31-e8ae3d73c447",
   "metadata": {},
   "source": [
    "# Histogram for the distribution of the data (colored by condition)"
   ]
  },
  {
   "cell_type": "code",
   "execution_count": null,
   "id": "882fa70a-df68-4154-932b-58c97ec9ee16",
   "metadata": {},
   "outputs": [],
   "source": [
    "healthy_mdd_sa_plot.age_histogram(healthy_mdd_sa_stats_df)"
   ]
  },
  {
   "cell_type": "markdown",
   "id": "3a427969-3382-497e-9eb1-b365e34ffaa5",
   "metadata": {},
   "source": [
    "# Match instances by age to control for inbalanced data"
   ]
  },
  {
   "cell_type": "code",
   "execution_count": null,
   "id": "a829e0cb-5a90-47f2-85eb-82dcc1e2e03b",
   "metadata": {},
   "outputs": [],
   "source": [
    "healthy_mdd_sa_controlled_df = healthy_mdd_sa_stats.control_for_imbalanced_age(healthy_mdd_sa_stats_df, tolerance_year=1)"
   ]
  },
  {
   "cell_type": "markdown",
   "id": "89cabb8e-ce96-41e2-87e9-62b0105c2e12",
   "metadata": {},
   "source": [
    "# Plot controlled Healthy-MDD-SA comparison"
   ]
  },
  {
   "cell_type": "code",
   "execution_count": null,
   "id": "80e7bff6-f517-47c5-b0be-24c930c95e8d",
   "metadata": {},
   "outputs": [],
   "source": [
    "healthy_mdd_sa_plot = HealthyMDDSAPlot()\n",
    "healthy_mdd_sa_controlled_instance_count = int(healthy_mdd_sa_controlled_df.shape[0]/3)\n",
    "healthy_mdd_sa_plot.boxplot(healthy_mdd_sa_controlled_df, title=f'Age acceleration comparison for matched entries (N={healthy_mdd_sa_controlled_instance_count})')"
   ]
  }
 ],
 "metadata": {
  "kernelspec": {
   "display_name": "bio",
   "language": "python",
   "name": "bio"
  },
  "language_info": {
   "codemirror_mode": {
    "name": "ipython",
    "version": 3
   },
   "file_extension": ".py",
   "mimetype": "text/x-python",
   "name": "python",
   "nbconvert_exporter": "python",
   "pygments_lexer": "ipython3",
   "version": "3.8.18"
  }
 },
 "nbformat": 4,
 "nbformat_minor": 5
}
