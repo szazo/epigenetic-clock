{
 "cells": [
  {
   "cell_type": "code",
   "execution_count": 1,
   "id": "5074d926-f88a-4ad5-b087-46d1dc53bf71",
   "metadata": {},
   "outputs": [],
   "source": [
    "# autoreload\n",
    "%load_ext autoreload\n",
    "%autoreload 2\n",
    "\n",
    "# configure logging\n",
    "import logging\n",
    "logging.basicConfig(level=logging.WARNING)\n",
    "logging.getLogger('Assignment2RRBSDataSource').setLevel(logging.DEBUG)\n",
    "logging.getLogger('GlmNetEpigeneticClockTrainer').setLevel(logging.DEBUG)\n",
    "logging.getLogger('download_file').setLevel(logging.DEBUG)"
   ]
  },
  {
   "cell_type": "markdown",
   "id": "9780cae2-9ded-4e4a-85b1-cefbb08831cf",
   "metadata": {},
   "source": [
    "# Download data files"
   ]
  },
  {
   "cell_type": "code",
   "execution_count": 2,
   "id": "111cc112-a74d-4136-b3cb-bc37783e0dc0",
   "metadata": {},
   "outputs": [
    {
     "name": "stderr",
     "output_type": "stream",
     "text": [
      "DEBUG:download_file:file data/assignment2/MetaPolished.csv does not exists; need to download\n",
      "DEBUG:download_file:creating directory \"data/assignment2\" if does not exists...\n",
      "DEBUG:download_file:downloading...\n",
      "DEBUG:download_file:file data/assignment2/MetaPolished.csv ready\n",
      "DEBUG:download_file:file data/assignment2/FTGenForGenomicCov_MergeStrands.py-cov5.csv-dropna.py-1.0.csv-Format.py.csv does not exists; need to download\n",
      "DEBUG:download_file:creating directory \"data/assignment2\" if does not exists...\n",
      "DEBUG:download_file:downloading...\n"
     ]
    },
    {
     "name": "stdout",
     "output_type": "stream",
     "text": [
      " 99% [..................................................................... ] 736477184 / 738850505"
     ]
    },
    {
     "name": "stderr",
     "output_type": "stream",
     "text": [
      "DEBUG:download_file:ungzipping data/assignment2/FTGenForGenomicCov_MergeStrands.py-cov5.csv-dropna.py-1.0.csv-Format.py.csv.zip...\n",
      "DEBUG:download_file:unzipping data/assignment2/FTGenForGenomicCov_MergeStrands.py-cov5.csv-dropna.py-1.0.csv-Format.py.csv.zip...\n"
     ]
    },
    {
     "name": "stdout",
     "output_type": "stream",
     "text": [
      "100% [......................................................................] 738850505 / 738850505"
     ]
    },
    {
     "name": "stderr",
     "output_type": "stream",
     "text": [
      "DEBUG:download_file:file data/assignment2/FTGenForGenomicCov_MergeStrands.py-cov5.csv-dropna.py-1.0.csv-Format.py.csv ready\n"
     ]
    },
    {
     "name": "stdout",
     "output_type": "stream",
     "text": [
      "CPU times: user 12.4 s, sys: 7.48 s, total: 19.9 s\n",
      "Wall time: 1min 45s\n"
     ]
    }
   ],
   "source": [
    "%%time\n",
    "import os\n",
    "from epigenetic_clock_assignment import download_file\n",
    "\n",
    "data_dir = 'data/assignment2'\n",
    "meta_csv_filepath = os.path.join(data_dir, 'MetaPolished.csv')\n",
    "features_csv_filepath = os.path.join(data_dir, 'FTGenForGenomicCov_MergeStrands.py-cov5.csv-dropna.py-1.0.csv-Format.py.csv')\n",
    "features_zip_filepath = os.path.join(data_dir, 'FTGenForGenomicCov_MergeStrands.py-cov5.csv-dropna.py-1.0.csv-Format.py.csv.zip')\n",
    "\n",
    "# download meta file\n",
    "download_file(url='https://kerepesi.web.elte.hu/bioinf_ora/MetaPolished.csv',\n",
    "              out_filepath=meta_csv_filepath)\n",
    "\n",
    "# download features file if does not exists\n",
    "download_file(url='https://kerepesi.web.elte.hu/bioinf_ora/FTGenForGenomicCov_MergeStrands.py-cov5.csv-dropna.py-1.0.csv-Format.py.csv.zip',\n",
    "              out_filepath=features_csv_filepath, \n",
    "              intermediate_archive_filepath=features_zip_filepath,\n",
    "              archive_format='zip')\n"
   ]
  },
  {
   "cell_type": "code",
   "execution_count": 3,
   "id": "1623f185-e27a-413b-954f-4381ae521e11",
   "metadata": {},
   "outputs": [
    {
     "name": "stderr",
     "output_type": "stream",
     "text": [
      "DEBUG:Assignment2RRBSDataSource:load\n",
      "DEBUG:Assignment2RRBSDataSource:loading \"data/assignment2/FTGenForGenomicCov_MergeStrands.py-cov5.csv-dropna.py-1.0.csv-Format.py.csv\" using dask...\n",
      "DEBUG:Assignment2RRBSDataSource:setting \"Pos\" field as index...\n",
      "DEBUG:Assignment2RRBSDataSource:converting to pandas dataframe...\n",
      "DEBUG:Assignment2RRBSDataSource:converted; shape=(5201794, 182)\n",
      "DEBUG:Assignment2RRBSDataSource:transposing...\n",
      "DEBUG:Assignment2RRBSDataSource:transposed; shape=(182, 5201794)\n",
      "DEBUG:Assignment2RRBSDataSource:saving features into cache file \"data/assignment2/features_cache.pickle\"...\n",
      "DEBUG:Assignment2RRBSDataSource:cache created\n",
      "DEBUG:Assignment2RRBSDataSource:joining based on ID\n",
      "DEBUG:Assignment2RRBSDataSource:joined; shape=(182, 5201797)\n",
      "DEBUG:Assignment2RRBSDataSource:creating y\n",
      "DEBUG:Assignment2RRBSDataSource:creating X\n",
      "DEBUG:Assignment2RRBSDataSource:loaded\n"
     ]
    },
    {
     "name": "stdout",
     "output_type": "stream",
     "text": [
      "CPU times: user 4min 10s, sys: 49.3 s, total: 4min 59s\n",
      "Wall time: 2min 28s\n"
     ]
    }
   ],
   "source": [
    "%%time\n",
    "\n",
    "import os\n",
    "from epigenetic_clock_assignment import Assignment2RRBSDataSource\n",
    "\n",
    "data_source = Assignment2RRBSDataSource(\n",
    "    meta_csv_filepath=meta_csv_filepath,\n",
    "    features_csv_filepath=features_csv_filepath,\n",
    "    features_pickle_cache_filepath=os.path.join(data_dir, 'features_cache.pickle'))\n",
    "\n",
    "X, y = data_source.load()"
   ]
  },
  {
   "cell_type": "code",
   "execution_count": 4,
   "id": "afa84794-d5b0-45c6-814a-aa63f0218a25",
   "metadata": {},
   "outputs": [
    {
     "name": "stderr",
     "output_type": "stream",
     "text": [
      "DEBUG:GlmNetEpigeneticClockTrainer:starting hyperparameter optimization with alpha range [0.  0.1 0.2 0.3 0.4 0.5 0.6 0.7 0.8 0.9 1. ]\n",
      "DEBUG:GlmNetEpigeneticClockTrainer:training with alpha 0.0...\n",
      "DEBUG:GlmNetEpigeneticClockTrainer:training with alpha 0.1...\n"
     ]
    },
    {
     "name": "stdout",
     "output_type": "stream",
     "text": [
      "lambda_max 2 5273.492074763908\n",
      "target_score 0.23872522919721403 0.5 0.025468635588442215 = 0.22599091140299293\n",
      "self.lambda_best_ [5273.49207476]\n"
     ]
    },
    {
     "ename": "KeyboardInterrupt",
     "evalue": "",
     "output_type": "error",
     "traceback": [
      "\u001b[0;31m---------------------------------------------------------------------------\u001b[0m",
      "\u001b[0;31mKeyboardInterrupt\u001b[0m                         Traceback (most recent call last)",
      "File \u001b[0;32m<timed exec>:13\u001b[0m\n",
      "File \u001b[0;32m~/prj/elte/bio/src/epigenetic_clock_assignment/glmnet_epigenetic_clock_trainer.py:90\u001b[0m, in \u001b[0;36mGlmNetEpigeneticClockTrainer.hyperparameter_optimization\u001b[0;34m(self, X_train, y_train, alpha_count, verbose)\u001b[0m\n\u001b[1;32m     87\u001b[0m \u001b[38;5;28mself\u001b[39m\u001b[38;5;241m.\u001b[39m_log\u001b[38;5;241m.\u001b[39mdebug(\u001b[38;5;124m'\u001b[39m\u001b[38;5;124mtraining with alpha \u001b[39m\u001b[38;5;132;01m%s\u001b[39;00m\u001b[38;5;124m...\u001b[39m\u001b[38;5;124m'\u001b[39m, alpha)\n\u001b[1;32m     89\u001b[0m model \u001b[38;5;241m=\u001b[39m \u001b[38;5;28mself\u001b[39m\u001b[38;5;241m.\u001b[39m_create_model()(alpha\u001b[38;5;241m=\u001b[39malpha, verbose\u001b[38;5;241m=\u001b[39mverbose)\n\u001b[0;32m---> 90\u001b[0m \u001b[43mmodel\u001b[49m\u001b[38;5;241;43m.\u001b[39;49m\u001b[43mfit\u001b[49m\u001b[43m(\u001b[49m\u001b[43mX_train\u001b[49m\u001b[43m,\u001b[49m\u001b[43m \u001b[49m\u001b[43my_train\u001b[49m\u001b[43m)\u001b[49m\n\u001b[1;32m     92\u001b[0m train_stats \u001b[38;5;241m=\u001b[39m pd\u001b[38;5;241m.\u001b[39mDataFrame()\n\u001b[1;32m     93\u001b[0m train_stats[\u001b[38;5;124m'\u001b[39m\u001b[38;5;124mlambda\u001b[39m\u001b[38;5;124m'\u001b[39m] \u001b[38;5;241m=\u001b[39m model\u001b[38;5;241m.\u001b[39mlambda_path_\n",
      "File \u001b[0;32m~/.envs/bio/lib/python3.8/site-packages/glmnet/linear.py:238\u001b[0m, in \u001b[0;36mElasticNet.fit\u001b[0;34m(self, X, y, sample_weight, relative_penalties, groups)\u001b[0m\n\u001b[1;32m    235\u001b[0m \u001b[38;5;28;01melse\u001b[39;00m:\n\u001b[1;32m    236\u001b[0m     \u001b[38;5;28mself\u001b[39m\u001b[38;5;241m.\u001b[39m_cv \u001b[38;5;241m=\u001b[39m GroupKFold(n_splits\u001b[38;5;241m=\u001b[39m\u001b[38;5;28mself\u001b[39m\u001b[38;5;241m.\u001b[39mn_splits)\n\u001b[0;32m--> 238\u001b[0m cv_scores \u001b[38;5;241m=\u001b[39m \u001b[43m_score_lambda_path\u001b[49m\u001b[43m(\u001b[49m\u001b[38;5;28;43mself\u001b[39;49m\u001b[43m,\u001b[49m\u001b[43m \u001b[49m\u001b[43mX\u001b[49m\u001b[43m,\u001b[49m\u001b[43m \u001b[49m\u001b[43my\u001b[49m\u001b[43m,\u001b[49m\u001b[43m \u001b[49m\u001b[43mgroups\u001b[49m\u001b[43m,\u001b[49m\n\u001b[1;32m    239\u001b[0m \u001b[43m                               \u001b[49m\u001b[43msample_weight\u001b[49m\u001b[43m,\u001b[49m\n\u001b[1;32m    240\u001b[0m \u001b[43m                               \u001b[49m\u001b[43mrelative_penalties\u001b[49m\u001b[43m,\u001b[49m\n\u001b[1;32m    241\u001b[0m \u001b[43m                               \u001b[49m\u001b[38;5;28;43mself\u001b[39;49m\u001b[38;5;241;43m.\u001b[39;49m\u001b[43mscoring\u001b[49m\u001b[43m,\u001b[49m\n\u001b[1;32m    242\u001b[0m \u001b[43m                               \u001b[49m\u001b[43mn_jobs\u001b[49m\u001b[38;5;241;43m=\u001b[39;49m\u001b[38;5;28;43mself\u001b[39;49m\u001b[38;5;241;43m.\u001b[39;49m\u001b[43mn_jobs\u001b[49m\u001b[43m,\u001b[49m\n\u001b[1;32m    243\u001b[0m \u001b[43m                               \u001b[49m\u001b[43mverbose\u001b[49m\u001b[38;5;241;43m=\u001b[39;49m\u001b[38;5;28;43mself\u001b[39;49m\u001b[38;5;241;43m.\u001b[39;49m\u001b[43mverbose\u001b[49m\u001b[43m)\u001b[49m\n\u001b[1;32m    245\u001b[0m \u001b[38;5;28mself\u001b[39m\u001b[38;5;241m.\u001b[39mcv_mean_score_ \u001b[38;5;241m=\u001b[39m np\u001b[38;5;241m.\u001b[39matleast_1d(np\u001b[38;5;241m.\u001b[39mmean(cv_scores, axis\u001b[38;5;241m=\u001b[39m\u001b[38;5;241m0\u001b[39m))\n\u001b[1;32m    246\u001b[0m \u001b[38;5;28mself\u001b[39m\u001b[38;5;241m.\u001b[39mcv_standard_error_ \u001b[38;5;241m=\u001b[39m np\u001b[38;5;241m.\u001b[39matleast_1d(stats\u001b[38;5;241m.\u001b[39msem(cv_scores))\n",
      "File \u001b[0;32m~/.envs/bio/lib/python3.8/site-packages/glmnet/util.py:66\u001b[0m, in \u001b[0;36m_score_lambda_path\u001b[0;34m(est, X, y, groups, sample_weight, relative_penalties, scoring, n_jobs, verbose)\u001b[0m\n\u001b[1;32m     63\u001b[0m     action \u001b[38;5;241m=\u001b[39m \u001b[38;5;124m'\u001b[39m\u001b[38;5;124malways\u001b[39m\u001b[38;5;124m'\u001b[39m \u001b[38;5;28;01mif\u001b[39;00m verbose \u001b[38;5;28;01melse\u001b[39;00m \u001b[38;5;124m'\u001b[39m\u001b[38;5;124mignore\u001b[39m\u001b[38;5;124m'\u001b[39m\n\u001b[1;32m     64\u001b[0m     warnings\u001b[38;5;241m.\u001b[39msimplefilter(action, UndefinedMetricWarning)\n\u001b[0;32m---> 66\u001b[0m     scores \u001b[38;5;241m=\u001b[39m \u001b[43mParallel\u001b[49m\u001b[43m(\u001b[49m\u001b[43mn_jobs\u001b[49m\u001b[38;5;241;43m=\u001b[39;49m\u001b[43mn_jobs\u001b[49m\u001b[43m,\u001b[49m\u001b[43m \u001b[49m\u001b[43mverbose\u001b[49m\u001b[38;5;241;43m=\u001b[39;49m\u001b[43mverbose\u001b[49m\u001b[43m,\u001b[49m\u001b[43m \u001b[49m\u001b[43mbackend\u001b[49m\u001b[38;5;241;43m=\u001b[39;49m\u001b[38;5;124;43m'\u001b[39;49m\u001b[38;5;124;43mthreading\u001b[39;49m\u001b[38;5;124;43m'\u001b[39;49m\u001b[43m)\u001b[49m\u001b[43m(\u001b[49m\n\u001b[1;32m     67\u001b[0m \u001b[43m        \u001b[49m\u001b[43mdelayed\u001b[49m\u001b[43m(\u001b[49m\u001b[43m_fit_and_score\u001b[49m\u001b[43m)\u001b[49m\u001b[43m(\u001b[49m\u001b[43mest\u001b[49m\u001b[43m,\u001b[49m\u001b[43m \u001b[49m\u001b[43mscorer\u001b[49m\u001b[43m,\u001b[49m\u001b[43m \u001b[49m\u001b[43mX\u001b[49m\u001b[43m,\u001b[49m\u001b[43m \u001b[49m\u001b[43my\u001b[49m\u001b[43m,\u001b[49m\u001b[43m \u001b[49m\u001b[43msample_weight\u001b[49m\u001b[43m,\u001b[49m\u001b[43m \u001b[49m\u001b[43mrelative_penalties\u001b[49m\u001b[43m,\u001b[49m\n\u001b[1;32m     68\u001b[0m \u001b[43m                                \u001b[49m\u001b[43mest\u001b[49m\u001b[38;5;241;43m.\u001b[39;49m\u001b[43mlambda_path_\u001b[49m\u001b[43m,\u001b[49m\u001b[43m \u001b[49m\u001b[43mtrain_idx\u001b[49m\u001b[43m,\u001b[49m\u001b[43m \u001b[49m\u001b[43mtest_idx\u001b[49m\u001b[43m)\u001b[49m\n\u001b[1;32m     69\u001b[0m \u001b[43m        \u001b[49m\u001b[38;5;28;43;01mfor\u001b[39;49;00m\u001b[43m \u001b[49m\u001b[43m(\u001b[49m\u001b[43mtrain_idx\u001b[49m\u001b[43m,\u001b[49m\u001b[43m \u001b[49m\u001b[43mtest_idx\u001b[49m\u001b[43m)\u001b[49m\u001b[43m \u001b[49m\u001b[38;5;129;43;01min\u001b[39;49;00m\u001b[43m \u001b[49m\u001b[43mcv_split\u001b[49m\u001b[43m)\u001b[49m\n\u001b[1;32m     71\u001b[0m \u001b[38;5;28;01mreturn\u001b[39;00m scores\n",
      "File \u001b[0;32m~/.envs/bio/lib/python3.8/site-packages/joblib/parallel.py:1918\u001b[0m, in \u001b[0;36mParallel.__call__\u001b[0;34m(self, iterable)\u001b[0m\n\u001b[1;32m   1916\u001b[0m     output \u001b[38;5;241m=\u001b[39m \u001b[38;5;28mself\u001b[39m\u001b[38;5;241m.\u001b[39m_get_sequential_output(iterable)\n\u001b[1;32m   1917\u001b[0m     \u001b[38;5;28mnext\u001b[39m(output)\n\u001b[0;32m-> 1918\u001b[0m     \u001b[38;5;28;01mreturn\u001b[39;00m output \u001b[38;5;28;01mif\u001b[39;00m \u001b[38;5;28mself\u001b[39m\u001b[38;5;241m.\u001b[39mreturn_generator \u001b[38;5;28;01melse\u001b[39;00m \u001b[38;5;28;43mlist\u001b[39;49m\u001b[43m(\u001b[49m\u001b[43moutput\u001b[49m\u001b[43m)\u001b[49m\n\u001b[1;32m   1920\u001b[0m \u001b[38;5;66;03m# Let's create an ID that uniquely identifies the current call. If the\u001b[39;00m\n\u001b[1;32m   1921\u001b[0m \u001b[38;5;66;03m# call is interrupted early and that the same instance is immediately\u001b[39;00m\n\u001b[1;32m   1922\u001b[0m \u001b[38;5;66;03m# re-used, this id will be used to prevent workers that were\u001b[39;00m\n\u001b[1;32m   1923\u001b[0m \u001b[38;5;66;03m# concurrently finalizing a task from the previous call to run the\u001b[39;00m\n\u001b[1;32m   1924\u001b[0m \u001b[38;5;66;03m# callback.\u001b[39;00m\n\u001b[1;32m   1925\u001b[0m \u001b[38;5;28;01mwith\u001b[39;00m \u001b[38;5;28mself\u001b[39m\u001b[38;5;241m.\u001b[39m_lock:\n",
      "File \u001b[0;32m~/.envs/bio/lib/python3.8/site-packages/joblib/parallel.py:1847\u001b[0m, in \u001b[0;36mParallel._get_sequential_output\u001b[0;34m(self, iterable)\u001b[0m\n\u001b[1;32m   1845\u001b[0m \u001b[38;5;28mself\u001b[39m\u001b[38;5;241m.\u001b[39mn_dispatched_batches \u001b[38;5;241m+\u001b[39m\u001b[38;5;241m=\u001b[39m \u001b[38;5;241m1\u001b[39m\n\u001b[1;32m   1846\u001b[0m \u001b[38;5;28mself\u001b[39m\u001b[38;5;241m.\u001b[39mn_dispatched_tasks \u001b[38;5;241m+\u001b[39m\u001b[38;5;241m=\u001b[39m \u001b[38;5;241m1\u001b[39m\n\u001b[0;32m-> 1847\u001b[0m res \u001b[38;5;241m=\u001b[39m \u001b[43mfunc\u001b[49m\u001b[43m(\u001b[49m\u001b[38;5;241;43m*\u001b[39;49m\u001b[43margs\u001b[49m\u001b[43m,\u001b[49m\u001b[43m \u001b[49m\u001b[38;5;241;43m*\u001b[39;49m\u001b[38;5;241;43m*\u001b[39;49m\u001b[43mkwargs\u001b[49m\u001b[43m)\u001b[49m\n\u001b[1;32m   1848\u001b[0m \u001b[38;5;28mself\u001b[39m\u001b[38;5;241m.\u001b[39mn_completed_tasks \u001b[38;5;241m+\u001b[39m\u001b[38;5;241m=\u001b[39m \u001b[38;5;241m1\u001b[39m\n\u001b[1;32m   1849\u001b[0m \u001b[38;5;28mself\u001b[39m\u001b[38;5;241m.\u001b[39mprint_progress()\n",
      "File \u001b[0;32m~/.envs/bio/lib/python3.8/site-packages/glmnet/util.py:119\u001b[0m, in \u001b[0;36m_fit_and_score\u001b[0;34m(est, scorer, X, y, sample_weight, relative_penalties, score_lambda_path, train_inx, test_inx)\u001b[0m\n\u001b[1;32m    116\u001b[0m m \u001b[38;5;241m=\u001b[39m m\u001b[38;5;241m.\u001b[39m_fit(X[train_inx, :], y[train_inx], sample_weight[train_inx], relative_penalties)\n\u001b[1;32m    118\u001b[0m lamb \u001b[38;5;241m=\u001b[39m np\u001b[38;5;241m.\u001b[39mclip(score_lambda_path, m\u001b[38;5;241m.\u001b[39mlambda_path_[\u001b[38;5;241m-\u001b[39m\u001b[38;5;241m1\u001b[39m], m\u001b[38;5;241m.\u001b[39mlambda_path_[\u001b[38;5;241m0\u001b[39m])\n\u001b[0;32m--> 119\u001b[0m \u001b[38;5;28;01mreturn\u001b[39;00m \u001b[43mscorer\u001b[49m\u001b[43m(\u001b[49m\u001b[43mm\u001b[49m\u001b[43m,\u001b[49m\u001b[43m \u001b[49m\u001b[43mX\u001b[49m\u001b[43m[\u001b[49m\u001b[43mtest_inx\u001b[49m\u001b[43m,\u001b[49m\u001b[43m \u001b[49m\u001b[43m:\u001b[49m\u001b[43m]\u001b[49m\u001b[43m,\u001b[49m\u001b[43m \u001b[49m\u001b[43my\u001b[49m\u001b[43m[\u001b[49m\u001b[43mtest_inx\u001b[49m\u001b[43m]\u001b[49m\u001b[43m,\u001b[49m\u001b[43m \u001b[49m\u001b[43mlamb\u001b[49m\u001b[38;5;241;43m=\u001b[39;49m\u001b[43mlamb\u001b[49m\u001b[43m)\u001b[49m\n",
      "File \u001b[0;32m~/.envs/bio/lib/python3.8/site-packages/glmnet/scorer.py:189\u001b[0m, in \u001b[0;36m_passthrough_scorer\u001b[0;34m(estimator, *args, **kwargs)\u001b[0m\n\u001b[1;32m    187\u001b[0m \u001b[38;5;28;01mdef\u001b[39;00m \u001b[38;5;21m_passthrough_scorer\u001b[39m(estimator, \u001b[38;5;241m*\u001b[39margs, \u001b[38;5;241m*\u001b[39m\u001b[38;5;241m*\u001b[39mkwargs):\n\u001b[1;32m    188\u001b[0m \u001b[38;5;250m    \u001b[39m\u001b[38;5;124;03m\"\"\"Function that wraps estimator.score\"\"\"\u001b[39;00m\n\u001b[0;32m--> 189\u001b[0m     \u001b[38;5;28;01mreturn\u001b[39;00m \u001b[43mestimator\u001b[49m\u001b[38;5;241;43m.\u001b[39;49m\u001b[43mscore\u001b[49m\u001b[43m(\u001b[49m\u001b[38;5;241;43m*\u001b[39;49m\u001b[43margs\u001b[49m\u001b[43m,\u001b[49m\u001b[43m \u001b[49m\u001b[38;5;241;43m*\u001b[39;49m\u001b[38;5;241;43m*\u001b[39;49m\u001b[43mkwargs\u001b[49m\u001b[43m)\u001b[49m\n",
      "File \u001b[0;32m~/.envs/bio/lib/python3.8/site-packages/glmnet/linear.py:453\u001b[0m, in \u001b[0;36mElasticNet.score\u001b[0;34m(self, X, y, lamb)\u001b[0m\n\u001b[1;32m    433\u001b[0m \u001b[38;5;250m\u001b[39m\u001b[38;5;124;03m\"\"\"Returns the coefficient of determination R^2 for each value of lambda.\u001b[39;00m\n\u001b[1;32m    434\u001b[0m \n\u001b[1;32m    435\u001b[0m \u001b[38;5;124;03mParameters\u001b[39;00m\n\u001b[0;32m   (...)\u001b[0m\n\u001b[1;32m    449\u001b[0m \u001b[38;5;124;03m    R^2 of predictions for each lambda.\u001b[39;00m\n\u001b[1;32m    450\u001b[0m \u001b[38;5;124;03m\"\"\"\u001b[39;00m\n\u001b[1;32m    452\u001b[0m \u001b[38;5;66;03m# pred will have shape (n_samples, n_lambda)\u001b[39;00m\n\u001b[0;32m--> 453\u001b[0m pred \u001b[38;5;241m=\u001b[39m \u001b[38;5;28;43mself\u001b[39;49m\u001b[38;5;241;43m.\u001b[39;49m\u001b[43mpredict\u001b[49m\u001b[43m(\u001b[49m\u001b[43mX\u001b[49m\u001b[43m,\u001b[49m\u001b[43m \u001b[49m\u001b[43mlamb\u001b[49m\u001b[38;5;241;43m=\u001b[39;49m\u001b[43mlamb\u001b[49m\u001b[43m)\u001b[49m\n\u001b[1;32m    455\u001b[0m \u001b[38;5;66;03m# Reverse the args of the r2_score function from scikit-learn. The\u001b[39;00m\n\u001b[1;32m    456\u001b[0m \u001b[38;5;66;03m# function np.apply_along_axis passes an array as the first argument to\u001b[39;00m\n\u001b[1;32m    457\u001b[0m \u001b[38;5;66;03m# the provided function and any extra args as the subsequent arguments.\u001b[39;00m\n\u001b[1;32m    458\u001b[0m \u001b[38;5;28;01mdef\u001b[39;00m \u001b[38;5;21mr2_reverse\u001b[39m(y_pred, y_true):\n",
      "File \u001b[0;32m~/.envs/bio/lib/python3.8/site-packages/glmnet/linear.py:430\u001b[0m, in \u001b[0;36mElasticNet.predict\u001b[0;34m(self, X, lamb)\u001b[0m\n\u001b[1;32m    411\u001b[0m \u001b[38;5;28;01mdef\u001b[39;00m \u001b[38;5;21mpredict\u001b[39m(\u001b[38;5;28mself\u001b[39m, X, lamb\u001b[38;5;241m=\u001b[39m\u001b[38;5;28;01mNone\u001b[39;00m):\n\u001b[1;32m    412\u001b[0m \u001b[38;5;250m    \u001b[39m\u001b[38;5;124;03m\"\"\"Predict the response Y for each sample in X\u001b[39;00m\n\u001b[1;32m    413\u001b[0m \n\u001b[1;32m    414\u001b[0m \u001b[38;5;124;03m    Parameters\u001b[39;00m\n\u001b[0;32m   (...)\u001b[0m\n\u001b[1;32m    428\u001b[0m \u001b[38;5;124;03m        Predicted response value for each sample given each value of lambda\u001b[39;00m\n\u001b[1;32m    429\u001b[0m \u001b[38;5;124;03m    \"\"\"\u001b[39;00m\n\u001b[0;32m--> 430\u001b[0m     \u001b[38;5;28;01mreturn\u001b[39;00m \u001b[38;5;28;43mself\u001b[39;49m\u001b[38;5;241;43m.\u001b[39;49m\u001b[43mdecision_function\u001b[49m\u001b[43m(\u001b[49m\u001b[43mX\u001b[49m\u001b[43m,\u001b[49m\u001b[43m \u001b[49m\u001b[43mlamb\u001b[49m\u001b[43m)\u001b[49m\n",
      "File \u001b[0;32m~/.envs/bio/lib/python3.8/site-packages/glmnet/linear.py:398\u001b[0m, in \u001b[0;36mElasticNet.decision_function\u001b[0;34m(self, X, lamb)\u001b[0m\n\u001b[1;32m    395\u001b[0m     lambda_best \u001b[38;5;241m=\u001b[39m \u001b[38;5;28mself\u001b[39m\u001b[38;5;241m.\u001b[39mlambda_best_\n\u001b[1;32m    397\u001b[0m lamb \u001b[38;5;241m=\u001b[39m _check_user_lambda(\u001b[38;5;28mself\u001b[39m\u001b[38;5;241m.\u001b[39mlambda_path_, lambda_best, lamb)\n\u001b[0;32m--> 398\u001b[0m coef, intercept \u001b[38;5;241m=\u001b[39m \u001b[43m_interpolate_model\u001b[49m\u001b[43m(\u001b[49m\u001b[38;5;28;43mself\u001b[39;49m\u001b[38;5;241;43m.\u001b[39;49m\u001b[43mlambda_path_\u001b[49m\u001b[43m,\u001b[49m\n\u001b[1;32m    399\u001b[0m \u001b[43m                                     \u001b[49m\u001b[38;5;28;43mself\u001b[39;49m\u001b[38;5;241;43m.\u001b[39;49m\u001b[43mcoef_path_\u001b[49m\u001b[43m,\u001b[49m\n\u001b[1;32m    400\u001b[0m \u001b[43m                                     \u001b[49m\u001b[38;5;28;43mself\u001b[39;49m\u001b[38;5;241;43m.\u001b[39;49m\u001b[43mintercept_path_\u001b[49m\u001b[43m,\u001b[49m\u001b[43m \u001b[49m\u001b[43mlamb\u001b[49m\u001b[43m)\u001b[49m\n\u001b[1;32m    402\u001b[0m X \u001b[38;5;241m=\u001b[39m check_array(X, accept_sparse\u001b[38;5;241m=\u001b[39m\u001b[38;5;124m'\u001b[39m\u001b[38;5;124mcsr\u001b[39m\u001b[38;5;124m'\u001b[39m)\n\u001b[1;32m    403\u001b[0m z \u001b[38;5;241m=\u001b[39m X\u001b[38;5;241m.\u001b[39mdot(coef) \u001b[38;5;241m+\u001b[39m intercept\n",
      "File \u001b[0;32m~/.envs/bio/lib/python3.8/site-packages/glmnet/util.py:207\u001b[0m, in \u001b[0;36m_interpolate_model\u001b[0;34m(lambda_path, coef_path, intercept_path, lamb)\u001b[0m\n\u001b[1;32m    205\u001b[0m     intercept \u001b[38;5;241m=\u001b[39m np\u001b[38;5;241m.\u001b[39mtake(intercept_path, \u001b[38;5;241m0\u001b[39m, axis\u001b[38;5;241m=\u001b[39m\u001b[38;5;241m-\u001b[39m\u001b[38;5;241m1\u001b[39m)\n\u001b[1;32m    206\u001b[0m \u001b[38;5;28;01melse\u001b[39;00m:\n\u001b[0;32m--> 207\u001b[0m     coef \u001b[38;5;241m=\u001b[39m \u001b[43minterp1d\u001b[49m\u001b[43m(\u001b[49m\u001b[43mlambda_path\u001b[49m\u001b[43m,\u001b[49m\u001b[43m \u001b[49m\u001b[43mcoef_path\u001b[49m\u001b[43m)\u001b[49m\u001b[43m(\u001b[49m\u001b[43mlamb\u001b[49m\u001b[43m)\u001b[49m\n\u001b[1;32m    208\u001b[0m     intercept \u001b[38;5;241m=\u001b[39m interp1d(lambda_path, intercept_path)(lamb)\n\u001b[1;32m    210\u001b[0m \u001b[38;5;28;01mreturn\u001b[39;00m coef, intercept\n",
      "File \u001b[0;32m~/.envs/bio/lib/python3.8/site-packages/scipy/interpolate/_polyint.py:80\u001b[0m, in \u001b[0;36m_Interpolator1D.__call__\u001b[0;34m(self, x)\u001b[0m\n\u001b[1;32m     59\u001b[0m \u001b[38;5;250m\u001b[39m\u001b[38;5;124;03m\"\"\"\u001b[39;00m\n\u001b[1;32m     60\u001b[0m \u001b[38;5;124;03mEvaluate the interpolant\u001b[39;00m\n\u001b[1;32m     61\u001b[0m \n\u001b[0;32m   (...)\u001b[0m\n\u001b[1;32m     77\u001b[0m \n\u001b[1;32m     78\u001b[0m \u001b[38;5;124;03m\"\"\"\u001b[39;00m\n\u001b[1;32m     79\u001b[0m x, x_shape \u001b[38;5;241m=\u001b[39m \u001b[38;5;28mself\u001b[39m\u001b[38;5;241m.\u001b[39m_prepare_x(x)\n\u001b[0;32m---> 80\u001b[0m y \u001b[38;5;241m=\u001b[39m \u001b[38;5;28;43mself\u001b[39;49m\u001b[38;5;241;43m.\u001b[39;49m\u001b[43m_evaluate\u001b[49m\u001b[43m(\u001b[49m\u001b[43mx\u001b[49m\u001b[43m)\u001b[49m\n\u001b[1;32m     81\u001b[0m \u001b[38;5;28;01mreturn\u001b[39;00m \u001b[38;5;28mself\u001b[39m\u001b[38;5;241m.\u001b[39m_finish_y(y, x_shape)\n",
      "File \u001b[0;32m~/.envs/bio/lib/python3.8/site-packages/scipy/interpolate/_interpolate.py:750\u001b[0m, in \u001b[0;36minterp1d._evaluate\u001b[0;34m(self, x_new)\u001b[0m\n\u001b[1;32m    745\u001b[0m \u001b[38;5;28;01mdef\u001b[39;00m \u001b[38;5;21m_evaluate\u001b[39m(\u001b[38;5;28mself\u001b[39m, x_new):\n\u001b[1;32m    746\u001b[0m     \u001b[38;5;66;03m# 1. Handle values in x_new that are outside of x. Throw error,\u001b[39;00m\n\u001b[1;32m    747\u001b[0m     \u001b[38;5;66;03m#    or return a list of mask array indicating the outofbounds values.\u001b[39;00m\n\u001b[1;32m    748\u001b[0m     \u001b[38;5;66;03m#    The behavior is set by the bounds_error variable.\u001b[39;00m\n\u001b[1;32m    749\u001b[0m     x_new \u001b[38;5;241m=\u001b[39m asarray(x_new)\n\u001b[0;32m--> 750\u001b[0m     y_new \u001b[38;5;241m=\u001b[39m \u001b[38;5;28;43mself\u001b[39;49m\u001b[38;5;241;43m.\u001b[39;49m\u001b[43m_call\u001b[49m\u001b[43m(\u001b[49m\u001b[38;5;28;43mself\u001b[39;49m\u001b[43m,\u001b[49m\u001b[43m \u001b[49m\u001b[43mx_new\u001b[49m\u001b[43m)\u001b[49m\n\u001b[1;32m    751\u001b[0m     \u001b[38;5;28;01mif\u001b[39;00m \u001b[38;5;129;01mnot\u001b[39;00m \u001b[38;5;28mself\u001b[39m\u001b[38;5;241m.\u001b[39m_extrapolate:\n\u001b[1;32m    752\u001b[0m         below_bounds, above_bounds \u001b[38;5;241m=\u001b[39m \u001b[38;5;28mself\u001b[39m\u001b[38;5;241m.\u001b[39m_check_bounds(x_new)\n",
      "File \u001b[0;32m~/.envs/bio/lib/python3.8/site-packages/scipy/interpolate/_interpolate.py:698\u001b[0m, in \u001b[0;36minterp1d._call_linear\u001b[0;34m(self, x_new)\u001b[0m\n\u001b[1;32m    694\u001b[0m y_hi \u001b[38;5;241m=\u001b[39m \u001b[38;5;28mself\u001b[39m\u001b[38;5;241m.\u001b[39m_y[hi]\n\u001b[1;32m    696\u001b[0m \u001b[38;5;66;03m# Note that the following two expressions rely on the specifics of the\u001b[39;00m\n\u001b[1;32m    697\u001b[0m \u001b[38;5;66;03m# broadcasting semantics.\u001b[39;00m\n\u001b[0;32m--> 698\u001b[0m slope \u001b[38;5;241m=\u001b[39m (\u001b[43my_hi\u001b[49m\u001b[43m \u001b[49m\u001b[38;5;241;43m-\u001b[39;49m\u001b[43m \u001b[49m\u001b[43my_lo\u001b[49m) \u001b[38;5;241m/\u001b[39m (x_hi \u001b[38;5;241m-\u001b[39m x_lo)[:, \u001b[38;5;28;01mNone\u001b[39;00m]\n\u001b[1;32m    700\u001b[0m \u001b[38;5;66;03m# 5. Calculate the actual value for each entry in x_new.\u001b[39;00m\n\u001b[1;32m    701\u001b[0m y_new \u001b[38;5;241m=\u001b[39m slope\u001b[38;5;241m*\u001b[39m(x_new \u001b[38;5;241m-\u001b[39m x_lo)[:, \u001b[38;5;28;01mNone\u001b[39;00m] \u001b[38;5;241m+\u001b[39m y_lo\n",
      "\u001b[0;31mKeyboardInterrupt\u001b[0m: "
     ]
    }
   ],
   "source": [
    "%%time\n",
    "from epigenetic_clock_assignment import GlmNetEpigeneticClockTrainer\n",
    "\n",
    "clock_trainer = GlmNetEpigeneticClockTrainer(\n",
    "    n_parallel_jobs=1,\n",
    "    n_cv_fold=3,\n",
    "    # the weight of standard error used to determine lambda_best, 0 means use lambda_max (see glmnet.ElasticNet)\n",
    "    std_error_weight_for_lambda_best=0.5,\n",
    "    seed=42\n",
    ")\n",
    "\n",
    "X_train, X_test, y_train, y_test = clock_trainer.train_test_split(X, y, test_size=0.2)\n",
    "\n",
    "hyperparameter_result, hyperparameter_stats, best_model = clock_trainer.hyperparameter_optimization(X_train=X_train, y_train=y_train, alpha_count=10 + 1)\n"
   ]
  },
  {
   "cell_type": "markdown",
   "id": "b8a511ad-3531-4e6a-9b2f-8efe2fbfcfda",
   "metadata": {},
   "source": [
    "# Plot hyperparameter optimization result"
   ]
  },
  {
   "cell_type": "code",
   "execution_count": null,
   "id": "1aba880c-dd65-47c3-91df-d4a131d22af7",
   "metadata": {},
   "outputs": [],
   "source": [
    "clock_trainer.plot_hyperparameter_optimization_result(\n",
    "    hyperparameter_result=hyperparameter_result, \n",
    "    hyperparameter_stats=hyperparameter_stats)"
   ]
  },
  {
   "cell_type": "markdown",
   "id": "d8f4c4c4-1afc-4c4d-853c-a6a624b666d4",
   "metadata": {},
   "source": [
    "# Predict on test data using the best model"
   ]
  },
  {
   "cell_type": "code",
   "execution_count": null,
   "id": "05046d1a-b2c2-4fca-947d-9da6568b6769",
   "metadata": {},
   "outputs": [],
   "source": [
    "best_lambda = hyperparameter_result.lambd\n",
    "best_alpha = hyperparameter_result.alpha\n",
    "\n",
    "print('best_lambda', best_lambda, best_model.lambda_max_, best_model.lambda_best_ , best_model.cut_point)\n",
    "\n",
    "# sanity check\n",
    "assert best_model.alpha == best_alpha\n",
    "assert best_model.lambda_best_ == best_lambda\n",
    "\n",
    "# predict\n",
    "y_pred = best_model.predict(X = X_test, lamb=best_lambda)\n"
   ]
  },
  {
   "cell_type": "markdown",
   "id": "6669601d-f490-48c8-93fd-fb07ce3c5c3d",
   "metadata": {},
   "source": [
    "# Plot linear regression result"
   ]
  },
  {
   "cell_type": "code",
   "execution_count": null,
   "id": "0d18b237-bb0c-49ee-9707-f50cda6ec468",
   "metadata": {},
   "outputs": [],
   "source": [
    "stats = clock_trainer.calculate_statistics(y_true=y_test, y_pred=y_pred)\n",
    "clock_trainer.plot_linear_regression_result(y_true=y_test, y_pred=y_pred, stats=stats, alpha=best_alpha, lamb=best_lambda)\n",
    "\n",
    "print(stats)\n"
   ]
  }
 ],
 "metadata": {
  "kernelspec": {
   "display_name": "bio",
   "language": "python",
   "name": "bio"
  },
  "language_info": {
   "codemirror_mode": {
    "name": "ipython",
    "version": 3
   },
   "file_extension": ".py",
   "mimetype": "text/x-python",
   "name": "python",
   "nbconvert_exporter": "python",
   "pygments_lexer": "ipython3",
   "version": "3.8.18"
  }
 },
 "nbformat": 4,
 "nbformat_minor": 5
}
