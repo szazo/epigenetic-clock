{
 "cells": [
  {
   "cell_type": "markdown",
   "id": "d0f8a0ac-a50a-4ca1-af19-e765a95056ea",
   "metadata": {},
   "source": [
    "# Autoreload and logging config"
   ]
  },
  {
   "cell_type": "code",
   "execution_count": 1,
   "id": "5074d926-f88a-4ad5-b087-46d1dc53bf71",
   "metadata": {
    "execution": {
     "iopub.execute_input": "2024-05-07T14:42:10.509888Z",
     "iopub.status.busy": "2024-05-07T14:42:10.509471Z",
     "iopub.status.idle": "2024-05-07T14:42:10.569901Z",
     "shell.execute_reply": "2024-05-07T14:42:10.568483Z",
     "shell.execute_reply.started": "2024-05-07T14:42:10.509825Z"
    },
    "tags": []
   },
   "outputs": [],
   "source": [
    "# autoreload\n",
    "%load_ext autoreload\n",
    "%autoreload 2\n",
    "\n",
    "# configure logging\n",
    "import logging\n",
    "logging.basicConfig(level=logging.WARNING)\n",
    "logging.getLogger('Assignment2RRBSDataSource').setLevel(logging.DEBUG)\n",
    "logging.getLogger('GlmNetEpigeneticClockTrainer').setLevel(logging.DEBUG)\n",
    "logging.getLogger('download_file').setLevel(logging.DEBUG)"
   ]
  },
  {
   "cell_type": "markdown",
   "id": "9780cae2-9ded-4e4a-85b1-cefbb08831cf",
   "metadata": {},
   "source": [
    "# Download data files"
   ]
  },
  {
   "cell_type": "code",
   "execution_count": 6,
   "id": "111cc112-a74d-4136-b3cb-bc37783e0dc0",
   "metadata": {
    "execution": {
     "iopub.execute_input": "2024-05-07T14:43:39.491004Z",
     "iopub.status.busy": "2024-05-07T14:43:39.490287Z",
     "iopub.status.idle": "2024-05-07T14:47:19.520463Z",
     "shell.execute_reply": "2024-05-07T14:47:19.519547Z",
     "shell.execute_reply.started": "2024-05-07T14:43:39.490939Z"
    },
    "tags": []
   },
   "outputs": [
    {
     "name": "stderr",
     "output_type": "stream",
     "text": [
      "DEBUG:download_file:file data/assignment2/MetaPolished.csv already exists; do not download again\n",
      "DEBUG:download_file:file data/assignment2/FTGenForGenomicCov_MergeStrands.py-cov5.csv-dropna.py-1.0.csv-Format.py.csv does not exists; need to download\n",
      "DEBUG:download_file:creating directory \"data/assignment2\" if does not exists...\n",
      "DEBUG:download_file:downloading...\n"
     ]
    },
    {
     "name": "stdout",
     "output_type": "stream",
     "text": [
      " 99% [..................................................................... ] 737869824 / 738850505"
     ]
    },
    {
     "name": "stderr",
     "output_type": "stream",
     "text": [
      "DEBUG:download_file:ungzipping data/assignment2/FTGenForGenomicCov_MergeStrands.py-cov5.csv-dropna.py-1.0.csv-Format.py.csv.zip...\n",
      "DEBUG:download_file:unzipping data/assignment2/FTGenForGenomicCov_MergeStrands.py-cov5.csv-dropna.py-1.0.csv-Format.py.csv.zip...\n"
     ]
    },
    {
     "name": "stdout",
     "output_type": "stream",
     "text": [
      "100% [......................................................................] 738850505 / 738850505"
     ]
    },
    {
     "name": "stderr",
     "output_type": "stream",
     "text": [
      "DEBUG:download_file:file data/assignment2/FTGenForGenomicCov_MergeStrands.py-cov5.csv-dropna.py-1.0.csv-Format.py.csv ready\n"
     ]
    },
    {
     "name": "stdout",
     "output_type": "stream",
     "text": [
      "CPU times: user 34.4 s, sys: 16.5 s, total: 50.8 s\n",
      "Wall time: 3min 39s\n"
     ]
    }
   ],
   "source": [
    "%%time\n",
    "import os\n",
    "from epigenetic_clock_assignment import download_file\n",
    "\n",
    "data_dir = 'data/assignment2'\n",
    "meta_csv_filepath = os.path.join(data_dir, 'MetaPolished.csv')\n",
    "features_csv_filepath = os.path.join(data_dir, 'FTGenForGenomicCov_MergeStrands.py-cov5.csv-dropna.py-1.0.csv-Format.py.csv')\n",
    "features_zip_filepath = os.path.join(data_dir, 'FTGenForGenomicCov_MergeStrands.py-cov5.csv-dropna.py-1.0.csv-Format.py.csv.zip')\n",
    "\n",
    "# download meta file\n",
    "download_file(url='https://kerepesi.web.elte.hu/bioinf_ora/MetaPolished.csv',\n",
    "              out_filepath=meta_csv_filepath)\n",
    "\n",
    "# download features file if does not exists\n",
    "download_file(url='https://kerepesi.web.elte.hu/bioinf_ora/FTGenForGenomicCov_MergeStrands.py-cov5.csv-dropna.py-1.0.csv-Format.py.csv.zip',\n",
    "              out_filepath=features_csv_filepath, \n",
    "              intermediate_archive_filepath=features_zip_filepath,\n",
    "              archive_format='zip')\n"
   ]
  },
  {
   "cell_type": "markdown",
   "id": "460a889d-c420-4eba-98ee-15f73c636acf",
   "metadata": {},
   "source": [
    "# Load data"
   ]
  },
  {
   "cell_type": "code",
   "execution_count": null,
   "id": "1623f185-e27a-413b-954f-4381ae521e11",
   "metadata": {
    "execution": {
     "iopub.execute_input": "2024-05-07T14:47:26.010188Z",
     "iopub.status.busy": "2024-05-07T14:47:26.009729Z"
    },
    "tags": []
   },
   "outputs": [
    {
     "name": "stderr",
     "output_type": "stream",
     "text": [
      "DEBUG:Assignment2RRBSDataSource:load\n",
      "DEBUG:Assignment2RRBSDataSource:loading \"data/assignment2/FTGenForGenomicCov_MergeStrands.py-cov5.csv-dropna.py-1.0.csv-Format.py.csv\" using dask...\n",
      "DEBUG:Assignment2RRBSDataSource:setting \"Pos\" field as index...\n"
     ]
    }
   ],
   "source": [
    "%%time\n",
    "\n",
    "import os\n",
    "from epigenetic_clock_assignment import Assignment2RRBSDataSource\n",
    "\n",
    "data_source = Assignment2RRBSDataSource(\n",
    "    meta_csv_filepath=meta_csv_filepath,\n",
    "    features_csv_filepath=features_csv_filepath,\n",
    "    features_pickle_cache_filepath=os.path.join(data_dir, 'features_cache.pickle'))\n",
    "\n",
    "X, y, meta_df = data_source.load()\n",
    "\n",
    "print(meta_df)"
   ]
  },
  {
   "cell_type": "markdown",
   "id": "ea18063f-a0d0-4f23-896c-f94c0ea11e69",
   "metadata": {},
   "source": [
    "# Hyperparameter optimization (ElasticNet $\\lambda, \\alpha$)"
   ]
  },
  {
   "cell_type": "code",
   "execution_count": 4,
   "id": "afa84794-d5b0-45c6-814a-aa63f0218a25",
   "metadata": {
    "execution": {
     "iopub.execute_input": "2024-05-07T14:43:35.735383Z",
     "iopub.status.busy": "2024-05-07T14:43:35.735008Z",
     "iopub.status.idle": "2024-05-07T14:43:35.781604Z",
     "shell.execute_reply": "2024-05-07T14:43:35.780335Z",
     "shell.execute_reply.started": "2024-05-07T14:43:35.735342Z"
    },
    "tags": []
   },
   "outputs": [
    {
     "ename": "NameError",
     "evalue": "name 'X' is not defined",
     "output_type": "error",
     "traceback": [
      "\u001b[0;31m---------------------------------------------------------------------------\u001b[0m",
      "\u001b[0;31mNameError\u001b[0m                                 Traceback (most recent call last)",
      "File \u001b[0;32m<timed exec>:11\u001b[0m\n",
      "\u001b[0;31mNameError\u001b[0m: name 'X' is not defined"
     ]
    }
   ],
   "source": [
    "%%time\n",
    "from epigenetic_clock_assignment import GlmNetEpigeneticClockTrainer\n",
    "\n",
    "clock_trainer = GlmNetEpigeneticClockTrainer(\n",
    "    n_parallel_jobs=1,\n",
    "    n_cv_fold=3,\n",
    "    # the weight of standard error used to determine lambda_best, 0 means use lambda_max (see glmnet.ElasticNet)\n",
    "    std_error_weight_for_lambda_best=0.5,\n",
    "    seed=42\n",
    ")\n",
    "\n",
    "X_train, X_test, y_train, y_test, meta_train, meta_test = clock_trainer.train_test_split(X, y, meta_df,\n",
    "                                                                  test_size=0.2)\n",
    "\n",
    "hyperparameter_result, hyperparameter_stats, best_model = clock_trainer.hyperparameter_optimization(\n",
    "    X_train=X_train, \n",
    "    y_train=y_train, \n",
    "    alpha_count= 2 + 1)\n"
   ]
  },
  {
   "cell_type": "markdown",
   "id": "b8a511ad-3531-4e6a-9b2f-8efe2fbfcfda",
   "metadata": {},
   "source": [
    "# Plot hyperparameter optimization result"
   ]
  },
  {
   "cell_type": "code",
   "execution_count": 5,
   "id": "1aba880c-dd65-47c3-91df-d4a131d22af7",
   "metadata": {
    "execution": {
     "iopub.execute_input": "2024-05-07T14:43:35.783284Z",
     "iopub.status.busy": "2024-05-07T14:43:35.782958Z",
     "iopub.status.idle": "2024-05-07T14:43:36.110500Z",
     "shell.execute_reply": "2024-05-07T14:43:36.108433Z",
     "shell.execute_reply.started": "2024-05-07T14:43:35.783251Z"
    }
   },
   "outputs": [
    {
     "ename": "NameError",
     "evalue": "name 'hyperparameter_result' is not defined",
     "output_type": "error",
     "traceback": [
      "\u001b[0;31m---------------------------------------------------------------------------\u001b[0m",
      "\u001b[0;31mNameError\u001b[0m                                 Traceback (most recent call last)",
      "Cell \u001b[0;32mIn[5], line 2\u001b[0m\n\u001b[1;32m      1\u001b[0m clock_trainer\u001b[38;5;241m.\u001b[39mplot_hyperparameter_optimization_result(\n\u001b[0;32m----> 2\u001b[0m     hyperparameter_result\u001b[38;5;241m=\u001b[39m\u001b[43mhyperparameter_result\u001b[49m, \n\u001b[1;32m      3\u001b[0m     hyperparameter_stats\u001b[38;5;241m=\u001b[39mhyperparameter_stats)\n",
      "\u001b[0;31mNameError\u001b[0m: name 'hyperparameter_result' is not defined"
     ]
    }
   ],
   "source": [
    "clock_trainer.plot_hyperparameter_optimization_result(\n",
    "    hyperparameter_result=hyperparameter_result, \n",
    "    hyperparameter_stats=hyperparameter_stats)"
   ]
  },
  {
   "cell_type": "markdown",
   "id": "d8f4c4c4-1afc-4c4d-853c-a6a624b666d4",
   "metadata": {},
   "source": [
    "# Predict on test data using the best model"
   ]
  },
  {
   "cell_type": "code",
   "execution_count": null,
   "id": "05046d1a-b2c2-4fca-947d-9da6568b6769",
   "metadata": {
    "execution": {
     "iopub.status.busy": "2024-05-07T14:43:36.111355Z",
     "iopub.status.idle": "2024-05-07T14:43:36.111842Z",
     "shell.execute_reply": "2024-05-07T14:43:36.111641Z",
     "shell.execute_reply.started": "2024-05-07T14:43:36.111619Z"
    }
   },
   "outputs": [],
   "source": [
    "best_lambda = hyperparameter_result.lambd\n",
    "best_alpha = hyperparameter_result.alpha\n",
    "\n",
    "# sanity check\n",
    "assert best_model.alpha == best_alpha\n",
    "assert best_model.lambda_best_ == best_lambda\n",
    "\n",
    "# predict\n",
    "y_test_pred = best_model.predict(X = X_test, lamb=best_lambda)\n"
   ]
  },
  {
   "cell_type": "markdown",
   "id": "6669601d-f490-48c8-93fd-fb07ce3c5c3d",
   "metadata": {},
   "source": [
    "# Plot linear regression result on test data"
   ]
  },
  {
   "cell_type": "code",
   "execution_count": null,
   "id": "83d50a8d-253e-4bdd-b6eb-e021a298e0dc",
   "metadata": {},
   "outputs": [],
   "source": []
  },
  {
   "cell_type": "code",
   "execution_count": null,
   "id": "e6104756-72e6-4b6e-862f-9c73ace10ec2",
   "metadata": {},
   "outputs": [],
   "source": []
  },
  {
   "cell_type": "code",
   "execution_count": null,
   "id": "0d18b237-bb0c-49ee-9707-f50cda6ec468",
   "metadata": {
    "execution": {
     "iopub.status.busy": "2024-05-07T14:43:36.113027Z",
     "iopub.status.idle": "2024-05-07T14:43:36.113495Z",
     "shell.execute_reply": "2024-05-07T14:43:36.113291Z",
     "shell.execute_reply.started": "2024-05-07T14:43:36.113271Z"
    }
   },
   "outputs": [],
   "source": [
    "test_stats = clock_trainer.calculate_statistics(y_true=y_test, y_pred=y_test_pred)\n",
    "clock_trainer.plot_linear_regression_result(\n",
    "    y_true=y_test, \n",
    "    y_pred=y_test_pred, \n",
    "    stats=test_stats, \n",
    "    alpha=best_alpha, \n",
    "    lamb=best_lambda,\n",
    "    title_prefix='Test set',\n",
    "    hue=meta_test['Condition'],\n",
    "    style=meta_test['Gender'])\n",
    "\n",
    "print(test_stats)\n"
   ]
  },
  {
   "cell_type": "code",
   "execution_count": null,
   "id": "77de0bea-19f5-4afc-818d-5012339f048b",
   "metadata": {
    "execution": {
     "iopub.status.busy": "2024-05-07T14:43:36.115806Z",
     "iopub.status.idle": "2024-05-07T14:43:36.116404Z",
     "shell.execute_reply": "2024-05-07T14:43:36.116135Z",
     "shell.execute_reply.started": "2024-05-07T14:43:36.116110Z"
    }
   },
   "outputs": [],
   "source": [
    "# predict\n",
    "y_pred = best_model.predict(X = X, lamb=best_lambda)\n"
   ]
  },
  {
   "cell_type": "code",
   "execution_count": null,
   "id": "4437f961-f5a9-4ec5-adc0-d11a0e8d1dda",
   "metadata": {
    "execution": {
     "iopub.status.busy": "2024-05-07T14:43:36.118069Z",
     "iopub.status.idle": "2024-05-07T14:43:36.118778Z",
     "shell.execute_reply": "2024-05-07T14:43:36.118449Z",
     "shell.execute_reply.started": "2024-05-07T14:43:36.118416Z"
    }
   },
   "outputs": [],
   "source": [
    "stats = clock_trainer.calculate_statistics(y_true=y, y_pred=y_pred)\n",
    "clock_trainer.plot_linear_regression_result(\n",
    "    y_true=y, \n",
    "    y_pred=y_pred, \n",
    "    stats=test_stats, \n",
    "    alpha=best_alpha, \n",
    "    lamb=best_lambda,\n",
    "    title_prefix='All instances',\n",
    "    hue=meta_df['Condition'],\n",
    "    style=meta_df['Gender'])\n",
    "\n"
   ]
  },
  {
   "cell_type": "code",
   "execution_count": null,
   "id": "e7287fbb-0c61-46e1-af61-5520d371d17e",
   "metadata": {
    "execution": {
     "iopub.status.busy": "2024-05-07T14:43:36.120748Z",
     "iopub.status.idle": "2024-05-07T14:43:36.121813Z",
     "shell.execute_reply": "2024-05-07T14:43:36.121550Z",
     "shell.execute_reply.started": "2024-05-07T14:43:36.121519Z"
    }
   },
   "outputs": [],
   "source": [
    "import seaborn as sns\n",
    "import scipy.stats as scipystats\n",
    "import pandas as pd\n",
    "import matplotlib.pyplot as plt\n",
    "from statannotations.Annotator import Annotator\n",
    "\n",
    "order = ['Healthy', 'MDD', 'SA']\n",
    "fig, ax = plt.subplots()\n",
    "\n",
    "plotting_parameters = {\n",
    "    'x': meta_df['Condition'],\n",
    "    'y': stats.age_acceleration,\n",
    "    'order': order\n",
    "}\n",
    "\n",
    "sns.boxplot(ax=ax, **plotting_parameters)\n",
    "\n",
    "meta_with_stats_df = meta_df.copy()\n",
    "meta_with_stats_df['age_acceleration'] = stats.age_acceleration\n",
    "meta_with_stats_df['delta_age'] = stats.delta_age\n",
    "meta_with_stats_df['age'] = y\n",
    "meta_with_stats_df['pred_age'] = y_pred\n",
    "print(meta_with_stats_df)\n",
    "\n",
    "print(meta_df.groupby('Condition').count())\n",
    "\n",
    "def check_normality(x: pd.Series):\n",
    "    res = scipystats.shapiro(x) \n",
    "    return res.pvalue\n",
    "\n",
    "print(meta_with_stats_df['age_acceleration'].agg(is_normal_p_value=lambda x: check_normality(x)))\n",
    "\n",
    "print(meta_with_stats_df.groupby('Condition')['age_acceleration'].agg(is_normal_p_value=lambda x: check_normality(x)))\n",
    "# age acceleration is not normally distributed\n",
    "\n",
    "print('age is normal', meta_with_stats_df.groupby('Condition')['age'].agg(is_normal_p_value=lambda x: check_normality(x)))\n",
    "print('age is normal in whole dataset', meta_with_stats_df['age'].agg(is_normal_p_value=lambda x: check_normality(x)))\n",
    "\n",
    "\n",
    "\n",
    "# non normally distributed, we will use Mann-Whitney-Wilcoxon\n",
    "\n",
    "condition_groupby = meta_with_stats_df.groupby('Condition')\n",
    "healthy_group = condition_groupby.get_group('Healthy')\n",
    "mdd_group = condition_groupby.get_group('MDD')\n",
    "sa_group = condition_groupby.get_group('SA')\n",
    "\n",
    "healthy_vs_mdd = scipystats.mannwhitneyu(healthy_group['age_acceleration'], mdd_group['age_acceleration'])\n",
    "healthy_vs_sa = scipystats.mannwhitneyu(healthy_group['age_acceleration'], sa_group['age_acceleration'])\n",
    "mdd_vs_sa = scipystats.mannwhitneyu(mdd_group['age_acceleration'], sa_group['age_acceleration'])\n",
    "print('healthy_vs_mdd', healthy_vs_mdd)\n",
    "print('healthy_vs_sa', healthy_vs_sa)\n",
    "print('mdd_vs_sa', mdd_vs_sa)\n",
    "# TODO: https://levelup.gitconnected.com/statistics-on-seaborn-plots-with-statannotations-2bfce0394c00\n",
    "\n",
    "pairs = [('Healthy', 'MDD'), ('Healthy', 'SA'), ('MDD', 'SA')]\n",
    "\n",
    "annotator = Annotator(ax, pairs, **plotting_parameters)\n",
    "#annotator.set_custom_annotations(['1', '2', '3'])\n",
    "annotator.configure(text_format=\"simple\", test_short_name='Mann-Whitney-Wilcoxon')\n",
    "annotator.set_pvalues([healthy_vs_mdd.pvalue, healthy_vs_sa.pvalue, mdd_vs_sa.pvalue])\n",
    "annotator.annotate()\n",
    "ax.set_ylabel('Age acceleration')\n",
    "plt.show()\n",
    "\n",
    "sns.histplot(data=meta_with_stats_df, x='age', hue='Condition', multiple='stack')\n",
    "plt.show()\n"
   ]
  },
  {
   "cell_type": "code",
   "execution_count": null,
   "id": "6de9d221-1737-4e95-939b-1bc92346ea38",
   "metadata": {
    "execution": {
     "iopub.status.busy": "2024-05-07T14:43:36.123041Z",
     "iopub.status.idle": "2024-05-07T14:43:36.123473Z",
     "shell.execute_reply": "2024-05-07T14:43:36.123280Z",
     "shell.execute_reply.started": "2024-05-07T14:43:36.123261Z"
    }
   },
   "outputs": [],
   "source": [
    "pd.__version__"
   ]
  },
  {
   "cell_type": "code",
   "execution_count": null,
   "id": "783a4e2c-e30d-4f93-8cc2-e2be9defc1c1",
   "metadata": {
    "execution": {
     "iopub.status.busy": "2024-05-07T14:43:36.124985Z",
     "iopub.status.idle": "2024-05-07T14:43:36.125408Z",
     "shell.execute_reply": "2024-05-07T14:43:36.125223Z",
     "shell.execute_reply.started": "2024-05-07T14:43:36.125203Z"
    },
    "tags": []
   },
   "outputs": [],
   "source": [
    "from IPython.display import display\n",
    "# match\n",
    "\n",
    "#print(healthy_group, type(healthy_group))\n",
    "\n",
    "#healthy_group.sort_values('age')\n",
    "\n",
    "healthy_mdd_merged = pd.merge_asof(healthy_group.rename(columns={'age':'age_healthy'}).sort_values('age_healthy'), mdd_group.rename(columns={'age':'age_mdd'}).sort_values('age_mdd'), \n",
    "                                   right_on='age_mdd', left_on='age_healthy',\n",
    "                                   suffixes=('_healthy', '_mdd'), direction='nearest', tolerance=0)\n",
    "\n",
    "healthy_mdd_merged = healthy_mdd_merged.dropna()\n",
    "#alma = pd.DataFrame()\n",
    "#alma['age'] = healthy_mdd_merged['age']\n",
    "#alma['age_acceleration_healthy'] = healthy_mdd_merged['age_acceleration_healthy']\n",
    "#healthy_mdd_merged = healthy_mdd_merged.reset_index(drop=True)\n",
    "\n",
    "\n",
    "healthy_mdd_sa_merged = pd.merge_asof(left=healthy_mdd_merged.sort_values('age_healthy'), right=sa_group.rename(columns={'age':'age_sa', 'delta_age':'delta_age_sa', 'age_acceleration': 'age_acceleration_sa'}) .sort_values('age_sa'), \n",
    "                                   right_on='age_sa', left_on='age_healthy',\n",
    "                                    direction='nearest', tolerance=0)\n",
    "\n",
    "healthy_mdd_sa_merged = healthy_mdd_sa_merged[['age_healthy', 'age_mdd', 'age_sa',\n",
    "                                               'delta_age_healthy', 'delta_age_mdd', 'delta_age_sa',\n",
    "                                              'age_acceleration_healthy', 'age_acceleration_mdd', 'age_acceleration_sa']]\n",
    "healthy_mdd_sa_merged = healthy_mdd_sa_merged.dropna()\n",
    "#print('healthy_mdd_merged')\n",
    "#with pd.option_context('display.max_rows', None, ):\n",
    "#    display(healthy_mdd_merged)\n",
    "\n",
    "controlled_dfs = []\n",
    "\n",
    "class_names = ['Healthy', 'MDD', 'SA']\n",
    "for i, cls in enumerate(['healthy', 'mdd', 'sa']):\n",
    "    controlled_df = healthy_mdd_sa_merged[[f'age_{cls}', f'delta_age_{cls}', f'age_acceleration_{cls}']]\n",
    "    controlled_df = controlled_df.assign(Condition=class_names[i])\n",
    "    controlled_df = controlled_df.rename(columns={f'age_{cls}': 'age', f'delta_age_{cls}': 'delta_age', f'age_acceleration_{cls}': 'age_acceleration'})\n",
    "    controlled_dfs.append(controlled_df)\n",
    "    \n",
    "merged_controlled_dfs = pd.concat(controlled_dfs)\n",
    "\n",
    "#controlled_healthy_df = healthy_mdd_sa_merged[['age_healthy', 'delta_age_healthy', 'age_acceleration_healthy']]\n",
    "#controlled_healthy_df = controlled_healthy_df.assign(Condition='Healthy')\n",
    "\n",
    "#controlled_mdd_df = healthy_mdd_sa_merged[['age_mdd', 'delta_age_mdd', 'age_acceleration_mdd']]\n",
    "#controlled_mdd_df = controlled_mdd_df.assign(Condition= 'MDD')\n",
    "\n",
    "#controlled_sa_df = healthy_mdd_sa_merged[['age_sa', 'delta_age_sa', 'age_acceleration_sa']]\n",
    "#controlled_sa_df = controlled_sa_df.assign(Condition= 'SA')\n",
    "\n",
    "\n",
    "print('healthy_mdd_sa_merged')\n",
    "with pd.option_context('display.max_rows', None, ):\n",
    "    display(merged_controlled_dfs)\n",
    "\n",
    "#print(type(healthy_mdd_merged))\n",
    "\n",
    "order = ['Healthy', 'MDD', 'SA']\n",
    "fig, ax = plt.subplots()\n",
    "\n",
    "plotting_parameters = {\n",
    "    'x': merged_controlled_dfs['Condition'],\n",
    "    'y': merged_controlled_dfs['age_acceleration'],\n",
    "    'order': order\n",
    "}\n",
    "\n",
    "sns.boxplot(ax=ax, **plotting_parameters)\n",
    "\n",
    "condition_groupby = merged_controlled_dfs.groupby('Condition')\n",
    "healthy_group = condition_groupby.get_group('Healthy')\n",
    "mdd_group = condition_groupby.get_group('MDD')\n",
    "sa_group = condition_groupby.get_group('SA')\n",
    "\n",
    "healthy_vs_mdd = scipystats.mannwhitneyu(healthy_group['age_acceleration'], mdd_group['age_acceleration'])\n",
    "healthy_vs_sa = scipystats.mannwhitneyu(healthy_group['age_acceleration'], sa_group['age_acceleration'])\n",
    "mdd_vs_sa = scipystats.mannwhitneyu(mdd_group['age_acceleration'], sa_group['age_acceleration'])\n",
    "print('healthy_vs_mdd', healthy_vs_mdd)\n",
    "print('healthy_vs_sa', healthy_vs_sa)\n",
    "print('mdd_vs_sa', mdd_vs_sa)\n",
    "\n",
    "\n",
    "annotator = Annotator(ax, pairs, **plotting_parameters)\n",
    "#annotator.set_custom_annotations(['1', '2', '3'])\n",
    "annotator.configure(text_format=\"simple\", test_short_name='Mann-Whitney-Wilcoxon')\n",
    "annotator.set_pvalues([healthy_vs_mdd.pvalue, healthy_vs_sa.pvalue, mdd_vs_sa.pvalue])\n",
    "annotator.annotate()\n",
    "ax.set_ylabel('Age acceleration')\n",
    "plt.show()\n",
    "\n",
    "\n",
    "#healthy_group = condition_groupby.get_group('Healthy')\n",
    "#mdd_group = condition_groupby.get_group('MDD')\n",
    "#sa_group = condition_groupby.get_group('SA')\n",
    "\n"
   ]
  }
 ],
 "metadata": {
  "kernelspec": {
   "display_name": "bio",
   "language": "python",
   "name": "bio"
  },
  "language_info": {
   "codemirror_mode": {
    "name": "ipython",
    "version": 3
   },
   "file_extension": ".py",
   "mimetype": "text/x-python",
   "name": "python",
   "nbconvert_exporter": "python",
   "pygments_lexer": "ipython3",
   "version": "3.8.18"
  }
 },
 "nbformat": 4,
 "nbformat_minor": 5
}
