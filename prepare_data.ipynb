{
 "cells": [
  {
   "cell_type": "code",
   "execution_count": 1,
   "id": "849df915-55bc-4979-b507-e59f95be0f19",
   "metadata": {
    "execution": {
     "iopub.execute_input": "2024-05-10T14:47:20.893058Z",
     "iopub.status.busy": "2024-05-10T14:47:20.892365Z",
     "iopub.status.idle": "2024-05-10T14:47:20.950170Z",
     "shell.execute_reply": "2024-05-10T14:47:20.947681Z",
     "shell.execute_reply.started": "2024-05-10T14:47:20.892993Z"
    },
    "tags": []
   },
   "outputs": [],
   "source": [
    "# autoreload\n",
    "%load_ext autoreload\n",
    "%autoreload 2\n",
    "\n",
    "# configure logging\n",
    "import logging\n",
    "logging.basicConfig(level=logging.WARNING)\n",
    "logging.getLogger('Assignment2RRBSDataSource').setLevel(logging.DEBUG)\n",
    "logging.getLogger('GlmNetEpigeneticClockTrainer').setLevel(logging.DEBUG)\n",
    "logging.getLogger('download_file').setLevel(logging.DEBUG)"
   ]
  },
  {
   "cell_type": "code",
   "execution_count": 2,
   "id": "19cba046-4544-4518-9799-0385cc0d8396",
   "metadata": {
    "execution": {
     "iopub.execute_input": "2024-05-10T14:47:22.834737Z",
     "iopub.status.busy": "2024-05-10T14:47:22.833244Z",
     "iopub.status.idle": "2024-05-10T14:47:25.223292Z",
     "shell.execute_reply": "2024-05-10T14:47:25.221994Z",
     "shell.execute_reply.started": "2024-05-10T14:47:22.834667Z"
    },
    "tags": []
   },
   "outputs": [
    {
     "name": "stderr",
     "output_type": "stream",
     "text": [
      "DEBUG:download_file:file data/assignment2/FTGenForGenomicCov.py-cov5.csv already exists; do not download again\n"
     ]
    },
    {
     "name": "stdout",
     "output_type": "stream",
     "text": [
      "CPU times: user 2.34 s, sys: 2.06 s, total: 4.4 s\n",
      "Wall time: 2.34 s\n"
     ]
    }
   ],
   "source": [
    "%%time\n",
    "import os\n",
    "from epigenetic_clock_assignment import download_file\n",
    "\n",
    "data_dir = 'data/assignment2'\n",
    "meta_csv_filepath = os.path.join(data_dir, 'MetaPolished.csv')\n",
    "features_csv_filepath = os.path.join(data_dir, 'FTGenForGenomicCov.py-cov5.csv')\n",
    "features_zip_filepath = os.path.join(data_dir, 'FTGenForGenomicCov.py-cov5.csv.zip')\n",
    "\n",
    "# download features file if does not exists\n",
    "download_file(url='https://kerepesi.web.elte.hu/bioinf_ora/FTGenForGenomicCov.py-cov5.csv.zip',\n",
    "              out_filepath=features_csv_filepath, \n",
    "              intermediate_archive_filepath=features_zip_filepath,\n",
    "              archive_format='zip')\n",
    "\n",
    "\n"
   ]
  },
  {
   "cell_type": "code",
   "execution_count": 3,
   "id": "e662db78-6679-48bc-80cd-e071efce8b68",
   "metadata": {
    "execution": {
     "iopub.execute_input": "2024-05-10T14:47:26.097211Z",
     "iopub.status.busy": "2024-05-10T14:47:26.096575Z",
     "iopub.status.idle": "2024-05-10T14:47:26.204081Z",
     "shell.execute_reply": "2024-05-10T14:47:26.202259Z",
     "shell.execute_reply.started": "2024-05-10T14:47:26.097150Z"
    },
    "tags": []
   },
   "outputs": [
    {
     "name": "stderr",
     "output_type": "stream",
     "text": [
      "DEBUG:Assignment2RRBSDataSource:loading \"data/assignment2/FTGenForGenomicCov.py-cov5.csv\" using dask...\n"
     ]
    },
    {
     "name": "stdout",
     "output_type": "stream",
     "text": [
      "CPU times: user 48.5 ms, sys: 4.26 ms, total: 52.7 ms\n",
      "Wall time: 51.2 ms\n"
     ]
    }
   ],
   "source": [
    "%%time\n",
    "\n",
    "import os\n",
    "from epigenetic_clock_assignment import Assignment2RRBSDataSource\n",
    "\n",
    "data_source = Assignment2RRBSDataSource(\n",
    "    meta_csv_filepath=meta_csv_filepath,\n",
    "    features_csv_filepath=features_csv_filepath,\n",
    "    features_pickle_cache_filepath=os.path.join(data_dir, 'features_cache.pickle'))\n",
    "\n",
    "df = data_source.load_features_from_csv4()\n"
   ]
  },
  {
   "cell_type": "code",
   "execution_count": 4,
   "id": "f790400d-d66d-4f0a-a905-4d63ccf05ce9",
   "metadata": {
    "execution": {
     "iopub.execute_input": "2024-05-10T14:47:29.542792Z",
     "iopub.status.busy": "2024-05-10T14:47:29.542113Z",
     "iopub.status.idle": "2024-05-10T14:47:29.614689Z",
     "shell.execute_reply": "2024-05-10T14:47:29.612387Z",
     "shell.execute_reply.started": "2024-05-10T14:47:29.542732Z"
    },
    "tags": []
   },
   "outputs": [
    {
     "data": {
      "text/plain": [
       "Pos            object\n",
       "SRR9190430    float64\n",
       "SRR9190431    float64\n",
       "SRR9190432    float64\n",
       "SRR9190433    float64\n",
       "               ...   \n",
       "SRR9190788    float64\n",
       "SRR9190789    float64\n",
       "SRR9190790    float64\n",
       "SRR9190791    float64\n",
       "SRR9190792    float64\n",
       "Length: 183, dtype: object"
      ]
     },
     "execution_count": 4,
     "metadata": {},
     "output_type": "execute_result"
    }
   ],
   "source": [
    "df.dtypes"
   ]
  },
  {
   "cell_type": "code",
   "execution_count": 9,
   "id": "d2a4e09e-1a56-4365-b633-94942de2df6d",
   "metadata": {
    "execution": {
     "iopub.execute_input": "2024-05-10T14:51:50.971556Z",
     "iopub.status.busy": "2024-05-10T14:51:50.970881Z",
     "iopub.status.idle": "2024-05-10T14:51:53.134721Z",
     "shell.execute_reply": "2024-05-10T14:51:53.133118Z",
     "shell.execute_reply.started": "2024-05-10T14:51:50.971495Z"
    },
    "tags": []
   },
   "outputs": [
    {
     "ename": "NotImplementedError",
     "evalue": "fillna with set limit and method=None",
     "output_type": "error",
     "traceback": [
      "\u001b[0;31m---------------------------------------------------------------------------\u001b[0m",
      "\u001b[0;31mNotImplementedError\u001b[0m                       Traceback (most recent call last)",
      "Cell \u001b[0;32mIn[9], line 1\u001b[0m\n\u001b[0;32m----> 1\u001b[0m withna \u001b[38;5;241m=\u001b[39m \u001b[43mdf\u001b[49m\u001b[38;5;241;43m.\u001b[39;49m\u001b[43mfillna\u001b[49m\u001b[43m(\u001b[49m\u001b[43mvalue\u001b[49m\u001b[38;5;241;43m=\u001b[39;49m\u001b[38;5;241;43m42\u001b[39;49m\u001b[43m,\u001b[49m\u001b[43m \u001b[49m\u001b[43maxis\u001b[49m\u001b[38;5;241;43m=\u001b[39;49m\u001b[38;5;241;43m1\u001b[39;49m\u001b[43m,\u001b[49m\u001b[43m \u001b[49m\u001b[43mlimit\u001b[49m\u001b[38;5;241;43m=\u001b[39;49m\u001b[38;5;241;43m1\u001b[39;49m\u001b[43m)\u001b[49m\n",
      "File \u001b[0;32m~/.envs/bio/lib/python3.8/site-packages/dask/dataframe/core.py:1658\u001b[0m, in \u001b[0;36m_Frame.fillna\u001b[0;34m(self, value, method, limit, axis)\u001b[0m\n\u001b[1;32m   1656\u001b[0m axis \u001b[38;5;241m=\u001b[39m \u001b[38;5;28mself\u001b[39m\u001b[38;5;241m.\u001b[39m_validate_axis(axis)\n\u001b[1;32m   1657\u001b[0m \u001b[38;5;28;01mif\u001b[39;00m method \u001b[38;5;129;01mis\u001b[39;00m \u001b[38;5;28;01mNone\u001b[39;00m \u001b[38;5;129;01mand\u001b[39;00m limit \u001b[38;5;129;01mis\u001b[39;00m \u001b[38;5;129;01mnot\u001b[39;00m \u001b[38;5;28;01mNone\u001b[39;00m:\n\u001b[0;32m-> 1658\u001b[0m     \u001b[38;5;28;01mraise\u001b[39;00m \u001b[38;5;167;01mNotImplementedError\u001b[39;00m(\u001b[38;5;124m\"\u001b[39m\u001b[38;5;124mfillna with set limit and method=None\u001b[39m\u001b[38;5;124m\"\u001b[39m)\n\u001b[1;32m   1659\u001b[0m \u001b[38;5;28;01mif\u001b[39;00m \u001b[38;5;28misinstance\u001b[39m(value, (_Frame, Scalar)):\n\u001b[1;32m   1660\u001b[0m     test_value \u001b[38;5;241m=\u001b[39m value\u001b[38;5;241m.\u001b[39m_meta_nonempty\n",
      "\u001b[0;31mNotImplementedError\u001b[0m: fillna with set limit and method=None"
     ]
    }
   ],
   "source": [
    "withna = df.fillna(value=42, axis=1, limit=1)"
   ]
  },
  {
   "cell_type": "code",
   "execution_count": 7,
   "id": "87e8628d-4632-47d4-a62a-f0333ad816e2",
   "metadata": {
    "execution": {
     "iopub.execute_input": "2024-05-10T14:48:11.266994Z",
     "iopub.status.busy": "2024-05-10T14:48:11.266291Z",
     "iopub.status.idle": "2024-05-10T14:51:27.081247Z",
     "shell.execute_reply": "2024-05-10T14:51:27.065795Z",
     "shell.execute_reply.started": "2024-05-10T14:48:11.266933Z"
    },
    "tags": []
   },
   "outputs": [],
   "source": [
    "df_result = withna.compute()\n"
   ]
  },
  {
   "cell_type": "code",
   "execution_count": 8,
   "id": "733eeeea-f55f-4c39-aec8-eaf11c8fd85b",
   "metadata": {
    "execution": {
     "iopub.execute_input": "2024-05-10T14:51:36.626650Z",
     "iopub.status.busy": "2024-05-10T14:51:36.624891Z",
     "iopub.status.idle": "2024-05-10T14:51:37.103530Z",
     "shell.execute_reply": "2024-05-10T14:51:37.101858Z",
     "shell.execute_reply.started": "2024-05-10T14:51:36.626525Z"
    },
    "tags": []
   },
   "outputs": [
    {
     "data": {
      "text/html": [
       "<div>\n",
       "<style scoped>\n",
       "    .dataframe tbody tr th:only-of-type {\n",
       "        vertical-align: middle;\n",
       "    }\n",
       "\n",
       "    .dataframe tbody tr th {\n",
       "        vertical-align: top;\n",
       "    }\n",
       "\n",
       "    .dataframe thead th {\n",
       "        text-align: right;\n",
       "    }\n",
       "</style>\n",
       "<table border=\"1\" class=\"dataframe\">\n",
       "  <thead>\n",
       "    <tr style=\"text-align: right;\">\n",
       "      <th></th>\n",
       "      <th>Pos</th>\n",
       "      <th>SRR9190430</th>\n",
       "      <th>SRR9190431</th>\n",
       "      <th>SRR9190432</th>\n",
       "      <th>SRR9190433</th>\n",
       "      <th>SRR9190434</th>\n",
       "      <th>SRR9190435</th>\n",
       "      <th>SRR9190436</th>\n",
       "      <th>SRR9190437</th>\n",
       "      <th>SRR9190438</th>\n",
       "      <th>...</th>\n",
       "      <th>SRR9190783</th>\n",
       "      <th>SRR9190784</th>\n",
       "      <th>SRR9190785</th>\n",
       "      <th>SRR9190786</th>\n",
       "      <th>SRR9190787</th>\n",
       "      <th>SRR9190788</th>\n",
       "      <th>SRR9190789</th>\n",
       "      <th>SRR9190790</th>\n",
       "      <th>SRR9190791</th>\n",
       "      <th>SRR9190792</th>\n",
       "    </tr>\n",
       "  </thead>\n",
       "  <tbody>\n",
       "    <tr>\n",
       "      <th>0</th>\n",
       "      <td>10_100001655</td>\n",
       "      <td>42.0</td>\n",
       "      <td>42.0</td>\n",
       "      <td>42.0</td>\n",
       "      <td>42.0</td>\n",
       "      <td>42.0</td>\n",
       "      <td>42.0</td>\n",
       "      <td>42.0</td>\n",
       "      <td>42.0</td>\n",
       "      <td>42.0</td>\n",
       "      <td>...</td>\n",
       "      <td>42.0</td>\n",
       "      <td>42.0</td>\n",
       "      <td>42.0</td>\n",
       "      <td>42.0</td>\n",
       "      <td>42.0</td>\n",
       "      <td>42.0</td>\n",
       "      <td>42.0</td>\n",
       "      <td>42.0</td>\n",
       "      <td>42.0</td>\n",
       "      <td>42.0</td>\n",
       "    </tr>\n",
       "    <tr>\n",
       "      <th>1</th>\n",
       "      <td>10_100001659</td>\n",
       "      <td>42.0</td>\n",
       "      <td>42.0</td>\n",
       "      <td>42.0</td>\n",
       "      <td>42.0</td>\n",
       "      <td>42.0</td>\n",
       "      <td>42.0</td>\n",
       "      <td>42.0</td>\n",
       "      <td>42.0</td>\n",
       "      <td>42.0</td>\n",
       "      <td>...</td>\n",
       "      <td>42.0</td>\n",
       "      <td>42.0</td>\n",
       "      <td>42.0</td>\n",
       "      <td>42.0</td>\n",
       "      <td>42.0</td>\n",
       "      <td>42.0</td>\n",
       "      <td>42.0</td>\n",
       "      <td>42.0</td>\n",
       "      <td>42.0</td>\n",
       "      <td>42.0</td>\n",
       "    </tr>\n",
       "    <tr>\n",
       "      <th>2</th>\n",
       "      <td>10_100001680</td>\n",
       "      <td>42.0</td>\n",
       "      <td>42.0</td>\n",
       "      <td>42.0</td>\n",
       "      <td>42.0</td>\n",
       "      <td>42.0</td>\n",
       "      <td>42.0</td>\n",
       "      <td>42.0</td>\n",
       "      <td>42.0</td>\n",
       "      <td>42.0</td>\n",
       "      <td>...</td>\n",
       "      <td>42.0</td>\n",
       "      <td>42.0</td>\n",
       "      <td>42.0</td>\n",
       "      <td>42.0</td>\n",
       "      <td>42.0</td>\n",
       "      <td>42.0</td>\n",
       "      <td>42.0</td>\n",
       "      <td>42.0</td>\n",
       "      <td>42.0</td>\n",
       "      <td>42.0</td>\n",
       "    </tr>\n",
       "    <tr>\n",
       "      <th>3</th>\n",
       "      <td>10_100001702</td>\n",
       "      <td>42.0</td>\n",
       "      <td>42.0</td>\n",
       "      <td>42.0</td>\n",
       "      <td>42.0</td>\n",
       "      <td>42.0</td>\n",
       "      <td>42.0</td>\n",
       "      <td>42.0</td>\n",
       "      <td>42.0</td>\n",
       "      <td>42.0</td>\n",
       "      <td>...</td>\n",
       "      <td>42.0</td>\n",
       "      <td>42.0</td>\n",
       "      <td>42.0</td>\n",
       "      <td>42.0</td>\n",
       "      <td>42.0</td>\n",
       "      <td>42.0</td>\n",
       "      <td>42.0</td>\n",
       "      <td>42.0</td>\n",
       "      <td>42.0</td>\n",
       "      <td>42.0</td>\n",
       "    </tr>\n",
       "    <tr>\n",
       "      <th>4</th>\n",
       "      <td>10_100001706</td>\n",
       "      <td>42.0</td>\n",
       "      <td>42.0</td>\n",
       "      <td>42.0</td>\n",
       "      <td>42.0</td>\n",
       "      <td>42.0</td>\n",
       "      <td>42.0</td>\n",
       "      <td>42.0</td>\n",
       "      <td>42.0</td>\n",
       "      <td>42.0</td>\n",
       "      <td>...</td>\n",
       "      <td>42.0</td>\n",
       "      <td>42.0</td>\n",
       "      <td>42.0</td>\n",
       "      <td>42.0</td>\n",
       "      <td>42.0</td>\n",
       "      <td>42.0</td>\n",
       "      <td>42.0</td>\n",
       "      <td>42.0</td>\n",
       "      <td>42.0</td>\n",
       "      <td>42.0</td>\n",
       "    </tr>\n",
       "  </tbody>\n",
       "</table>\n",
       "<p>5 rows × 183 columns</p>\n",
       "</div>"
      ],
      "text/plain": [
       "            Pos  SRR9190430  SRR9190431  SRR9190432  SRR9190433  SRR9190434  \\\n",
       "0  10_100001655        42.0        42.0        42.0        42.0        42.0   \n",
       "1  10_100001659        42.0        42.0        42.0        42.0        42.0   \n",
       "2  10_100001680        42.0        42.0        42.0        42.0        42.0   \n",
       "3  10_100001702        42.0        42.0        42.0        42.0        42.0   \n",
       "4  10_100001706        42.0        42.0        42.0        42.0        42.0   \n",
       "\n",
       "   SRR9190435  SRR9190436  SRR9190437  SRR9190438  ...  SRR9190783  \\\n",
       "0        42.0        42.0        42.0        42.0  ...        42.0   \n",
       "1        42.0        42.0        42.0        42.0  ...        42.0   \n",
       "2        42.0        42.0        42.0        42.0  ...        42.0   \n",
       "3        42.0        42.0        42.0        42.0  ...        42.0   \n",
       "4        42.0        42.0        42.0        42.0  ...        42.0   \n",
       "\n",
       "   SRR9190784  SRR9190785  SRR9190786  SRR9190787  SRR9190788  SRR9190789  \\\n",
       "0        42.0        42.0        42.0        42.0        42.0        42.0   \n",
       "1        42.0        42.0        42.0        42.0        42.0        42.0   \n",
       "2        42.0        42.0        42.0        42.0        42.0        42.0   \n",
       "3        42.0        42.0        42.0        42.0        42.0        42.0   \n",
       "4        42.0        42.0        42.0        42.0        42.0        42.0   \n",
       "\n",
       "   SRR9190790  SRR9190791  SRR9190792  \n",
       "0        42.0        42.0        42.0  \n",
       "1        42.0        42.0        42.0  \n",
       "2        42.0        42.0        42.0  \n",
       "3        42.0        42.0        42.0  \n",
       "4        42.0        42.0        42.0  \n",
       "\n",
       "[5 rows x 183 columns]"
      ]
     },
     "execution_count": 8,
     "metadata": {},
     "output_type": "execute_result"
    }
   ],
   "source": [
    "df_result.head()"
   ]
  },
  {
   "cell_type": "code",
   "execution_count": 4,
   "id": "fdf92a02-16be-48df-b1e3-9fc599d653c7",
   "metadata": {
    "execution": {
     "iopub.execute_input": "2024-05-10T14:44:48.116593Z",
     "iopub.status.busy": "2024-05-10T14:44:48.115751Z",
     "iopub.status.idle": "2024-05-10T14:44:49.112502Z",
     "shell.execute_reply": "2024-05-10T14:44:49.111226Z",
     "shell.execute_reply.started": "2024-05-10T14:44:48.116525Z"
    },
    "tags": []
   },
   "outputs": [
    {
     "ename": "TypeError",
     "evalue": "'Delayed' object cannot be interpreted as an integer",
     "output_type": "error",
     "traceback": [
      "\u001b[0;31m---------------------------------------------------------------------------\u001b[0m",
      "\u001b[0;31mTypeError\u001b[0m                                 Traceback (most recent call last)",
      "Cell \u001b[0;32mIn[4], line 2\u001b[0m\n\u001b[1;32m      1\u001b[0m chunk_size \u001b[38;5;241m=\u001b[39m \u001b[38;5;241m10000\u001b[39m\n\u001b[0;32m----> 2\u001b[0m \u001b[38;5;28;01mfor\u001b[39;00m start_idx \u001b[38;5;129;01min\u001b[39;00m \u001b[38;5;28;43mrange\u001b[39;49m\u001b[43m(\u001b[49m\u001b[38;5;241;43m0\u001b[39;49m\u001b[43m,\u001b[49m\u001b[43m \u001b[49m\u001b[43mdf\u001b[49m\u001b[38;5;241;43m.\u001b[39;49m\u001b[43mshape\u001b[49m\u001b[43m[\u001b[49m\u001b[38;5;241;43m0\u001b[39;49m\u001b[43m]\u001b[49m\u001b[43m,\u001b[49m\u001b[43m \u001b[49m\u001b[43mchunk_size\u001b[49m\u001b[43m)\u001b[49m:\n\u001b[1;32m      3\u001b[0m     df\u001b[38;5;241m.\u001b[39miloc[start_idx:start_idx \u001b[38;5;241m+\u001b[39m chunk_size]\u001b[38;5;241m.\u001b[39mfillna(\u001b[38;5;241m42\u001b[39m, limit\u001b[38;5;241m=\u001b[39m\u001b[38;5;241m1\u001b[39m, axis\u001b[38;5;241m=\u001b[39m\u001b[38;5;241m1\u001b[39m, inplace\u001b[38;5;241m=\u001b[39m\u001b[38;5;28;01mTrue\u001b[39;00m)\n\u001b[1;32m      4\u001b[0m     \u001b[38;5;66;03m#print(chunk)\u001b[39;00m\n",
      "\u001b[0;31mTypeError\u001b[0m: 'Delayed' object cannot be interpreted as an integer"
     ]
    }
   ],
   "source": [
    "chunk_size = 10000\n",
    "for start_idx in range(0, df.shape[0], chunk_size):\n",
    "    df.iloc[start_idx:start_idx + chunk_size].fillna(42, limit=1, axis=1, inplace=True)\n",
    "    #print(chunk)\n",
    "    break\n",
    "    \n",
    "df.head()\n",
    "# Define chunk size\n",
    "#chunk_size = 3\n",
    "\n",
    "# List to hold processed chunks\n",
    "#chunks = []\n",
    "\n",
    "# Process each chunk\n",
    "#for start in range(0, df.shape[0], chunk_size):\n",
    "#    chunk = df.iloc[start:start + chunk_size]"
   ]
  },
  {
   "cell_type": "code",
   "execution_count": null,
   "id": "c0531f85-6552-411b-a158-cd8825dafda4",
   "metadata": {
    "execution": {
     "iopub.execute_input": "2024-05-10T14:23:44.731539Z",
     "iopub.status.busy": "2024-05-10T14:23:44.730781Z"
    },
    "tags": []
   },
   "outputs": [],
   "source": [
    "#df = df.set_index('Pos')\n",
    "#df.fillna(value=42, axis=1, inplace=True, limit=1)"
   ]
  },
  {
   "cell_type": "code",
   "execution_count": 7,
   "id": "7c738792-48c9-4ac5-8b44-c80fa9176839",
   "metadata": {
    "execution": {
     "iopub.execute_input": "2024-05-10T14:23:24.859148Z",
     "iopub.status.busy": "2024-05-10T14:23:24.858392Z",
     "iopub.status.idle": "2024-05-10T14:23:29.667270Z",
     "shell.execute_reply": "2024-05-10T14:23:29.665495Z",
     "shell.execute_reply.started": "2024-05-10T14:23:24.859088Z"
    },
    "tags": []
   },
   "outputs": [
    {
     "data": {
      "text/html": [
       "<div>\n",
       "<style scoped>\n",
       "    .dataframe tbody tr th:only-of-type {\n",
       "        vertical-align: middle;\n",
       "    }\n",
       "\n",
       "    .dataframe tbody tr th {\n",
       "        vertical-align: top;\n",
       "    }\n",
       "\n",
       "    .dataframe thead th {\n",
       "        text-align: right;\n",
       "    }\n",
       "</style>\n",
       "<table border=\"1\" class=\"dataframe\">\n",
       "  <thead>\n",
       "    <tr style=\"text-align: right;\">\n",
       "      <th></th>\n",
       "      <th>Pos</th>\n",
       "      <th>SRR9190430</th>\n",
       "      <th>SRR9190431</th>\n",
       "      <th>SRR9190432</th>\n",
       "      <th>SRR9190433</th>\n",
       "      <th>SRR9190434</th>\n",
       "      <th>SRR9190435</th>\n",
       "      <th>SRR9190436</th>\n",
       "      <th>SRR9190437</th>\n",
       "      <th>SRR9190438</th>\n",
       "      <th>...</th>\n",
       "      <th>SRR9190783</th>\n",
       "      <th>SRR9190784</th>\n",
       "      <th>SRR9190785</th>\n",
       "      <th>SRR9190786</th>\n",
       "      <th>SRR9190787</th>\n",
       "      <th>SRR9190788</th>\n",
       "      <th>SRR9190789</th>\n",
       "      <th>SRR9190790</th>\n",
       "      <th>SRR9190791</th>\n",
       "      <th>SRR9190792</th>\n",
       "    </tr>\n",
       "  </thead>\n",
       "  <tbody>\n",
       "    <tr>\n",
       "      <th>0</th>\n",
       "      <td>10_100001655</td>\n",
       "      <td>NaN</td>\n",
       "      <td>NaN</td>\n",
       "      <td>NaN</td>\n",
       "      <td>NaN</td>\n",
       "      <td>NaN</td>\n",
       "      <td>NaN</td>\n",
       "      <td>NaN</td>\n",
       "      <td>NaN</td>\n",
       "      <td>NaN</td>\n",
       "      <td>...</td>\n",
       "      <td>NaN</td>\n",
       "      <td>NaN</td>\n",
       "      <td>NaN</td>\n",
       "      <td>NaN</td>\n",
       "      <td>NaN</td>\n",
       "      <td>NaN</td>\n",
       "      <td>NaN</td>\n",
       "      <td>NaN</td>\n",
       "      <td>NaN</td>\n",
       "      <td>NaN</td>\n",
       "    </tr>\n",
       "    <tr>\n",
       "      <th>1</th>\n",
       "      <td>10_100001659</td>\n",
       "      <td>NaN</td>\n",
       "      <td>NaN</td>\n",
       "      <td>NaN</td>\n",
       "      <td>NaN</td>\n",
       "      <td>NaN</td>\n",
       "      <td>NaN</td>\n",
       "      <td>NaN</td>\n",
       "      <td>NaN</td>\n",
       "      <td>NaN</td>\n",
       "      <td>...</td>\n",
       "      <td>NaN</td>\n",
       "      <td>NaN</td>\n",
       "      <td>NaN</td>\n",
       "      <td>NaN</td>\n",
       "      <td>NaN</td>\n",
       "      <td>NaN</td>\n",
       "      <td>NaN</td>\n",
       "      <td>NaN</td>\n",
       "      <td>NaN</td>\n",
       "      <td>NaN</td>\n",
       "    </tr>\n",
       "    <tr>\n",
       "      <th>2</th>\n",
       "      <td>10_100001680</td>\n",
       "      <td>NaN</td>\n",
       "      <td>NaN</td>\n",
       "      <td>NaN</td>\n",
       "      <td>NaN</td>\n",
       "      <td>NaN</td>\n",
       "      <td>NaN</td>\n",
       "      <td>NaN</td>\n",
       "      <td>NaN</td>\n",
       "      <td>NaN</td>\n",
       "      <td>...</td>\n",
       "      <td>NaN</td>\n",
       "      <td>NaN</td>\n",
       "      <td>NaN</td>\n",
       "      <td>NaN</td>\n",
       "      <td>NaN</td>\n",
       "      <td>NaN</td>\n",
       "      <td>NaN</td>\n",
       "      <td>NaN</td>\n",
       "      <td>NaN</td>\n",
       "      <td>NaN</td>\n",
       "    </tr>\n",
       "    <tr>\n",
       "      <th>3</th>\n",
       "      <td>10_100001702</td>\n",
       "      <td>NaN</td>\n",
       "      <td>NaN</td>\n",
       "      <td>NaN</td>\n",
       "      <td>NaN</td>\n",
       "      <td>NaN</td>\n",
       "      <td>NaN</td>\n",
       "      <td>NaN</td>\n",
       "      <td>NaN</td>\n",
       "      <td>NaN</td>\n",
       "      <td>...</td>\n",
       "      <td>NaN</td>\n",
       "      <td>NaN</td>\n",
       "      <td>NaN</td>\n",
       "      <td>NaN</td>\n",
       "      <td>NaN</td>\n",
       "      <td>NaN</td>\n",
       "      <td>NaN</td>\n",
       "      <td>NaN</td>\n",
       "      <td>NaN</td>\n",
       "      <td>NaN</td>\n",
       "    </tr>\n",
       "    <tr>\n",
       "      <th>4</th>\n",
       "      <td>10_100001706</td>\n",
       "      <td>NaN</td>\n",
       "      <td>NaN</td>\n",
       "      <td>NaN</td>\n",
       "      <td>NaN</td>\n",
       "      <td>NaN</td>\n",
       "      <td>NaN</td>\n",
       "      <td>NaN</td>\n",
       "      <td>NaN</td>\n",
       "      <td>NaN</td>\n",
       "      <td>...</td>\n",
       "      <td>NaN</td>\n",
       "      <td>NaN</td>\n",
       "      <td>NaN</td>\n",
       "      <td>NaN</td>\n",
       "      <td>NaN</td>\n",
       "      <td>NaN</td>\n",
       "      <td>NaN</td>\n",
       "      <td>NaN</td>\n",
       "      <td>NaN</td>\n",
       "      <td>NaN</td>\n",
       "    </tr>\n",
       "  </tbody>\n",
       "</table>\n",
       "<p>5 rows × 183 columns</p>\n",
       "</div>"
      ],
      "text/plain": [
       "            Pos  SRR9190430  SRR9190431  SRR9190432  SRR9190433  SRR9190434  \\\n",
       "0  10_100001655         NaN         NaN         NaN         NaN         NaN   \n",
       "1  10_100001659         NaN         NaN         NaN         NaN         NaN   \n",
       "2  10_100001680         NaN         NaN         NaN         NaN         NaN   \n",
       "3  10_100001702         NaN         NaN         NaN         NaN         NaN   \n",
       "4  10_100001706         NaN         NaN         NaN         NaN         NaN   \n",
       "\n",
       "   SRR9190435  SRR9190436  SRR9190437  SRR9190438  ...  SRR9190783  \\\n",
       "0         NaN         NaN         NaN         NaN  ...         NaN   \n",
       "1         NaN         NaN         NaN         NaN  ...         NaN   \n",
       "2         NaN         NaN         NaN         NaN  ...         NaN   \n",
       "3         NaN         NaN         NaN         NaN  ...         NaN   \n",
       "4         NaN         NaN         NaN         NaN  ...         NaN   \n",
       "\n",
       "   SRR9190784  SRR9190785  SRR9190786  SRR9190787  SRR9190788  SRR9190789  \\\n",
       "0         NaN         NaN         NaN         NaN         NaN         NaN   \n",
       "1         NaN         NaN         NaN         NaN         NaN         NaN   \n",
       "2         NaN         NaN         NaN         NaN         NaN         NaN   \n",
       "3         NaN         NaN         NaN         NaN         NaN         NaN   \n",
       "4         NaN         NaN         NaN         NaN         NaN         NaN   \n",
       "\n",
       "   SRR9190790  SRR9190791  SRR9190792  \n",
       "0         NaN         NaN         NaN  \n",
       "1         NaN         NaN         NaN  \n",
       "2         NaN         NaN         NaN  \n",
       "3         NaN         NaN         NaN  \n",
       "4         NaN         NaN         NaN  \n",
       "\n",
       "[5 rows x 183 columns]"
      ]
     },
     "execution_count": 7,
     "metadata": {},
     "output_type": "execute_result"
    }
   ],
   "source": [
    "df.head()\n",
    "\n",
    "duplicated_positions = df['Pos'].duplicated()\n",
    "n_duplicated = duplicated_positions.sum()\n",
    "n_duplicated\n",
    "\n",
    "df.head()\n",
    "#duplicate_values = df['Product'].duplicated()"
   ]
  },
  {
   "cell_type": "code",
   "execution_count": 13,
   "id": "cd9335c0-464e-4028-a468-9b0bddb6dc9a",
   "metadata": {
    "execution": {
     "iopub.execute_input": "2024-05-09T20:42:19.694769Z",
     "iopub.status.busy": "2024-05-09T20:42:19.694304Z",
     "iopub.status.idle": "2024-05-09T20:42:19.775529Z",
     "shell.execute_reply": "2024-05-09T20:42:19.773563Z",
     "shell.execute_reply.started": "2024-05-09T20:42:19.694731Z"
    },
    "tags": []
   },
   "outputs": [
    {
     "data": {
      "text/html": [
       "<div>\n",
       "<style scoped>\n",
       "    .dataframe tbody tr th:only-of-type {\n",
       "        vertical-align: middle;\n",
       "    }\n",
       "\n",
       "    .dataframe tbody tr th {\n",
       "        vertical-align: top;\n",
       "    }\n",
       "\n",
       "    .dataframe thead th {\n",
       "        text-align: right;\n",
       "    }\n",
       "</style>\n",
       "<table border=\"1\" class=\"dataframe\">\n",
       "  <thead>\n",
       "    <tr style=\"text-align: right;\">\n",
       "      <th></th>\n",
       "      <th>A</th>\n",
       "      <th>B</th>\n",
       "      <th>C</th>\n",
       "      <th>D</th>\n",
       "    </tr>\n",
       "  </thead>\n",
       "  <tbody>\n",
       "    <tr>\n",
       "      <th>0</th>\n",
       "      <td>NaN</td>\n",
       "      <td>2.0</td>\n",
       "      <td>NaN</td>\n",
       "      <td>0.0</td>\n",
       "    </tr>\n",
       "    <tr>\n",
       "      <th>1</th>\n",
       "      <td>3.0</td>\n",
       "      <td>4.0</td>\n",
       "      <td>NaN</td>\n",
       "      <td>1.0</td>\n",
       "    </tr>\n",
       "    <tr>\n",
       "      <th>2</th>\n",
       "      <td>NaN</td>\n",
       "      <td>NaN</td>\n",
       "      <td>NaN</td>\n",
       "      <td>NaN</td>\n",
       "    </tr>\n",
       "    <tr>\n",
       "      <th>3</th>\n",
       "      <td>NaN</td>\n",
       "      <td>3.0</td>\n",
       "      <td>NaN</td>\n",
       "      <td>4.0</td>\n",
       "    </tr>\n",
       "  </tbody>\n",
       "</table>\n",
       "</div>"
      ],
      "text/plain": [
       "     A    B   C    D\n",
       "0  NaN  2.0 NaN  0.0\n",
       "1  3.0  4.0 NaN  1.0\n",
       "2  NaN  NaN NaN  NaN\n",
       "3  NaN  3.0 NaN  4.0"
      ]
     },
     "execution_count": 13,
     "metadata": {},
     "output_type": "execute_result"
    }
   ],
   "source": [
    "import pandas as pd\n",
    "import numpy as np\n",
    "dfna = pd.DataFrame([[np.nan, 2, np.nan, 0],\n",
    "                   [3, 4, np.nan, 1],\n",
    "                   [np.nan, np.nan, np.nan, np.nan],\n",
    "                   [np.nan, 3, np.nan, 4]],\n",
    "                  columns=list(\"ABCD\"))\n",
    "dfna"
   ]
  },
  {
   "cell_type": "code",
   "execution_count": 14,
   "id": "ff06ab62-42ec-4e0f-9c11-ef9eafd90dc7",
   "metadata": {
    "execution": {
     "iopub.execute_input": "2024-05-09T20:42:26.890533Z",
     "iopub.status.busy": "2024-05-09T20:42:26.889138Z",
     "iopub.status.idle": "2024-05-09T20:42:26.958928Z",
     "shell.execute_reply": "2024-05-09T20:42:26.957445Z",
     "shell.execute_reply.started": "2024-05-09T20:42:26.890452Z"
    },
    "tags": []
   },
   "outputs": [
    {
     "data": {
      "text/html": [
       "<div>\n",
       "<style scoped>\n",
       "    .dataframe tbody tr th:only-of-type {\n",
       "        vertical-align: middle;\n",
       "    }\n",
       "\n",
       "    .dataframe tbody tr th {\n",
       "        vertical-align: top;\n",
       "    }\n",
       "\n",
       "    .dataframe thead th {\n",
       "        text-align: right;\n",
       "    }\n",
       "</style>\n",
       "<table border=\"1\" class=\"dataframe\">\n",
       "  <thead>\n",
       "    <tr style=\"text-align: right;\">\n",
       "      <th></th>\n",
       "      <th>A</th>\n",
       "      <th>B</th>\n",
       "      <th>C</th>\n",
       "      <th>D</th>\n",
       "    </tr>\n",
       "  </thead>\n",
       "  <tbody>\n",
       "    <tr>\n",
       "      <th>0</th>\n",
       "      <td>42.0</td>\n",
       "      <td>2.0</td>\n",
       "      <td>NaN</td>\n",
       "      <td>0.0</td>\n",
       "    </tr>\n",
       "    <tr>\n",
       "      <th>1</th>\n",
       "      <td>3.0</td>\n",
       "      <td>4.0</td>\n",
       "      <td>42.0</td>\n",
       "      <td>1.0</td>\n",
       "    </tr>\n",
       "    <tr>\n",
       "      <th>2</th>\n",
       "      <td>42.0</td>\n",
       "      <td>NaN</td>\n",
       "      <td>NaN</td>\n",
       "      <td>NaN</td>\n",
       "    </tr>\n",
       "    <tr>\n",
       "      <th>3</th>\n",
       "      <td>42.0</td>\n",
       "      <td>3.0</td>\n",
       "      <td>NaN</td>\n",
       "      <td>4.0</td>\n",
       "    </tr>\n",
       "  </tbody>\n",
       "</table>\n",
       "</div>"
      ],
      "text/plain": [
       "      A    B     C    D\n",
       "0  42.0  2.0   NaN  0.0\n",
       "1   3.0  4.0  42.0  1.0\n",
       "2  42.0  NaN   NaN  NaN\n",
       "3  42.0  3.0   NaN  4.0"
      ]
     },
     "execution_count": 14,
     "metadata": {},
     "output_type": "execute_result"
    }
   ],
   "source": [
    "dfna.fillna(42, limit=1, axis=1)"
   ]
  },
  {
   "cell_type": "code",
   "execution_count": null,
   "id": "621f1e43-6b3d-428d-9160-13e55db54676",
   "metadata": {
    "execution": {
     "iopub.execute_input": "2024-05-09T20:42:30.494117Z",
     "iopub.status.busy": "2024-05-09T20:42:30.493566Z"
    },
    "tags": []
   },
   "outputs": [],
   "source": [
    "df.fillna(value=42, limit=1, axis=1)"
   ]
  },
  {
   "cell_type": "code",
   "execution_count": 31,
   "id": "41f809cc-48f2-4856-beab-c776edc075ea",
   "metadata": {
    "execution": {
     "iopub.execute_input": "2024-05-09T20:32:04.654068Z",
     "iopub.status.busy": "2024-05-09T20:32:04.653539Z",
     "iopub.status.idle": "2024-05-09T20:32:04.697211Z",
     "shell.execute_reply": "2024-05-09T20:32:04.695719Z",
     "shell.execute_reply.started": "2024-05-09T20:32:04.654019Z"
    },
    "tags": []
   },
   "outputs": [
    {
     "data": {
      "text/plain": [
       "(0.81516284,\n",
       " 0.889,\n",
       " 0    1.0\n",
       " Name: Y_9950828, dtype: float32)"
      ]
     },
     "execution_count": 31,
     "metadata": {},
     "output_type": "execute_result"
    }
   ],
   "source": [
    "a = df.loc['Y_9950828']\n",
    "a.mean(), a.median(), a.mode()"
   ]
  },
  {
   "cell_type": "code",
   "execution_count": 21,
   "id": "f68d45bf-8f63-4faf-a22f-1ec3e289df1c",
   "metadata": {
    "execution": {
     "iopub.execute_input": "2024-05-09T20:25:59.520710Z",
     "iopub.status.busy": "2024-05-09T20:25:59.519719Z",
     "iopub.status.idle": "2024-05-09T20:26:07.813070Z",
     "shell.execute_reply": "2024-05-09T20:26:07.811771Z",
     "shell.execute_reply.started": "2024-05-09T20:25:59.520626Z"
    },
    "tags": []
   },
   "outputs": [
    {
     "name": "stdout",
     "output_type": "stream",
     "text": [
      "nan rows 6_138_477\n",
      "nonnan rows 2_583_616\n",
      "sum 8722093\n"
     ]
    }
   ],
   "source": [
    "#df['Pos'].iloc[-30:]\n",
    "print('nan rows', f'{(df.isna().sum(axis=1) > 0).sum():_}')\n",
    "print('nonnan rows', f'{(df.isna().sum(axis=1)  == 0).sum():_}')\n",
    "print('sum', df.shape[0])"
   ]
  }
 ],
 "metadata": {
  "kernelspec": {
   "display_name": "bio",
   "language": "python",
   "name": "bio"
  },
  "language_info": {
   "codemirror_mode": {
    "name": "ipython",
    "version": 3
   },
   "file_extension": ".py",
   "mimetype": "text/x-python",
   "name": "python",
   "nbconvert_exporter": "python",
   "pygments_lexer": "ipython3",
   "version": "3.8.18"
  }
 },
 "nbformat": 4,
 "nbformat_minor": 5
}
