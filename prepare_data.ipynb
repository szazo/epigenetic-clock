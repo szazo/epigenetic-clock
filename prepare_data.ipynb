{
 "cells": [
  {
   "cell_type": "code",
   "execution_count": 1,
   "id": "849df915-55bc-4979-b507-e59f95be0f19",
   "metadata": {
    "tags": []
   },
   "outputs": [],
   "source": [
    "# autoreload\n",
    "%load_ext autoreload\n",
    "%autoreload 2\n",
    "\n",
    "# configure logging\n",
    "import logging\n",
    "logging.basicConfig(level=logging.WARNING)\n",
    "logging.getLogger('Assignment2RRBSDataSource').setLevel(logging.DEBUG)\n",
    "logging.getLogger('GlmNetEpigeneticClockTrainer').setLevel(logging.DEBUG)\n",
    "logging.getLogger('download_file').setLevel(logging.DEBUG)"
   ]
  },
  {
   "cell_type": "code",
   "execution_count": 1,
   "id": "19cba046-4544-4518-9799-0385cc0d8396",
   "metadata": {
    "tags": []
   },
   "outputs": [
    {
     "name": "stdout",
     "output_type": "stream",
     "text": [
      "CPU times: user 1.47 s, sys: 4.18 s, total: 5.65 s\n",
      "Wall time: 891 ms\n"
     ]
    }
   ],
   "source": [
    "%%time\n",
    "import os\n",
    "from epigenetic_clock_assignment import download_file\n",
    "\n",
    "data_dir = 'data/assignment2'\n",
    "meta_csv_filepath = os.path.join(data_dir, 'MetaPolished.csv')\n",
    "features_csv_filepath = os.path.join(data_dir, 'FTGenForGenomicCov.py-cov5.csv')\n",
    "features_zip_filepath = os.path.join(data_dir, 'FTGenForGenomicCov.py-cov5.csv.zip')\n",
    "\n",
    "# download features file if does not exists\n",
    "download_file(url='https://kerepesi.web.elte.hu/bioinf_ora/FTGenForGenomicCov.py-cov5.csv.zip',\n",
    "              out_filepath=features_csv_filepath, \n",
    "              intermediate_archive_filepath=features_zip_filepath,\n",
    "              archive_format='zip')\n",
    "\n",
    "\n"
   ]
  },
  {
   "cell_type": "code",
   "execution_count": 2,
   "id": "e662db78-6679-48bc-80cd-e071efce8b68",
   "metadata": {
    "tags": []
   },
   "outputs": [
    {
     "name": "stdout",
     "output_type": "stream",
     "text": [
      "PARTS 20\n",
      "CPU times: user 21min 41s, sys: 6min 13s, total: 27min 55s\n",
      "Wall time: 22min 54s\n"
     ]
    }
   ],
   "source": [
    "%%time\n",
    "\n",
    "import os\n",
    "from epigenetic_clock_assignment import Assignment2RRBSDataSource\n",
    "\n",
    "data_source = Assignment2RRBSDataSource(\n",
    "    meta_csv_filepath=meta_csv_filepath,\n",
    "    features_csv_filepath=features_csv_filepath,\n",
    "    features_pickle_cache_filepath=os.path.join(data_dir, 'features_cache.pickle'))\n",
    "\n",
    "ddf = data_source.load()\n"
   ]
  },
  {
   "cell_type": "code",
   "execution_count": 4,
   "id": "def05234-57d5-4fb9-b780-2a40bfd7f336",
   "metadata": {},
   "outputs": [
    {
     "ename": "AttributeError",
     "evalue": "'tuple' object has no attribute 'head'",
     "output_type": "error",
     "traceback": [
      "\u001b[0;31m---------------------------------------------------------------------------\u001b[0m",
      "\u001b[0;31mAttributeError\u001b[0m                            Traceback (most recent call last)",
      "Cell \u001b[0;32mIn[4], line 1\u001b[0m\n\u001b[0;32m----> 1\u001b[0m \u001b[43mddf\u001b[49m\u001b[38;5;241;43m.\u001b[39;49m\u001b[43mhead\u001b[49m()\n",
      "\u001b[0;31mAttributeError\u001b[0m: 'tuple' object has no attribute 'head'"
     ]
    }
   ],
   "source": [
    "ddf.head()"
   ]
  },
  {
   "cell_type": "code",
   "execution_count": 15,
   "id": "0a377bb7-35aa-4758-bbec-a80d32e1bf16",
   "metadata": {},
   "outputs": [
    {
     "data": {
      "text/plain": [
       "22628"
      ]
     },
     "execution_count": 15,
     "metadata": {},
     "output_type": "execute_result"
    }
   ],
   "source": [
    "import gc \n",
    "gc.collect()"
   ]
  },
  {
   "cell_type": "code",
   "execution_count": null,
   "id": "e8b4ffa4-22b8-42ab-913c-18d2f28e701c",
   "metadata": {},
   "outputs": [],
   "source": [
    "column_medians = df.median()"
   ]
  },
  {
   "cell_type": "code",
   "execution_count": 13,
   "id": "19a8393d-999f-4d27-a25e-a182d4e6a85a",
   "metadata": {},
   "outputs": [],
   "source": [
    "column_means = df.mean()\n"
   ]
  },
  {
   "cell_type": "code",
   "execution_count": 16,
   "id": "c12affbb-455e-4944-9605-663fc7f8e011",
   "metadata": {},
   "outputs": [
    {
     "data": {
      "text/plain": [
       "(8722093,)"
      ]
     },
     "execution_count": 16,
     "metadata": {},
     "output_type": "execute_result"
    }
   ],
   "source": [
    "column_means.shape"
   ]
  },
  {
   "cell_type": "code",
   "execution_count": 17,
   "id": "fe7df5af-b850-47f3-a57d-f09a27b59782",
   "metadata": {},
   "outputs": [
    {
     "ename": "KeyboardInterrupt",
     "evalue": "",
     "output_type": "error",
     "traceback": [
      "\u001b[0;31m---------------------------------------------------------------------------\u001b[0m",
      "\u001b[0;31mKeyboardInterrupt\u001b[0m                         Traceback (most recent call last)",
      "Cell \u001b[0;32mIn[17], line 1\u001b[0m\n\u001b[0;32m----> 1\u001b[0m \u001b[43mdf\u001b[49m\u001b[38;5;241;43m.\u001b[39;49m\u001b[43mfillna\u001b[49m\u001b[43m(\u001b[49m\u001b[43mcolumn_means\u001b[49m\u001b[43m,\u001b[49m\u001b[43m \u001b[49m\u001b[43minplace\u001b[49m\u001b[38;5;241;43m=\u001b[39;49m\u001b[38;5;28;43;01mTrue\u001b[39;49;00m\u001b[43m)\u001b[49m\n",
      "File \u001b[0;32m~/.envs/bio/lib/python3.8/site-packages/pandas/util/_decorators.py:331\u001b[0m, in \u001b[0;36mdeprecate_nonkeyword_arguments.<locals>.decorate.<locals>.wrapper\u001b[0;34m(*args, **kwargs)\u001b[0m\n\u001b[1;32m    325\u001b[0m \u001b[38;5;28;01mif\u001b[39;00m \u001b[38;5;28mlen\u001b[39m(args) \u001b[38;5;241m>\u001b[39m num_allow_args:\n\u001b[1;32m    326\u001b[0m     warnings\u001b[38;5;241m.\u001b[39mwarn(\n\u001b[1;32m    327\u001b[0m         msg\u001b[38;5;241m.\u001b[39mformat(arguments\u001b[38;5;241m=\u001b[39m_format_argument_list(allow_args)),\n\u001b[1;32m    328\u001b[0m         \u001b[38;5;167;01mFutureWarning\u001b[39;00m,\n\u001b[1;32m    329\u001b[0m         stacklevel\u001b[38;5;241m=\u001b[39mfind_stack_level(),\n\u001b[1;32m    330\u001b[0m     )\n\u001b[0;32m--> 331\u001b[0m \u001b[38;5;28;01mreturn\u001b[39;00m \u001b[43mfunc\u001b[49m\u001b[43m(\u001b[49m\u001b[38;5;241;43m*\u001b[39;49m\u001b[43margs\u001b[49m\u001b[43m,\u001b[49m\u001b[43m \u001b[49m\u001b[38;5;241;43m*\u001b[39;49m\u001b[38;5;241;43m*\u001b[39;49m\u001b[43mkwargs\u001b[49m\u001b[43m)\u001b[49m\n",
      "File \u001b[0;32m~/.envs/bio/lib/python3.8/site-packages/pandas/core/frame.py:5635\u001b[0m, in \u001b[0;36mDataFrame.fillna\u001b[0;34m(self, value, method, axis, inplace, limit, downcast)\u001b[0m\n\u001b[1;32m   5624\u001b[0m \u001b[38;5;129m@deprecate_nonkeyword_arguments\u001b[39m(version\u001b[38;5;241m=\u001b[39m\u001b[38;5;28;01mNone\u001b[39;00m, allowed_args\u001b[38;5;241m=\u001b[39m[\u001b[38;5;124m\"\u001b[39m\u001b[38;5;124mself\u001b[39m\u001b[38;5;124m\"\u001b[39m, \u001b[38;5;124m\"\u001b[39m\u001b[38;5;124mvalue\u001b[39m\u001b[38;5;124m\"\u001b[39m])\n\u001b[1;32m   5625\u001b[0m \u001b[38;5;129m@doc\u001b[39m(NDFrame\u001b[38;5;241m.\u001b[39mfillna, \u001b[38;5;241m*\u001b[39m\u001b[38;5;241m*\u001b[39m_shared_doc_kwargs)\n\u001b[1;32m   5626\u001b[0m \u001b[38;5;28;01mdef\u001b[39;00m \u001b[38;5;21mfillna\u001b[39m(  \u001b[38;5;66;03m# type: ignore[override]\u001b[39;00m\n\u001b[0;32m   (...)\u001b[0m\n\u001b[1;32m   5633\u001b[0m     downcast: \u001b[38;5;28mdict\u001b[39m \u001b[38;5;241m|\u001b[39m \u001b[38;5;28;01mNone\u001b[39;00m \u001b[38;5;241m=\u001b[39m \u001b[38;5;28;01mNone\u001b[39;00m,\n\u001b[1;32m   5634\u001b[0m ) \u001b[38;5;241m-\u001b[39m\u001b[38;5;241m>\u001b[39m DataFrame \u001b[38;5;241m|\u001b[39m \u001b[38;5;28;01mNone\u001b[39;00m:\n\u001b[0;32m-> 5635\u001b[0m     \u001b[38;5;28;01mreturn\u001b[39;00m \u001b[38;5;28;43msuper\u001b[39;49m\u001b[43m(\u001b[49m\u001b[43m)\u001b[49m\u001b[38;5;241;43m.\u001b[39;49m\u001b[43mfillna\u001b[49m\u001b[43m(\u001b[49m\n\u001b[1;32m   5636\u001b[0m \u001b[43m        \u001b[49m\u001b[43mvalue\u001b[49m\u001b[38;5;241;43m=\u001b[39;49m\u001b[43mvalue\u001b[49m\u001b[43m,\u001b[49m\n\u001b[1;32m   5637\u001b[0m \u001b[43m        \u001b[49m\u001b[43mmethod\u001b[49m\u001b[38;5;241;43m=\u001b[39;49m\u001b[43mmethod\u001b[49m\u001b[43m,\u001b[49m\n\u001b[1;32m   5638\u001b[0m \u001b[43m        \u001b[49m\u001b[43maxis\u001b[49m\u001b[38;5;241;43m=\u001b[39;49m\u001b[43maxis\u001b[49m\u001b[43m,\u001b[49m\n\u001b[1;32m   5639\u001b[0m \u001b[43m        \u001b[49m\u001b[43minplace\u001b[49m\u001b[38;5;241;43m=\u001b[39;49m\u001b[43minplace\u001b[49m\u001b[43m,\u001b[49m\n\u001b[1;32m   5640\u001b[0m \u001b[43m        \u001b[49m\u001b[43mlimit\u001b[49m\u001b[38;5;241;43m=\u001b[39;49m\u001b[43mlimit\u001b[49m\u001b[43m,\u001b[49m\n\u001b[1;32m   5641\u001b[0m \u001b[43m        \u001b[49m\u001b[43mdowncast\u001b[49m\u001b[38;5;241;43m=\u001b[39;49m\u001b[43mdowncast\u001b[49m\u001b[43m,\u001b[49m\n\u001b[1;32m   5642\u001b[0m \u001b[43m    \u001b[49m\u001b[43m)\u001b[49m\n",
      "File \u001b[0;32m~/.envs/bio/lib/python3.8/site-packages/pandas/core/generic.py:6878\u001b[0m, in \u001b[0;36mNDFrame.fillna\u001b[0;34m(self, value, method, axis, inplace, limit, downcast)\u001b[0m\n\u001b[1;32m   6875\u001b[0m \u001b[38;5;28;01mif\u001b[39;00m \u001b[38;5;28misinstance\u001b[39m(res_k, ABCSeries):\n\u001b[1;32m   6876\u001b[0m     \u001b[38;5;66;03m# i.e. 'k' only shows up once in self.columns\u001b[39;00m\n\u001b[1;32m   6877\u001b[0m     \u001b[38;5;28;01mif\u001b[39;00m res_k\u001b[38;5;241m.\u001b[39mdtype \u001b[38;5;241m==\u001b[39m result[k]\u001b[38;5;241m.\u001b[39mdtype:\n\u001b[0;32m-> 6878\u001b[0m         \u001b[43mresult\u001b[49m\u001b[38;5;241;43m.\u001b[39;49m\u001b[43mloc\u001b[49m\u001b[43m[\u001b[49m\u001b[43m:\u001b[49m\u001b[43m,\u001b[49m\u001b[43m \u001b[49m\u001b[43mk\u001b[49m\u001b[43m]\u001b[49m \u001b[38;5;241m=\u001b[39m res_k\n\u001b[1;32m   6879\u001b[0m     \u001b[38;5;28;01melse\u001b[39;00m:\n\u001b[1;32m   6880\u001b[0m         \u001b[38;5;66;03m# Different dtype -> no way to do inplace.\u001b[39;00m\n\u001b[1;32m   6881\u001b[0m         result[k] \u001b[38;5;241m=\u001b[39m res_k\n",
      "File \u001b[0;32m~/.envs/bio/lib/python3.8/site-packages/pandas/core/indexing.py:818\u001b[0m, in \u001b[0;36m_LocationIndexer.__setitem__\u001b[0;34m(self, key, value)\u001b[0m\n\u001b[1;32m    815\u001b[0m \u001b[38;5;28mself\u001b[39m\u001b[38;5;241m.\u001b[39m_has_valid_setitem_indexer(key)\n\u001b[1;32m    817\u001b[0m iloc \u001b[38;5;241m=\u001b[39m \u001b[38;5;28mself\u001b[39m \u001b[38;5;28;01mif\u001b[39;00m \u001b[38;5;28mself\u001b[39m\u001b[38;5;241m.\u001b[39mname \u001b[38;5;241m==\u001b[39m \u001b[38;5;124m\"\u001b[39m\u001b[38;5;124miloc\u001b[39m\u001b[38;5;124m\"\u001b[39m \u001b[38;5;28;01melse\u001b[39;00m \u001b[38;5;28mself\u001b[39m\u001b[38;5;241m.\u001b[39mobj\u001b[38;5;241m.\u001b[39miloc\n\u001b[0;32m--> 818\u001b[0m \u001b[43miloc\u001b[49m\u001b[38;5;241;43m.\u001b[39;49m\u001b[43m_setitem_with_indexer\u001b[49m\u001b[43m(\u001b[49m\u001b[43mindexer\u001b[49m\u001b[43m,\u001b[49m\u001b[43m \u001b[49m\u001b[43mvalue\u001b[49m\u001b[43m,\u001b[49m\u001b[43m \u001b[49m\u001b[38;5;28;43mself\u001b[39;49m\u001b[38;5;241;43m.\u001b[39;49m\u001b[43mname\u001b[49m\u001b[43m)\u001b[49m\n",
      "File \u001b[0;32m~/.envs/bio/lib/python3.8/site-packages/pandas/core/indexing.py:1797\u001b[0m, in \u001b[0;36m_iLocIndexer._setitem_with_indexer\u001b[0;34m(self, indexer, value, name)\u001b[0m\n\u001b[1;32m   1795\u001b[0m     \u001b[38;5;28mself\u001b[39m\u001b[38;5;241m.\u001b[39m_setitem_with_indexer_split_path(indexer, value, name)\n\u001b[1;32m   1796\u001b[0m \u001b[38;5;28;01melse\u001b[39;00m:\n\u001b[0;32m-> 1797\u001b[0m     \u001b[38;5;28;43mself\u001b[39;49m\u001b[38;5;241;43m.\u001b[39;49m\u001b[43m_setitem_single_block\u001b[49m\u001b[43m(\u001b[49m\u001b[43mindexer\u001b[49m\u001b[43m,\u001b[49m\u001b[43m \u001b[49m\u001b[43mvalue\u001b[49m\u001b[43m,\u001b[49m\u001b[43m \u001b[49m\u001b[43mname\u001b[49m\u001b[43m)\u001b[49m\n",
      "File \u001b[0;32m~/.envs/bio/lib/python3.8/site-packages/pandas/core/indexing.py:2055\u001b[0m, in \u001b[0;36m_iLocIndexer._setitem_single_block\u001b[0;34m(self, indexer, value, name)\u001b[0m\n\u001b[1;32m   2049\u001b[0m \u001b[38;5;28;01mif\u001b[39;00m (\n\u001b[1;32m   2050\u001b[0m     \u001b[38;5;28mself\u001b[39m\u001b[38;5;241m.\u001b[39mndim \u001b[38;5;241m==\u001b[39m \u001b[38;5;28mlen\u001b[39m(indexer) \u001b[38;5;241m==\u001b[39m \u001b[38;5;241m2\u001b[39m\n\u001b[1;32m   2051\u001b[0m     \u001b[38;5;129;01mand\u001b[39;00m is_integer(indexer[\u001b[38;5;241m1\u001b[39m])\n\u001b[1;32m   2052\u001b[0m     \u001b[38;5;129;01mand\u001b[39;00m com\u001b[38;5;241m.\u001b[39mis_null_slice(indexer[\u001b[38;5;241m0\u001b[39m])\n\u001b[1;32m   2053\u001b[0m ):\n\u001b[1;32m   2054\u001b[0m     col \u001b[38;5;241m=\u001b[39m item_labels[indexer[info_axis]]\n\u001b[0;32m-> 2055\u001b[0m     \u001b[38;5;28;01mif\u001b[39;00m \u001b[38;5;28mlen\u001b[39m(\u001b[43mitem_labels\u001b[49m\u001b[38;5;241;43m.\u001b[39;49m\u001b[43mget_indexer_for\u001b[49m\u001b[43m(\u001b[49m\u001b[43m[\u001b[49m\u001b[43mcol\u001b[49m\u001b[43m]\u001b[49m\u001b[43m)\u001b[49m) \u001b[38;5;241m==\u001b[39m \u001b[38;5;241m1\u001b[39m:\n\u001b[1;32m   2056\u001b[0m         \u001b[38;5;66;03m# e.g. test_loc_setitem_empty_append_expands_rows\u001b[39;00m\n\u001b[1;32m   2057\u001b[0m         loc \u001b[38;5;241m=\u001b[39m item_labels\u001b[38;5;241m.\u001b[39mget_loc(col)\n\u001b[1;32m   2058\u001b[0m         \u001b[38;5;66;03m# Go through _setitem_single_column to get\u001b[39;00m\n\u001b[1;32m   2059\u001b[0m         \u001b[38;5;66;03m#  FutureWarning if relevant.\u001b[39;00m\n",
      "File \u001b[0;32m~/.envs/bio/lib/python3.8/site-packages/pandas/core/indexes/base.py:6052\u001b[0m, in \u001b[0;36mIndex.get_indexer_for\u001b[0;34m(self, target)\u001b[0m\n\u001b[1;32m   6034\u001b[0m \u001b[38;5;250m\u001b[39m\u001b[38;5;124;03m\"\"\"\u001b[39;00m\n\u001b[1;32m   6035\u001b[0m \u001b[38;5;124;03mGuaranteed return of an indexer even when non-unique.\u001b[39;00m\n\u001b[1;32m   6036\u001b[0m \n\u001b[0;32m   (...)\u001b[0m\n\u001b[1;32m   6049\u001b[0m \u001b[38;5;124;03marray([0, 2])\u001b[39;00m\n\u001b[1;32m   6050\u001b[0m \u001b[38;5;124;03m\"\"\"\u001b[39;00m\n\u001b[1;32m   6051\u001b[0m \u001b[38;5;28;01mif\u001b[39;00m \u001b[38;5;28mself\u001b[39m\u001b[38;5;241m.\u001b[39m_index_as_unique:\n\u001b[0;32m-> 6052\u001b[0m     \u001b[38;5;28;01mreturn\u001b[39;00m \u001b[38;5;28;43mself\u001b[39;49m\u001b[38;5;241;43m.\u001b[39;49m\u001b[43mget_indexer\u001b[49m\u001b[43m(\u001b[49m\u001b[43mtarget\u001b[49m\u001b[43m)\u001b[49m\n\u001b[1;32m   6053\u001b[0m indexer, _ \u001b[38;5;241m=\u001b[39m \u001b[38;5;28mself\u001b[39m\u001b[38;5;241m.\u001b[39mget_indexer_non_unique(target)\n\u001b[1;32m   6054\u001b[0m \u001b[38;5;28;01mreturn\u001b[39;00m indexer\n",
      "File \u001b[0;32m~/.envs/bio/lib/python3.8/site-packages/pandas/core/indexes/base.py:3969\u001b[0m, in \u001b[0;36mIndex.get_indexer\u001b[0;34m(self, target, method, limit, tolerance)\u001b[0m\n\u001b[1;32m   3967\u001b[0m     this \u001b[38;5;241m=\u001b[39m \u001b[38;5;28mself\u001b[39m\u001b[38;5;241m.\u001b[39mastype(dtype, copy\u001b[38;5;241m=\u001b[39m\u001b[38;5;28;01mFalse\u001b[39;00m)\n\u001b[1;32m   3968\u001b[0m     target \u001b[38;5;241m=\u001b[39m target\u001b[38;5;241m.\u001b[39mastype(dtype, copy\u001b[38;5;241m=\u001b[39m\u001b[38;5;28;01mFalse\u001b[39;00m)\n\u001b[0;32m-> 3969\u001b[0m     \u001b[38;5;28;01mreturn\u001b[39;00m \u001b[43mthis\u001b[49m\u001b[38;5;241;43m.\u001b[39;49m\u001b[43m_get_indexer\u001b[49m\u001b[43m(\u001b[49m\n\u001b[1;32m   3970\u001b[0m \u001b[43m        \u001b[49m\u001b[43mtarget\u001b[49m\u001b[43m,\u001b[49m\u001b[43m \u001b[49m\u001b[43mmethod\u001b[49m\u001b[38;5;241;43m=\u001b[39;49m\u001b[43mmethod\u001b[49m\u001b[43m,\u001b[49m\u001b[43m \u001b[49m\u001b[43mlimit\u001b[49m\u001b[38;5;241;43m=\u001b[39;49m\u001b[43mlimit\u001b[49m\u001b[43m,\u001b[49m\u001b[43m \u001b[49m\u001b[43mtolerance\u001b[49m\u001b[38;5;241;43m=\u001b[39;49m\u001b[43mtolerance\u001b[49m\n\u001b[1;32m   3971\u001b[0m \u001b[43m    \u001b[49m\u001b[43m)\u001b[49m\n\u001b[1;32m   3973\u001b[0m \u001b[38;5;28;01mreturn\u001b[39;00m \u001b[38;5;28mself\u001b[39m\u001b[38;5;241m.\u001b[39m_get_indexer(target, method, limit, tolerance)\n",
      "File \u001b[0;32m~/.envs/bio/lib/python3.8/site-packages/pandas/core/indexes/base.py:4000\u001b[0m, in \u001b[0;36mIndex._get_indexer\u001b[0;34m(self, target, method, limit, tolerance)\u001b[0m\n\u001b[1;32m   3997\u001b[0m     \u001b[38;5;28;01melse\u001b[39;00m:\n\u001b[1;32m   3998\u001b[0m         tgt_values \u001b[38;5;241m=\u001b[39m target\u001b[38;5;241m.\u001b[39m_get_engine_target()\n\u001b[0;32m-> 4000\u001b[0m     indexer \u001b[38;5;241m=\u001b[39m \u001b[38;5;28;43mself\u001b[39;49m\u001b[38;5;241;43m.\u001b[39;49m\u001b[43m_engine\u001b[49m\u001b[38;5;241;43m.\u001b[39;49m\u001b[43mget_indexer\u001b[49m\u001b[43m(\u001b[49m\u001b[43mtgt_values\u001b[49m\u001b[43m)\u001b[49m\n\u001b[1;32m   4002\u001b[0m \u001b[38;5;28;01mreturn\u001b[39;00m ensure_platform_int(indexer)\n",
      "\u001b[0;31mKeyboardInterrupt\u001b[0m: "
     ]
    }
   ],
   "source": [
    "df.fillna(column_means, inplace=True)"
   ]
  },
  {
   "cell_type": "code",
   "execution_count": 15,
   "id": "f790400d-d66d-4f0a-a905-4d63ccf05ce9",
   "metadata": {
    "tags": []
   },
   "outputs": [],
   "source": [
    "#ddf.head()\n",
    " #dd.from_pandas(pd.DataFrame(data), npartitions=2)\n",
    "\n",
    "#column_means = ddf.mean()\n",
    "\n",
    "#column_means = df.mean()"
   ]
  },
  {
   "cell_type": "code",
   "execution_count": 10,
   "id": "a67e412b-3818-4fd7-bca5-c33824cde80c",
   "metadata": {},
   "outputs": [
    {
     "ename": "KeyboardInterrupt",
     "evalue": "",
     "output_type": "error",
     "traceback": [
      "\u001b[0;31m---------------------------------------------------------------------------\u001b[0m",
      "\u001b[0;31mKeyboardInterrupt\u001b[0m                         Traceback (most recent call last)",
      "Cell \u001b[0;32mIn[10], line 3\u001b[0m\n\u001b[1;32m      1\u001b[0m \u001b[38;5;28;01mimport\u001b[39;00m \u001b[38;5;21;01mdask\u001b[39;00m\u001b[38;5;21;01m.\u001b[39;00m\u001b[38;5;21;01mdataframe\u001b[39;00m \u001b[38;5;28;01mas\u001b[39;00m \u001b[38;5;21;01mdd\u001b[39;00m\n\u001b[0;32m----> 3\u001b[0m ddf \u001b[38;5;241m=\u001b[39m \u001b[43mdd\u001b[49m\u001b[38;5;241;43m.\u001b[39;49m\u001b[43mfrom_pandas\u001b[49m\u001b[43m(\u001b[49m\u001b[43mdf\u001b[49m\u001b[43m,\u001b[49m\u001b[43m \u001b[49m\u001b[43mnpartitions\u001b[49m\u001b[38;5;241;43m=\u001b[39;49m\u001b[38;5;241;43m182\u001b[39;49m\u001b[43m)\u001b[49m\n",
      "File \u001b[0;32m~/.envs/bio/lib/python3.8/site-packages/dask/dataframe/io/io.py:308\u001b[0m, in \u001b[0;36mfrom_pandas\u001b[0;34m(data, npartitions, chunksize, sort, name)\u001b[0m\n\u001b[1;32m    302\u001b[0m     divisions \u001b[38;5;241m=\u001b[39m [\u001b[38;5;28;01mNone\u001b[39;00m] \u001b[38;5;241m*\u001b[39m \u001b[38;5;28mlen\u001b[39m(locations)\n\u001b[1;32m    304\u001b[0m dsk \u001b[38;5;241m=\u001b[39m {\n\u001b[1;32m    305\u001b[0m     (name, i): data\u001b[38;5;241m.\u001b[39miloc[start:stop]\n\u001b[1;32m    306\u001b[0m     \u001b[38;5;28;01mfor\u001b[39;00m i, (start, stop) \u001b[38;5;129;01min\u001b[39;00m \u001b[38;5;28menumerate\u001b[39m(\u001b[38;5;28mzip\u001b[39m(locations[:\u001b[38;5;241m-\u001b[39m\u001b[38;5;241m1\u001b[39m], locations[\u001b[38;5;241m1\u001b[39m:]))\n\u001b[1;32m    307\u001b[0m }\n\u001b[0;32m--> 308\u001b[0m \u001b[38;5;28;01mreturn\u001b[39;00m \u001b[43mnew_dd_object\u001b[49m\u001b[43m(\u001b[49m\u001b[43mdsk\u001b[49m\u001b[43m,\u001b[49m\u001b[43m \u001b[49m\u001b[43mname\u001b[49m\u001b[43m,\u001b[49m\u001b[43m \u001b[49m\u001b[43mdata\u001b[49m\u001b[43m,\u001b[49m\u001b[43m \u001b[49m\u001b[43mdivisions\u001b[49m\u001b[43m)\u001b[49m\n",
      "File \u001b[0;32m~/.envs/bio/lib/python3.8/site-packages/dask/dataframe/core.py:8122\u001b[0m, in \u001b[0;36mnew_dd_object\u001b[0;34m(dsk, name, meta, divisions, parent_meta)\u001b[0m\n\u001b[1;32m   8117\u001b[0m \u001b[38;5;250m\u001b[39m\u001b[38;5;124;03m\"\"\"Generic constructor for dask.dataframe objects.\u001b[39;00m\n\u001b[1;32m   8118\u001b[0m \n\u001b[1;32m   8119\u001b[0m \u001b[38;5;124;03mDecides the appropriate output class based on the type of `meta` provided.\u001b[39;00m\n\u001b[1;32m   8120\u001b[0m \u001b[38;5;124;03m\"\"\"\u001b[39;00m\n\u001b[1;32m   8121\u001b[0m \u001b[38;5;28;01mif\u001b[39;00m has_parallel_type(meta):\n\u001b[0;32m-> 8122\u001b[0m     \u001b[38;5;28;01mreturn\u001b[39;00m \u001b[43mget_parallel_type\u001b[49m\u001b[43m(\u001b[49m\u001b[43mmeta\u001b[49m\u001b[43m)\u001b[49m\u001b[43m(\u001b[49m\u001b[43mdsk\u001b[49m\u001b[43m,\u001b[49m\u001b[43m \u001b[49m\u001b[43mname\u001b[49m\u001b[43m,\u001b[49m\u001b[43m \u001b[49m\u001b[43mmeta\u001b[49m\u001b[43m,\u001b[49m\u001b[43m \u001b[49m\u001b[43mdivisions\u001b[49m\u001b[43m)\u001b[49m\n\u001b[1;32m   8123\u001b[0m \u001b[38;5;28;01melif\u001b[39;00m is_arraylike(meta) \u001b[38;5;129;01mand\u001b[39;00m meta\u001b[38;5;241m.\u001b[39mshape:\n\u001b[1;32m   8124\u001b[0m     \u001b[38;5;28;01mimport\u001b[39;00m \u001b[38;5;21;01mdask\u001b[39;00m\u001b[38;5;21;01m.\u001b[39;00m\u001b[38;5;21;01marray\u001b[39;00m \u001b[38;5;28;01mas\u001b[39;00m \u001b[38;5;21;01mda\u001b[39;00m\n",
      "File \u001b[0;32m~/.envs/bio/lib/python3.8/site-packages/dask/dataframe/core.py:4698\u001b[0m, in \u001b[0;36mDataFrame.__init__\u001b[0;34m(self, dsk, name, meta, divisions)\u001b[0m\n\u001b[1;32m   4691\u001b[0m \u001b[38;5;28msuper\u001b[39m()\u001b[38;5;241m.\u001b[39m\u001b[38;5;21m__init__\u001b[39m(dsk, name, meta, divisions)\n\u001b[1;32m   4692\u001b[0m \u001b[38;5;28;01mif\u001b[39;00m \u001b[38;5;28mself\u001b[39m\u001b[38;5;241m.\u001b[39mdask\u001b[38;5;241m.\u001b[39mlayers[name]\u001b[38;5;241m.\u001b[39mcollection_annotations \u001b[38;5;129;01mis\u001b[39;00m \u001b[38;5;28;01mNone\u001b[39;00m:\n\u001b[1;32m   4693\u001b[0m     \u001b[38;5;28mself\u001b[39m\u001b[38;5;241m.\u001b[39mdask\u001b[38;5;241m.\u001b[39mlayers[name]\u001b[38;5;241m.\u001b[39mcollection_annotations \u001b[38;5;241m=\u001b[39m {\n\u001b[1;32m   4694\u001b[0m         \u001b[38;5;124m\"\u001b[39m\u001b[38;5;124mnpartitions\u001b[39m\u001b[38;5;124m\"\u001b[39m: \u001b[38;5;28mself\u001b[39m\u001b[38;5;241m.\u001b[39mnpartitions,\n\u001b[1;32m   4695\u001b[0m         \u001b[38;5;124m\"\u001b[39m\u001b[38;5;124mcolumns\u001b[39m\u001b[38;5;124m\"\u001b[39m: [col \u001b[38;5;28;01mfor\u001b[39;00m col \u001b[38;5;129;01min\u001b[39;00m \u001b[38;5;28mself\u001b[39m\u001b[38;5;241m.\u001b[39mcolumns],\n\u001b[1;32m   4696\u001b[0m         \u001b[38;5;124m\"\u001b[39m\u001b[38;5;124mtype\u001b[39m\u001b[38;5;124m\"\u001b[39m: typename(\u001b[38;5;28mtype\u001b[39m(\u001b[38;5;28mself\u001b[39m)),\n\u001b[1;32m   4697\u001b[0m         \u001b[38;5;124m\"\u001b[39m\u001b[38;5;124mdataframe_type\u001b[39m\u001b[38;5;124m\"\u001b[39m: typename(\u001b[38;5;28mtype\u001b[39m(\u001b[38;5;28mself\u001b[39m\u001b[38;5;241m.\u001b[39m_meta)),\n\u001b[0;32m-> 4698\u001b[0m         \u001b[38;5;124m\"\u001b[39m\u001b[38;5;124mseries_dtypes\u001b[39m\u001b[38;5;124m\"\u001b[39m: {\n\u001b[1;32m   4699\u001b[0m             col: \u001b[38;5;28mself\u001b[39m\u001b[38;5;241m.\u001b[39m_meta[col]\u001b[38;5;241m.\u001b[39mdtype\n\u001b[1;32m   4700\u001b[0m             \u001b[38;5;28;01mif\u001b[39;00m \u001b[38;5;28mhasattr\u001b[39m(\u001b[38;5;28mself\u001b[39m\u001b[38;5;241m.\u001b[39m_meta[col], \u001b[38;5;124m\"\u001b[39m\u001b[38;5;124mdtype\u001b[39m\u001b[38;5;124m\"\u001b[39m)\n\u001b[1;32m   4701\u001b[0m             \u001b[38;5;28;01melse\u001b[39;00m \u001b[38;5;28;01mNone\u001b[39;00m\n\u001b[1;32m   4702\u001b[0m             \u001b[38;5;28;01mfor\u001b[39;00m col \u001b[38;5;129;01min\u001b[39;00m \u001b[38;5;28mself\u001b[39m\u001b[38;5;241m.\u001b[39m_meta\u001b[38;5;241m.\u001b[39mcolumns\n\u001b[1;32m   4703\u001b[0m         },\n\u001b[1;32m   4704\u001b[0m     }\n\u001b[1;32m   4705\u001b[0m \u001b[38;5;28;01melse\u001b[39;00m:\n\u001b[1;32m   4706\u001b[0m     \u001b[38;5;28mself\u001b[39m\u001b[38;5;241m.\u001b[39mdask\u001b[38;5;241m.\u001b[39mlayers[name]\u001b[38;5;241m.\u001b[39mcollection_annotations\u001b[38;5;241m.\u001b[39mupdate(\n\u001b[1;32m   4707\u001b[0m         {\n\u001b[1;32m   4708\u001b[0m             \u001b[38;5;124m\"\u001b[39m\u001b[38;5;124mnpartitions\u001b[39m\u001b[38;5;124m\"\u001b[39m: \u001b[38;5;28mself\u001b[39m\u001b[38;5;241m.\u001b[39mnpartitions,\n\u001b[0;32m   (...)\u001b[0m\n\u001b[1;32m   4718\u001b[0m         }\n\u001b[1;32m   4719\u001b[0m     )\n",
      "File \u001b[0;32m~/.envs/bio/lib/python3.8/site-packages/dask/dataframe/core.py:4699\u001b[0m, in \u001b[0;36m<dictcomp>\u001b[0;34m(.0)\u001b[0m\n\u001b[1;32m   4691\u001b[0m \u001b[38;5;28msuper\u001b[39m()\u001b[38;5;241m.\u001b[39m\u001b[38;5;21m__init__\u001b[39m(dsk, name, meta, divisions)\n\u001b[1;32m   4692\u001b[0m \u001b[38;5;28;01mif\u001b[39;00m \u001b[38;5;28mself\u001b[39m\u001b[38;5;241m.\u001b[39mdask\u001b[38;5;241m.\u001b[39mlayers[name]\u001b[38;5;241m.\u001b[39mcollection_annotations \u001b[38;5;129;01mis\u001b[39;00m \u001b[38;5;28;01mNone\u001b[39;00m:\n\u001b[1;32m   4693\u001b[0m     \u001b[38;5;28mself\u001b[39m\u001b[38;5;241m.\u001b[39mdask\u001b[38;5;241m.\u001b[39mlayers[name]\u001b[38;5;241m.\u001b[39mcollection_annotations \u001b[38;5;241m=\u001b[39m {\n\u001b[1;32m   4694\u001b[0m         \u001b[38;5;124m\"\u001b[39m\u001b[38;5;124mnpartitions\u001b[39m\u001b[38;5;124m\"\u001b[39m: \u001b[38;5;28mself\u001b[39m\u001b[38;5;241m.\u001b[39mnpartitions,\n\u001b[1;32m   4695\u001b[0m         \u001b[38;5;124m\"\u001b[39m\u001b[38;5;124mcolumns\u001b[39m\u001b[38;5;124m\"\u001b[39m: [col \u001b[38;5;28;01mfor\u001b[39;00m col \u001b[38;5;129;01min\u001b[39;00m \u001b[38;5;28mself\u001b[39m\u001b[38;5;241m.\u001b[39mcolumns],\n\u001b[1;32m   4696\u001b[0m         \u001b[38;5;124m\"\u001b[39m\u001b[38;5;124mtype\u001b[39m\u001b[38;5;124m\"\u001b[39m: typename(\u001b[38;5;28mtype\u001b[39m(\u001b[38;5;28mself\u001b[39m)),\n\u001b[1;32m   4697\u001b[0m         \u001b[38;5;124m\"\u001b[39m\u001b[38;5;124mdataframe_type\u001b[39m\u001b[38;5;124m\"\u001b[39m: typename(\u001b[38;5;28mtype\u001b[39m(\u001b[38;5;28mself\u001b[39m\u001b[38;5;241m.\u001b[39m_meta)),\n\u001b[1;32m   4698\u001b[0m         \u001b[38;5;124m\"\u001b[39m\u001b[38;5;124mseries_dtypes\u001b[39m\u001b[38;5;124m\"\u001b[39m: {\n\u001b[0;32m-> 4699\u001b[0m             col: \u001b[38;5;28;43mself\u001b[39;49m\u001b[38;5;241;43m.\u001b[39;49m\u001b[43m_meta\u001b[49m\u001b[43m[\u001b[49m\u001b[43mcol\u001b[49m\u001b[43m]\u001b[49m\u001b[38;5;241m.\u001b[39mdtype\n\u001b[1;32m   4700\u001b[0m             \u001b[38;5;28;01mif\u001b[39;00m \u001b[38;5;28mhasattr\u001b[39m(\u001b[38;5;28mself\u001b[39m\u001b[38;5;241m.\u001b[39m_meta[col], \u001b[38;5;124m\"\u001b[39m\u001b[38;5;124mdtype\u001b[39m\u001b[38;5;124m\"\u001b[39m)\n\u001b[1;32m   4701\u001b[0m             \u001b[38;5;28;01melse\u001b[39;00m \u001b[38;5;28;01mNone\u001b[39;00m\n\u001b[1;32m   4702\u001b[0m             \u001b[38;5;28;01mfor\u001b[39;00m col \u001b[38;5;129;01min\u001b[39;00m \u001b[38;5;28mself\u001b[39m\u001b[38;5;241m.\u001b[39m_meta\u001b[38;5;241m.\u001b[39mcolumns\n\u001b[1;32m   4703\u001b[0m         },\n\u001b[1;32m   4704\u001b[0m     }\n\u001b[1;32m   4705\u001b[0m \u001b[38;5;28;01melse\u001b[39;00m:\n\u001b[1;32m   4706\u001b[0m     \u001b[38;5;28mself\u001b[39m\u001b[38;5;241m.\u001b[39mdask\u001b[38;5;241m.\u001b[39mlayers[name]\u001b[38;5;241m.\u001b[39mcollection_annotations\u001b[38;5;241m.\u001b[39mupdate(\n\u001b[1;32m   4707\u001b[0m         {\n\u001b[1;32m   4708\u001b[0m             \u001b[38;5;124m\"\u001b[39m\u001b[38;5;124mnpartitions\u001b[39m\u001b[38;5;124m\"\u001b[39m: \u001b[38;5;28mself\u001b[39m\u001b[38;5;241m.\u001b[39mnpartitions,\n\u001b[0;32m   (...)\u001b[0m\n\u001b[1;32m   4718\u001b[0m         }\n\u001b[1;32m   4719\u001b[0m     )\n",
      "File \u001b[0;32m~/.envs/bio/lib/python3.8/site-packages/pandas/core/frame.py:3771\u001b[0m, in \u001b[0;36mDataFrame.__getitem__\u001b[0;34m(self, key)\u001b[0m\n\u001b[1;32m   3766\u001b[0m is_mi \u001b[38;5;241m=\u001b[39m \u001b[38;5;28misinstance\u001b[39m(\u001b[38;5;28mself\u001b[39m\u001b[38;5;241m.\u001b[39mcolumns, MultiIndex)\n\u001b[1;32m   3767\u001b[0m \u001b[38;5;66;03m# GH#45316 Return view if key is not duplicated\u001b[39;00m\n\u001b[1;32m   3768\u001b[0m \u001b[38;5;66;03m# Only use drop_duplicates with duplicates for performance\u001b[39;00m\n\u001b[1;32m   3769\u001b[0m \u001b[38;5;28;01mif\u001b[39;00m \u001b[38;5;129;01mnot\u001b[39;00m is_mi \u001b[38;5;129;01mand\u001b[39;00m (\n\u001b[1;32m   3770\u001b[0m     \u001b[38;5;28mself\u001b[39m\u001b[38;5;241m.\u001b[39mcolumns\u001b[38;5;241m.\u001b[39mis_unique\n\u001b[0;32m-> 3771\u001b[0m     \u001b[38;5;129;01mand\u001b[39;00m \u001b[43mkey\u001b[49m\u001b[43m \u001b[49m\u001b[38;5;129;43;01min\u001b[39;49;00m\u001b[43m \u001b[49m\u001b[38;5;28;43mself\u001b[39;49m\u001b[38;5;241;43m.\u001b[39;49m\u001b[43mcolumns\u001b[49m\n\u001b[1;32m   3772\u001b[0m     \u001b[38;5;129;01mor\u001b[39;00m key \u001b[38;5;129;01min\u001b[39;00m \u001b[38;5;28mself\u001b[39m\u001b[38;5;241m.\u001b[39mcolumns\u001b[38;5;241m.\u001b[39mdrop_duplicates(keep\u001b[38;5;241m=\u001b[39m\u001b[38;5;28;01mFalse\u001b[39;00m)\n\u001b[1;32m   3773\u001b[0m ):\n\u001b[1;32m   3774\u001b[0m     \u001b[38;5;28;01mreturn\u001b[39;00m \u001b[38;5;28mself\u001b[39m\u001b[38;5;241m.\u001b[39m_get_item_cache(key)\n\u001b[1;32m   3776\u001b[0m \u001b[38;5;28;01melif\u001b[39;00m is_mi \u001b[38;5;129;01mand\u001b[39;00m \u001b[38;5;28mself\u001b[39m\u001b[38;5;241m.\u001b[39mcolumns\u001b[38;5;241m.\u001b[39mis_unique \u001b[38;5;129;01mand\u001b[39;00m key \u001b[38;5;129;01min\u001b[39;00m \u001b[38;5;28mself\u001b[39m\u001b[38;5;241m.\u001b[39mcolumns:\n",
      "File \u001b[0;32m~/.envs/bio/lib/python3.8/site-packages/pandas/core/indexes/base.py:5291\u001b[0m, in \u001b[0;36mIndex.__contains__\u001b[0;34m(self, key)\u001b[0m\n\u001b[1;32m   5289\u001b[0m \u001b[38;5;28mhash\u001b[39m(key)\n\u001b[1;32m   5290\u001b[0m \u001b[38;5;28;01mtry\u001b[39;00m:\n\u001b[0;32m-> 5291\u001b[0m     \u001b[38;5;28;01mreturn\u001b[39;00m \u001b[43mkey\u001b[49m\u001b[43m \u001b[49m\u001b[38;5;129;43;01min\u001b[39;49;00m\u001b[43m \u001b[49m\u001b[38;5;28;43mself\u001b[39;49m\u001b[38;5;241;43m.\u001b[39;49m\u001b[43m_engine\u001b[49m\n\u001b[1;32m   5292\u001b[0m \u001b[38;5;28;01mexcept\u001b[39;00m (\u001b[38;5;167;01mOverflowError\u001b[39;00m, \u001b[38;5;167;01mTypeError\u001b[39;00m, \u001b[38;5;167;01mValueError\u001b[39;00m):\n\u001b[1;32m   5293\u001b[0m     \u001b[38;5;28;01mreturn\u001b[39;00m \u001b[38;5;28;01mFalse\u001b[39;00m\n",
      "\u001b[0;31mKeyboardInterrupt\u001b[0m: "
     ]
    }
   ],
   "source": [
    "%%time\n",
    "\n",
    "import dask.dataframe as dd\n",
    "\n",
    "ddf = dd.from_pandas(df, npartitions=182)"
   ]
  },
  {
   "cell_type": "code",
   "execution_count": 10,
   "id": "3b1f43c8-1b8e-4e4a-81b4-62827daada09",
   "metadata": {},
   "outputs": [
    {
     "ename": "NameError",
     "evalue": "name 'ddf' is not defined",
     "output_type": "error",
     "traceback": [
      "\u001b[0;31m---------------------------------------------------------------------------\u001b[0m",
      "\u001b[0;31mNameError\u001b[0m                                 Traceback (most recent call last)",
      "Cell \u001b[0;32mIn[10], line 1\u001b[0m\n\u001b[0;32m----> 1\u001b[0m \u001b[38;5;28;01mdel\u001b[39;00m ddf\n",
      "\u001b[0;31mNameError\u001b[0m: name 'ddf' is not defined"
     ]
    }
   ],
   "source": [
    "del ddf"
   ]
  },
  {
   "cell_type": "code",
   "execution_count": 14,
   "id": "93899390-ee94-4831-85e8-6786df75ead1",
   "metadata": {},
   "outputs": [
    {
     "name": "stderr",
     "output_type": "stream",
     "text": [
      "Exception ignored in: <bound method IPythonKernel._clean_thread_parent_frames of <ipykernel.ipkernel.IPythonKernel object at 0x7f81cc36c670>>\n",
      "Traceback (most recent call last):\n",
      "  File \"/home/szazo/.envs/bio/lib/python3.8/site-packages/ipykernel/ipkernel.py\", line 775, in _clean_thread_parent_frames\n",
      "    def _clean_thread_parent_frames(\n",
      "KeyboardInterrupt: \n",
      "\n",
      "KeyboardInterrupt\n",
      "\n"
     ]
    }
   ],
   "source": [
    "column_means\n",
    "\n",
    "#df_filled = df.fillna()\n",
    "\n",
    "df_filled = ddf.fillna(column_means)"
   ]
  },
  {
   "cell_type": "code",
   "execution_count": 6,
   "id": "d2a4e09e-1a56-4365-b633-94942de2df6d",
   "metadata": {
    "tags": []
   },
   "outputs": [],
   "source": [
    "import dask\n",
    "import pandas as pd\n",
    "\n",
    "def fill_na_with_row_mean(df: pd.DataFrame):\n",
    "    return df.apply(lambda row: row.fillna(row.mean()), axis=1)\n",
    "\n",
    "ddf_filled = ddf.map_partitions(fill_na_with_row_mean, meta=ddf)\n",
    "\n",
    "\n",
    "\n",
    "#withna = df.fillna(value=42, axis=1, limit=1)\n",
    "#df_result = df.compute()\n",
    "\n",
    "#df_filled = df.apply(lambda row: row.fillna(row.mean()), axis=1)"
   ]
  },
  {
   "cell_type": "code",
   "execution_count": 8,
   "id": "041c81cb-739a-4137-850a-d8ffb18f9c02",
   "metadata": {},
   "outputs": [
    {
     "data": {
      "text/html": [
       "<div>\n",
       "<style scoped>\n",
       "    .dataframe tbody tr th:only-of-type {\n",
       "        vertical-align: middle;\n",
       "    }\n",
       "\n",
       "    .dataframe tbody tr th {\n",
       "        vertical-align: top;\n",
       "    }\n",
       "\n",
       "    .dataframe thead th {\n",
       "        text-align: right;\n",
       "    }\n",
       "</style>\n",
       "<table border=\"1\" class=\"dataframe\">\n",
       "  <thead>\n",
       "    <tr style=\"text-align: right;\">\n",
       "      <th></th>\n",
       "      <th>SRR9190430</th>\n",
       "      <th>SRR9190431</th>\n",
       "      <th>SRR9190432</th>\n",
       "      <th>SRR9190433</th>\n",
       "      <th>SRR9190434</th>\n",
       "      <th>SRR9190435</th>\n",
       "      <th>SRR9190436</th>\n",
       "      <th>SRR9190437</th>\n",
       "      <th>SRR9190438</th>\n",
       "      <th>SRR9190439</th>\n",
       "      <th>...</th>\n",
       "      <th>SRR9190783</th>\n",
       "      <th>SRR9190784</th>\n",
       "      <th>SRR9190785</th>\n",
       "      <th>SRR9190786</th>\n",
       "      <th>SRR9190787</th>\n",
       "      <th>SRR9190788</th>\n",
       "      <th>SRR9190789</th>\n",
       "      <th>SRR9190790</th>\n",
       "      <th>SRR9190791</th>\n",
       "      <th>SRR9190792</th>\n",
       "    </tr>\n",
       "    <tr>\n",
       "      <th>Pos</th>\n",
       "      <th></th>\n",
       "      <th></th>\n",
       "      <th></th>\n",
       "      <th></th>\n",
       "      <th></th>\n",
       "      <th></th>\n",
       "      <th></th>\n",
       "      <th></th>\n",
       "      <th></th>\n",
       "      <th></th>\n",
       "      <th></th>\n",
       "      <th></th>\n",
       "      <th></th>\n",
       "      <th></th>\n",
       "      <th></th>\n",
       "      <th></th>\n",
       "      <th></th>\n",
       "      <th></th>\n",
       "      <th></th>\n",
       "      <th></th>\n",
       "      <th></th>\n",
       "    </tr>\n",
       "  </thead>\n",
       "  <tbody>\n",
       "    <tr>\n",
       "      <th>Y_9950828</th>\n",
       "      <td>1.00000</td>\n",
       "      <td>0.77800</td>\n",
       "      <td>0.815163</td>\n",
       "      <td>0.815163</td>\n",
       "      <td>0.88900</td>\n",
       "      <td>0.815163</td>\n",
       "      <td>0.815163</td>\n",
       "      <td>0.815163</td>\n",
       "      <td>0.815163</td>\n",
       "      <td>0.815163</td>\n",
       "      <td>...</td>\n",
       "      <td>0.815163</td>\n",
       "      <td>0.815163</td>\n",
       "      <td>0.815163</td>\n",
       "      <td>0.815163</td>\n",
       "      <td>0.80000</td>\n",
       "      <td>0.815163</td>\n",
       "      <td>0.80000</td>\n",
       "      <td>0.815163</td>\n",
       "      <td>0.815163</td>\n",
       "      <td>0.815163</td>\n",
       "    </tr>\n",
       "    <tr>\n",
       "      <th>Y_9980967</th>\n",
       "      <td>0.75275</td>\n",
       "      <td>0.75275</td>\n",
       "      <td>0.752750</td>\n",
       "      <td>0.752750</td>\n",
       "      <td>0.75275</td>\n",
       "      <td>0.752750</td>\n",
       "      <td>0.752750</td>\n",
       "      <td>0.752750</td>\n",
       "      <td>0.752750</td>\n",
       "      <td>0.752750</td>\n",
       "      <td>...</td>\n",
       "      <td>0.752750</td>\n",
       "      <td>0.752750</td>\n",
       "      <td>0.752750</td>\n",
       "      <td>0.752750</td>\n",
       "      <td>0.75275</td>\n",
       "      <td>0.752750</td>\n",
       "      <td>0.75275</td>\n",
       "      <td>0.752750</td>\n",
       "      <td>0.752750</td>\n",
       "      <td>0.752750</td>\n",
       "    </tr>\n",
       "    <tr>\n",
       "      <th>Y_9981045</th>\n",
       "      <td>0.18000</td>\n",
       "      <td>0.18000</td>\n",
       "      <td>0.180000</td>\n",
       "      <td>0.180000</td>\n",
       "      <td>0.18000</td>\n",
       "      <td>0.180000</td>\n",
       "      <td>0.180000</td>\n",
       "      <td>0.180000</td>\n",
       "      <td>0.180000</td>\n",
       "      <td>0.180000</td>\n",
       "      <td>...</td>\n",
       "      <td>0.180000</td>\n",
       "      <td>0.180000</td>\n",
       "      <td>0.180000</td>\n",
       "      <td>0.180000</td>\n",
       "      <td>0.18000</td>\n",
       "      <td>0.180000</td>\n",
       "      <td>0.18000</td>\n",
       "      <td>0.180000</td>\n",
       "      <td>0.180000</td>\n",
       "      <td>0.180000</td>\n",
       "    </tr>\n",
       "    <tr>\n",
       "      <th>Y_9994083</th>\n",
       "      <td>0.00000</td>\n",
       "      <td>0.00000</td>\n",
       "      <td>0.000000</td>\n",
       "      <td>0.000000</td>\n",
       "      <td>0.00000</td>\n",
       "      <td>0.000000</td>\n",
       "      <td>0.000000</td>\n",
       "      <td>0.000000</td>\n",
       "      <td>0.000000</td>\n",
       "      <td>0.000000</td>\n",
       "      <td>...</td>\n",
       "      <td>0.000000</td>\n",
       "      <td>0.000000</td>\n",
       "      <td>0.000000</td>\n",
       "      <td>0.000000</td>\n",
       "      <td>0.00000</td>\n",
       "      <td>0.000000</td>\n",
       "      <td>0.00000</td>\n",
       "      <td>0.000000</td>\n",
       "      <td>0.000000</td>\n",
       "      <td>0.000000</td>\n",
       "    </tr>\n",
       "    <tr>\n",
       "      <th>Y_9994254</th>\n",
       "      <td>1.00000</td>\n",
       "      <td>1.00000</td>\n",
       "      <td>1.000000</td>\n",
       "      <td>1.000000</td>\n",
       "      <td>1.00000</td>\n",
       "      <td>1.000000</td>\n",
       "      <td>1.000000</td>\n",
       "      <td>1.000000</td>\n",
       "      <td>1.000000</td>\n",
       "      <td>1.000000</td>\n",
       "      <td>...</td>\n",
       "      <td>1.000000</td>\n",
       "      <td>1.000000</td>\n",
       "      <td>1.000000</td>\n",
       "      <td>1.000000</td>\n",
       "      <td>1.00000</td>\n",
       "      <td>1.000000</td>\n",
       "      <td>1.00000</td>\n",
       "      <td>1.000000</td>\n",
       "      <td>1.000000</td>\n",
       "      <td>1.000000</td>\n",
       "    </tr>\n",
       "  </tbody>\n",
       "</table>\n",
       "<p>5 rows × 182 columns</p>\n",
       "</div>"
      ],
      "text/plain": [
       "           SRR9190430  SRR9190431  SRR9190432  SRR9190433  SRR9190434  \\\n",
       "Pos                                                                     \n",
       "Y_9950828     1.00000     0.77800    0.815163    0.815163     0.88900   \n",
       "Y_9980967     0.75275     0.75275    0.752750    0.752750     0.75275   \n",
       "Y_9981045     0.18000     0.18000    0.180000    0.180000     0.18000   \n",
       "Y_9994083     0.00000     0.00000    0.000000    0.000000     0.00000   \n",
       "Y_9994254     1.00000     1.00000    1.000000    1.000000     1.00000   \n",
       "\n",
       "           SRR9190435  SRR9190436  SRR9190437  SRR9190438  SRR9190439  ...  \\\n",
       "Pos                                                                    ...   \n",
       "Y_9950828    0.815163    0.815163    0.815163    0.815163    0.815163  ...   \n",
       "Y_9980967    0.752750    0.752750    0.752750    0.752750    0.752750  ...   \n",
       "Y_9981045    0.180000    0.180000    0.180000    0.180000    0.180000  ...   \n",
       "Y_9994083    0.000000    0.000000    0.000000    0.000000    0.000000  ...   \n",
       "Y_9994254    1.000000    1.000000    1.000000    1.000000    1.000000  ...   \n",
       "\n",
       "           SRR9190783  SRR9190784  SRR9190785  SRR9190786  SRR9190787  \\\n",
       "Pos                                                                     \n",
       "Y_9950828    0.815163    0.815163    0.815163    0.815163     0.80000   \n",
       "Y_9980967    0.752750    0.752750    0.752750    0.752750     0.75275   \n",
       "Y_9981045    0.180000    0.180000    0.180000    0.180000     0.18000   \n",
       "Y_9994083    0.000000    0.000000    0.000000    0.000000     0.00000   \n",
       "Y_9994254    1.000000    1.000000    1.000000    1.000000     1.00000   \n",
       "\n",
       "           SRR9190788  SRR9190789  SRR9190790  SRR9190791  SRR9190792  \n",
       "Pos                                                                    \n",
       "Y_9950828    0.815163     0.80000    0.815163    0.815163    0.815163  \n",
       "Y_9980967    0.752750     0.75275    0.752750    0.752750    0.752750  \n",
       "Y_9981045    0.180000     0.18000    0.180000    0.180000    0.180000  \n",
       "Y_9994083    0.000000     0.00000    0.000000    0.000000    0.000000  \n",
       "Y_9994254    1.000000     1.00000    1.000000    1.000000    1.000000  \n",
       "\n",
       "[5 rows x 182 columns]"
      ]
     },
     "execution_count": 8,
     "metadata": {},
     "output_type": "execute_result"
    }
   ],
   "source": [
    "ddf_filled.tail()"
   ]
  },
  {
   "cell_type": "code",
   "execution_count": 7,
   "id": "87e8628d-4632-47d4-a62a-f0333ad816e2",
   "metadata": {
    "execution": {
     "iopub.execute_input": "2024-05-10T14:48:11.266994Z",
     "iopub.status.busy": "2024-05-10T14:48:11.266291Z",
     "iopub.status.idle": "2024-05-10T14:51:27.081247Z",
     "shell.execute_reply": "2024-05-10T14:51:27.065795Z",
     "shell.execute_reply.started": "2024-05-10T14:48:11.266933Z"
    },
    "tags": []
   },
   "outputs": [],
   "source": [
    "df_result = withna.compute()\n"
   ]
  },
  {
   "cell_type": "code",
   "execution_count": 8,
   "id": "733eeeea-f55f-4c39-aec8-eaf11c8fd85b",
   "metadata": {
    "execution": {
     "iopub.execute_input": "2024-05-10T14:51:36.626650Z",
     "iopub.status.busy": "2024-05-10T14:51:36.624891Z",
     "iopub.status.idle": "2024-05-10T14:51:37.103530Z",
     "shell.execute_reply": "2024-05-10T14:51:37.101858Z",
     "shell.execute_reply.started": "2024-05-10T14:51:36.626525Z"
    },
    "tags": []
   },
   "outputs": [
    {
     "data": {
      "text/html": [
       "<div>\n",
       "<style scoped>\n",
       "    .dataframe tbody tr th:only-of-type {\n",
       "        vertical-align: middle;\n",
       "    }\n",
       "\n",
       "    .dataframe tbody tr th {\n",
       "        vertical-align: top;\n",
       "    }\n",
       "\n",
       "    .dataframe thead th {\n",
       "        text-align: right;\n",
       "    }\n",
       "</style>\n",
       "<table border=\"1\" class=\"dataframe\">\n",
       "  <thead>\n",
       "    <tr style=\"text-align: right;\">\n",
       "      <th></th>\n",
       "      <th>Pos</th>\n",
       "      <th>SRR9190430</th>\n",
       "      <th>SRR9190431</th>\n",
       "      <th>SRR9190432</th>\n",
       "      <th>SRR9190433</th>\n",
       "      <th>SRR9190434</th>\n",
       "      <th>SRR9190435</th>\n",
       "      <th>SRR9190436</th>\n",
       "      <th>SRR9190437</th>\n",
       "      <th>SRR9190438</th>\n",
       "      <th>...</th>\n",
       "      <th>SRR9190783</th>\n",
       "      <th>SRR9190784</th>\n",
       "      <th>SRR9190785</th>\n",
       "      <th>SRR9190786</th>\n",
       "      <th>SRR9190787</th>\n",
       "      <th>SRR9190788</th>\n",
       "      <th>SRR9190789</th>\n",
       "      <th>SRR9190790</th>\n",
       "      <th>SRR9190791</th>\n",
       "      <th>SRR9190792</th>\n",
       "    </tr>\n",
       "  </thead>\n",
       "  <tbody>\n",
       "    <tr>\n",
       "      <th>0</th>\n",
       "      <td>10_100001655</td>\n",
       "      <td>42.0</td>\n",
       "      <td>42.0</td>\n",
       "      <td>42.0</td>\n",
       "      <td>42.0</td>\n",
       "      <td>42.0</td>\n",
       "      <td>42.0</td>\n",
       "      <td>42.0</td>\n",
       "      <td>42.0</td>\n",
       "      <td>42.0</td>\n",
       "      <td>...</td>\n",
       "      <td>42.0</td>\n",
       "      <td>42.0</td>\n",
       "      <td>42.0</td>\n",
       "      <td>42.0</td>\n",
       "      <td>42.0</td>\n",
       "      <td>42.0</td>\n",
       "      <td>42.0</td>\n",
       "      <td>42.0</td>\n",
       "      <td>42.0</td>\n",
       "      <td>42.0</td>\n",
       "    </tr>\n",
       "    <tr>\n",
       "      <th>1</th>\n",
       "      <td>10_100001659</td>\n",
       "      <td>42.0</td>\n",
       "      <td>42.0</td>\n",
       "      <td>42.0</td>\n",
       "      <td>42.0</td>\n",
       "      <td>42.0</td>\n",
       "      <td>42.0</td>\n",
       "      <td>42.0</td>\n",
       "      <td>42.0</td>\n",
       "      <td>42.0</td>\n",
       "      <td>...</td>\n",
       "      <td>42.0</td>\n",
       "      <td>42.0</td>\n",
       "      <td>42.0</td>\n",
       "      <td>42.0</td>\n",
       "      <td>42.0</td>\n",
       "      <td>42.0</td>\n",
       "      <td>42.0</td>\n",
       "      <td>42.0</td>\n",
       "      <td>42.0</td>\n",
       "      <td>42.0</td>\n",
       "    </tr>\n",
       "    <tr>\n",
       "      <th>2</th>\n",
       "      <td>10_100001680</td>\n",
       "      <td>42.0</td>\n",
       "      <td>42.0</td>\n",
       "      <td>42.0</td>\n",
       "      <td>42.0</td>\n",
       "      <td>42.0</td>\n",
       "      <td>42.0</td>\n",
       "      <td>42.0</td>\n",
       "      <td>42.0</td>\n",
       "      <td>42.0</td>\n",
       "      <td>...</td>\n",
       "      <td>42.0</td>\n",
       "      <td>42.0</td>\n",
       "      <td>42.0</td>\n",
       "      <td>42.0</td>\n",
       "      <td>42.0</td>\n",
       "      <td>42.0</td>\n",
       "      <td>42.0</td>\n",
       "      <td>42.0</td>\n",
       "      <td>42.0</td>\n",
       "      <td>42.0</td>\n",
       "    </tr>\n",
       "    <tr>\n",
       "      <th>3</th>\n",
       "      <td>10_100001702</td>\n",
       "      <td>42.0</td>\n",
       "      <td>42.0</td>\n",
       "      <td>42.0</td>\n",
       "      <td>42.0</td>\n",
       "      <td>42.0</td>\n",
       "      <td>42.0</td>\n",
       "      <td>42.0</td>\n",
       "      <td>42.0</td>\n",
       "      <td>42.0</td>\n",
       "      <td>...</td>\n",
       "      <td>42.0</td>\n",
       "      <td>42.0</td>\n",
       "      <td>42.0</td>\n",
       "      <td>42.0</td>\n",
       "      <td>42.0</td>\n",
       "      <td>42.0</td>\n",
       "      <td>42.0</td>\n",
       "      <td>42.0</td>\n",
       "      <td>42.0</td>\n",
       "      <td>42.0</td>\n",
       "    </tr>\n",
       "    <tr>\n",
       "      <th>4</th>\n",
       "      <td>10_100001706</td>\n",
       "      <td>42.0</td>\n",
       "      <td>42.0</td>\n",
       "      <td>42.0</td>\n",
       "      <td>42.0</td>\n",
       "      <td>42.0</td>\n",
       "      <td>42.0</td>\n",
       "      <td>42.0</td>\n",
       "      <td>42.0</td>\n",
       "      <td>42.0</td>\n",
       "      <td>...</td>\n",
       "      <td>42.0</td>\n",
       "      <td>42.0</td>\n",
       "      <td>42.0</td>\n",
       "      <td>42.0</td>\n",
       "      <td>42.0</td>\n",
       "      <td>42.0</td>\n",
       "      <td>42.0</td>\n",
       "      <td>42.0</td>\n",
       "      <td>42.0</td>\n",
       "      <td>42.0</td>\n",
       "    </tr>\n",
       "  </tbody>\n",
       "</table>\n",
       "<p>5 rows × 183 columns</p>\n",
       "</div>"
      ],
      "text/plain": [
       "            Pos  SRR9190430  SRR9190431  SRR9190432  SRR9190433  SRR9190434  \\\n",
       "0  10_100001655        42.0        42.0        42.0        42.0        42.0   \n",
       "1  10_100001659        42.0        42.0        42.0        42.0        42.0   \n",
       "2  10_100001680        42.0        42.0        42.0        42.0        42.0   \n",
       "3  10_100001702        42.0        42.0        42.0        42.0        42.0   \n",
       "4  10_100001706        42.0        42.0        42.0        42.0        42.0   \n",
       "\n",
       "   SRR9190435  SRR9190436  SRR9190437  SRR9190438  ...  SRR9190783  \\\n",
       "0        42.0        42.0        42.0        42.0  ...        42.0   \n",
       "1        42.0        42.0        42.0        42.0  ...        42.0   \n",
       "2        42.0        42.0        42.0        42.0  ...        42.0   \n",
       "3        42.0        42.0        42.0        42.0  ...        42.0   \n",
       "4        42.0        42.0        42.0        42.0  ...        42.0   \n",
       "\n",
       "   SRR9190784  SRR9190785  SRR9190786  SRR9190787  SRR9190788  SRR9190789  \\\n",
       "0        42.0        42.0        42.0        42.0        42.0        42.0   \n",
       "1        42.0        42.0        42.0        42.0        42.0        42.0   \n",
       "2        42.0        42.0        42.0        42.0        42.0        42.0   \n",
       "3        42.0        42.0        42.0        42.0        42.0        42.0   \n",
       "4        42.0        42.0        42.0        42.0        42.0        42.0   \n",
       "\n",
       "   SRR9190790  SRR9190791  SRR9190792  \n",
       "0        42.0        42.0        42.0  \n",
       "1        42.0        42.0        42.0  \n",
       "2        42.0        42.0        42.0  \n",
       "3        42.0        42.0        42.0  \n",
       "4        42.0        42.0        42.0  \n",
       "\n",
       "[5 rows x 183 columns]"
      ]
     },
     "execution_count": 8,
     "metadata": {},
     "output_type": "execute_result"
    }
   ],
   "source": [
    "df_result.head()"
   ]
  },
  {
   "cell_type": "code",
   "execution_count": 4,
   "id": "fdf92a02-16be-48df-b1e3-9fc599d653c7",
   "metadata": {
    "execution": {
     "iopub.execute_input": "2024-05-10T14:44:48.116593Z",
     "iopub.status.busy": "2024-05-10T14:44:48.115751Z",
     "iopub.status.idle": "2024-05-10T14:44:49.112502Z",
     "shell.execute_reply": "2024-05-10T14:44:49.111226Z",
     "shell.execute_reply.started": "2024-05-10T14:44:48.116525Z"
    },
    "tags": []
   },
   "outputs": [
    {
     "ename": "TypeError",
     "evalue": "'Delayed' object cannot be interpreted as an integer",
     "output_type": "error",
     "traceback": [
      "\u001b[0;31m---------------------------------------------------------------------------\u001b[0m",
      "\u001b[0;31mTypeError\u001b[0m                                 Traceback (most recent call last)",
      "Cell \u001b[0;32mIn[4], line 2\u001b[0m\n\u001b[1;32m      1\u001b[0m chunk_size \u001b[38;5;241m=\u001b[39m \u001b[38;5;241m10000\u001b[39m\n\u001b[0;32m----> 2\u001b[0m \u001b[38;5;28;01mfor\u001b[39;00m start_idx \u001b[38;5;129;01min\u001b[39;00m \u001b[38;5;28;43mrange\u001b[39;49m\u001b[43m(\u001b[49m\u001b[38;5;241;43m0\u001b[39;49m\u001b[43m,\u001b[49m\u001b[43m \u001b[49m\u001b[43mdf\u001b[49m\u001b[38;5;241;43m.\u001b[39;49m\u001b[43mshape\u001b[49m\u001b[43m[\u001b[49m\u001b[38;5;241;43m0\u001b[39;49m\u001b[43m]\u001b[49m\u001b[43m,\u001b[49m\u001b[43m \u001b[49m\u001b[43mchunk_size\u001b[49m\u001b[43m)\u001b[49m:\n\u001b[1;32m      3\u001b[0m     df\u001b[38;5;241m.\u001b[39miloc[start_idx:start_idx \u001b[38;5;241m+\u001b[39m chunk_size]\u001b[38;5;241m.\u001b[39mfillna(\u001b[38;5;241m42\u001b[39m, limit\u001b[38;5;241m=\u001b[39m\u001b[38;5;241m1\u001b[39m, axis\u001b[38;5;241m=\u001b[39m\u001b[38;5;241m1\u001b[39m, inplace\u001b[38;5;241m=\u001b[39m\u001b[38;5;28;01mTrue\u001b[39;00m)\n\u001b[1;32m      4\u001b[0m     \u001b[38;5;66;03m#print(chunk)\u001b[39;00m\n",
      "\u001b[0;31mTypeError\u001b[0m: 'Delayed' object cannot be interpreted as an integer"
     ]
    }
   ],
   "source": [
    "chunk_size = 10000\n",
    "for start_idx in range(0, df.shape[0], chunk_size):\n",
    "    df.iloc[start_idx:start_idx + chunk_size].fillna(42, limit=1, axis=1, inplace=True)\n",
    "    #print(chunk)\n",
    "    break\n",
    "    \n",
    "df.head()\n",
    "# Define chunk size\n",
    "#chunk_size = 3\n",
    "\n",
    "# List to hold processed chunks\n",
    "#chunks = []\n",
    "\n",
    "# Process each chunk\n",
    "#for start in range(0, df.shape[0], chunk_size):\n",
    "#    chunk = df.iloc[start:start + chunk_size]"
   ]
  },
  {
   "cell_type": "code",
   "execution_count": null,
   "id": "c0531f85-6552-411b-a158-cd8825dafda4",
   "metadata": {
    "execution": {
     "iopub.execute_input": "2024-05-10T14:23:44.731539Z",
     "iopub.status.busy": "2024-05-10T14:23:44.730781Z"
    },
    "tags": []
   },
   "outputs": [],
   "source": [
    "#df = df.set_index('Pos')\n",
    "#df.fillna(value=42, axis=1, inplace=True, limit=1)"
   ]
  },
  {
   "cell_type": "code",
   "execution_count": 7,
   "id": "7c738792-48c9-4ac5-8b44-c80fa9176839",
   "metadata": {
    "execution": {
     "iopub.execute_input": "2024-05-10T14:23:24.859148Z",
     "iopub.status.busy": "2024-05-10T14:23:24.858392Z",
     "iopub.status.idle": "2024-05-10T14:23:29.667270Z",
     "shell.execute_reply": "2024-05-10T14:23:29.665495Z",
     "shell.execute_reply.started": "2024-05-10T14:23:24.859088Z"
    },
    "tags": []
   },
   "outputs": [
    {
     "data": {
      "text/html": [
       "<div>\n",
       "<style scoped>\n",
       "    .dataframe tbody tr th:only-of-type {\n",
       "        vertical-align: middle;\n",
       "    }\n",
       "\n",
       "    .dataframe tbody tr th {\n",
       "        vertical-align: top;\n",
       "    }\n",
       "\n",
       "    .dataframe thead th {\n",
       "        text-align: right;\n",
       "    }\n",
       "</style>\n",
       "<table border=\"1\" class=\"dataframe\">\n",
       "  <thead>\n",
       "    <tr style=\"text-align: right;\">\n",
       "      <th></th>\n",
       "      <th>Pos</th>\n",
       "      <th>SRR9190430</th>\n",
       "      <th>SRR9190431</th>\n",
       "      <th>SRR9190432</th>\n",
       "      <th>SRR9190433</th>\n",
       "      <th>SRR9190434</th>\n",
       "      <th>SRR9190435</th>\n",
       "      <th>SRR9190436</th>\n",
       "      <th>SRR9190437</th>\n",
       "      <th>SRR9190438</th>\n",
       "      <th>...</th>\n",
       "      <th>SRR9190783</th>\n",
       "      <th>SRR9190784</th>\n",
       "      <th>SRR9190785</th>\n",
       "      <th>SRR9190786</th>\n",
       "      <th>SRR9190787</th>\n",
       "      <th>SRR9190788</th>\n",
       "      <th>SRR9190789</th>\n",
       "      <th>SRR9190790</th>\n",
       "      <th>SRR9190791</th>\n",
       "      <th>SRR9190792</th>\n",
       "    </tr>\n",
       "  </thead>\n",
       "  <tbody>\n",
       "    <tr>\n",
       "      <th>0</th>\n",
       "      <td>10_100001655</td>\n",
       "      <td>NaN</td>\n",
       "      <td>NaN</td>\n",
       "      <td>NaN</td>\n",
       "      <td>NaN</td>\n",
       "      <td>NaN</td>\n",
       "      <td>NaN</td>\n",
       "      <td>NaN</td>\n",
       "      <td>NaN</td>\n",
       "      <td>NaN</td>\n",
       "      <td>...</td>\n",
       "      <td>NaN</td>\n",
       "      <td>NaN</td>\n",
       "      <td>NaN</td>\n",
       "      <td>NaN</td>\n",
       "      <td>NaN</td>\n",
       "      <td>NaN</td>\n",
       "      <td>NaN</td>\n",
       "      <td>NaN</td>\n",
       "      <td>NaN</td>\n",
       "      <td>NaN</td>\n",
       "    </tr>\n",
       "    <tr>\n",
       "      <th>1</th>\n",
       "      <td>10_100001659</td>\n",
       "      <td>NaN</td>\n",
       "      <td>NaN</td>\n",
       "      <td>NaN</td>\n",
       "      <td>NaN</td>\n",
       "      <td>NaN</td>\n",
       "      <td>NaN</td>\n",
       "      <td>NaN</td>\n",
       "      <td>NaN</td>\n",
       "      <td>NaN</td>\n",
       "      <td>...</td>\n",
       "      <td>NaN</td>\n",
       "      <td>NaN</td>\n",
       "      <td>NaN</td>\n",
       "      <td>NaN</td>\n",
       "      <td>NaN</td>\n",
       "      <td>NaN</td>\n",
       "      <td>NaN</td>\n",
       "      <td>NaN</td>\n",
       "      <td>NaN</td>\n",
       "      <td>NaN</td>\n",
       "    </tr>\n",
       "    <tr>\n",
       "      <th>2</th>\n",
       "      <td>10_100001680</td>\n",
       "      <td>NaN</td>\n",
       "      <td>NaN</td>\n",
       "      <td>NaN</td>\n",
       "      <td>NaN</td>\n",
       "      <td>NaN</td>\n",
       "      <td>NaN</td>\n",
       "      <td>NaN</td>\n",
       "      <td>NaN</td>\n",
       "      <td>NaN</td>\n",
       "      <td>...</td>\n",
       "      <td>NaN</td>\n",
       "      <td>NaN</td>\n",
       "      <td>NaN</td>\n",
       "      <td>NaN</td>\n",
       "      <td>NaN</td>\n",
       "      <td>NaN</td>\n",
       "      <td>NaN</td>\n",
       "      <td>NaN</td>\n",
       "      <td>NaN</td>\n",
       "      <td>NaN</td>\n",
       "    </tr>\n",
       "    <tr>\n",
       "      <th>3</th>\n",
       "      <td>10_100001702</td>\n",
       "      <td>NaN</td>\n",
       "      <td>NaN</td>\n",
       "      <td>NaN</td>\n",
       "      <td>NaN</td>\n",
       "      <td>NaN</td>\n",
       "      <td>NaN</td>\n",
       "      <td>NaN</td>\n",
       "      <td>NaN</td>\n",
       "      <td>NaN</td>\n",
       "      <td>...</td>\n",
       "      <td>NaN</td>\n",
       "      <td>NaN</td>\n",
       "      <td>NaN</td>\n",
       "      <td>NaN</td>\n",
       "      <td>NaN</td>\n",
       "      <td>NaN</td>\n",
       "      <td>NaN</td>\n",
       "      <td>NaN</td>\n",
       "      <td>NaN</td>\n",
       "      <td>NaN</td>\n",
       "    </tr>\n",
       "    <tr>\n",
       "      <th>4</th>\n",
       "      <td>10_100001706</td>\n",
       "      <td>NaN</td>\n",
       "      <td>NaN</td>\n",
       "      <td>NaN</td>\n",
       "      <td>NaN</td>\n",
       "      <td>NaN</td>\n",
       "      <td>NaN</td>\n",
       "      <td>NaN</td>\n",
       "      <td>NaN</td>\n",
       "      <td>NaN</td>\n",
       "      <td>...</td>\n",
       "      <td>NaN</td>\n",
       "      <td>NaN</td>\n",
       "      <td>NaN</td>\n",
       "      <td>NaN</td>\n",
       "      <td>NaN</td>\n",
       "      <td>NaN</td>\n",
       "      <td>NaN</td>\n",
       "      <td>NaN</td>\n",
       "      <td>NaN</td>\n",
       "      <td>NaN</td>\n",
       "    </tr>\n",
       "  </tbody>\n",
       "</table>\n",
       "<p>5 rows × 183 columns</p>\n",
       "</div>"
      ],
      "text/plain": [
       "            Pos  SRR9190430  SRR9190431  SRR9190432  SRR9190433  SRR9190434  \\\n",
       "0  10_100001655         NaN         NaN         NaN         NaN         NaN   \n",
       "1  10_100001659         NaN         NaN         NaN         NaN         NaN   \n",
       "2  10_100001680         NaN         NaN         NaN         NaN         NaN   \n",
       "3  10_100001702         NaN         NaN         NaN         NaN         NaN   \n",
       "4  10_100001706         NaN         NaN         NaN         NaN         NaN   \n",
       "\n",
       "   SRR9190435  SRR9190436  SRR9190437  SRR9190438  ...  SRR9190783  \\\n",
       "0         NaN         NaN         NaN         NaN  ...         NaN   \n",
       "1         NaN         NaN         NaN         NaN  ...         NaN   \n",
       "2         NaN         NaN         NaN         NaN  ...         NaN   \n",
       "3         NaN         NaN         NaN         NaN  ...         NaN   \n",
       "4         NaN         NaN         NaN         NaN  ...         NaN   \n",
       "\n",
       "   SRR9190784  SRR9190785  SRR9190786  SRR9190787  SRR9190788  SRR9190789  \\\n",
       "0         NaN         NaN         NaN         NaN         NaN         NaN   \n",
       "1         NaN         NaN         NaN         NaN         NaN         NaN   \n",
       "2         NaN         NaN         NaN         NaN         NaN         NaN   \n",
       "3         NaN         NaN         NaN         NaN         NaN         NaN   \n",
       "4         NaN         NaN         NaN         NaN         NaN         NaN   \n",
       "\n",
       "   SRR9190790  SRR9190791  SRR9190792  \n",
       "0         NaN         NaN         NaN  \n",
       "1         NaN         NaN         NaN  \n",
       "2         NaN         NaN         NaN  \n",
       "3         NaN         NaN         NaN  \n",
       "4         NaN         NaN         NaN  \n",
       "\n",
       "[5 rows x 183 columns]"
      ]
     },
     "execution_count": 7,
     "metadata": {},
     "output_type": "execute_result"
    }
   ],
   "source": [
    "df.head()\n",
    "\n",
    "duplicated_positions = df['Pos'].duplicated()\n",
    "n_duplicated = duplicated_positions.sum()\n",
    "n_duplicated\n",
    "\n",
    "df.head()\n",
    "#duplicate_values = df['Product'].duplicated()"
   ]
  },
  {
   "cell_type": "code",
   "execution_count": 13,
   "id": "cd9335c0-464e-4028-a468-9b0bddb6dc9a",
   "metadata": {
    "execution": {
     "iopub.execute_input": "2024-05-09T20:42:19.694769Z",
     "iopub.status.busy": "2024-05-09T20:42:19.694304Z",
     "iopub.status.idle": "2024-05-09T20:42:19.775529Z",
     "shell.execute_reply": "2024-05-09T20:42:19.773563Z",
     "shell.execute_reply.started": "2024-05-09T20:42:19.694731Z"
    },
    "tags": []
   },
   "outputs": [
    {
     "data": {
      "text/html": [
       "<div>\n",
       "<style scoped>\n",
       "    .dataframe tbody tr th:only-of-type {\n",
       "        vertical-align: middle;\n",
       "    }\n",
       "\n",
       "    .dataframe tbody tr th {\n",
       "        vertical-align: top;\n",
       "    }\n",
       "\n",
       "    .dataframe thead th {\n",
       "        text-align: right;\n",
       "    }\n",
       "</style>\n",
       "<table border=\"1\" class=\"dataframe\">\n",
       "  <thead>\n",
       "    <tr style=\"text-align: right;\">\n",
       "      <th></th>\n",
       "      <th>A</th>\n",
       "      <th>B</th>\n",
       "      <th>C</th>\n",
       "      <th>D</th>\n",
       "    </tr>\n",
       "  </thead>\n",
       "  <tbody>\n",
       "    <tr>\n",
       "      <th>0</th>\n",
       "      <td>NaN</td>\n",
       "      <td>2.0</td>\n",
       "      <td>NaN</td>\n",
       "      <td>0.0</td>\n",
       "    </tr>\n",
       "    <tr>\n",
       "      <th>1</th>\n",
       "      <td>3.0</td>\n",
       "      <td>4.0</td>\n",
       "      <td>NaN</td>\n",
       "      <td>1.0</td>\n",
       "    </tr>\n",
       "    <tr>\n",
       "      <th>2</th>\n",
       "      <td>NaN</td>\n",
       "      <td>NaN</td>\n",
       "      <td>NaN</td>\n",
       "      <td>NaN</td>\n",
       "    </tr>\n",
       "    <tr>\n",
       "      <th>3</th>\n",
       "      <td>NaN</td>\n",
       "      <td>3.0</td>\n",
       "      <td>NaN</td>\n",
       "      <td>4.0</td>\n",
       "    </tr>\n",
       "  </tbody>\n",
       "</table>\n",
       "</div>"
      ],
      "text/plain": [
       "     A    B   C    D\n",
       "0  NaN  2.0 NaN  0.0\n",
       "1  3.0  4.0 NaN  1.0\n",
       "2  NaN  NaN NaN  NaN\n",
       "3  NaN  3.0 NaN  4.0"
      ]
     },
     "execution_count": 13,
     "metadata": {},
     "output_type": "execute_result"
    }
   ],
   "source": [
    "import pandas as pd\n",
    "import numpy as np\n",
    "dfna = pd.DataFrame([[np.nan, 2, np.nan, 0],\n",
    "                   [3, 4, np.nan, 1],\n",
    "                   [np.nan, np.nan, np.nan, np.nan],\n",
    "                   [np.nan, 3, np.nan, 4]],\n",
    "                  columns=list(\"ABCD\"))\n",
    "dfna"
   ]
  },
  {
   "cell_type": "code",
   "execution_count": 14,
   "id": "ff06ab62-42ec-4e0f-9c11-ef9eafd90dc7",
   "metadata": {
    "execution": {
     "iopub.execute_input": "2024-05-09T20:42:26.890533Z",
     "iopub.status.busy": "2024-05-09T20:42:26.889138Z",
     "iopub.status.idle": "2024-05-09T20:42:26.958928Z",
     "shell.execute_reply": "2024-05-09T20:42:26.957445Z",
     "shell.execute_reply.started": "2024-05-09T20:42:26.890452Z"
    },
    "tags": []
   },
   "outputs": [
    {
     "data": {
      "text/html": [
       "<div>\n",
       "<style scoped>\n",
       "    .dataframe tbody tr th:only-of-type {\n",
       "        vertical-align: middle;\n",
       "    }\n",
       "\n",
       "    .dataframe tbody tr th {\n",
       "        vertical-align: top;\n",
       "    }\n",
       "\n",
       "    .dataframe thead th {\n",
       "        text-align: right;\n",
       "    }\n",
       "</style>\n",
       "<table border=\"1\" class=\"dataframe\">\n",
       "  <thead>\n",
       "    <tr style=\"text-align: right;\">\n",
       "      <th></th>\n",
       "      <th>A</th>\n",
       "      <th>B</th>\n",
       "      <th>C</th>\n",
       "      <th>D</th>\n",
       "    </tr>\n",
       "  </thead>\n",
       "  <tbody>\n",
       "    <tr>\n",
       "      <th>0</th>\n",
       "      <td>42.0</td>\n",
       "      <td>2.0</td>\n",
       "      <td>NaN</td>\n",
       "      <td>0.0</td>\n",
       "    </tr>\n",
       "    <tr>\n",
       "      <th>1</th>\n",
       "      <td>3.0</td>\n",
       "      <td>4.0</td>\n",
       "      <td>42.0</td>\n",
       "      <td>1.0</td>\n",
       "    </tr>\n",
       "    <tr>\n",
       "      <th>2</th>\n",
       "      <td>42.0</td>\n",
       "      <td>NaN</td>\n",
       "      <td>NaN</td>\n",
       "      <td>NaN</td>\n",
       "    </tr>\n",
       "    <tr>\n",
       "      <th>3</th>\n",
       "      <td>42.0</td>\n",
       "      <td>3.0</td>\n",
       "      <td>NaN</td>\n",
       "      <td>4.0</td>\n",
       "    </tr>\n",
       "  </tbody>\n",
       "</table>\n",
       "</div>"
      ],
      "text/plain": [
       "      A    B     C    D\n",
       "0  42.0  2.0   NaN  0.0\n",
       "1   3.0  4.0  42.0  1.0\n",
       "2  42.0  NaN   NaN  NaN\n",
       "3  42.0  3.0   NaN  4.0"
      ]
     },
     "execution_count": 14,
     "metadata": {},
     "output_type": "execute_result"
    }
   ],
   "source": [
    "dfna.fillna(42, limit=1, axis=1)"
   ]
  },
  {
   "cell_type": "code",
   "execution_count": null,
   "id": "621f1e43-6b3d-428d-9160-13e55db54676",
   "metadata": {
    "execution": {
     "iopub.execute_input": "2024-05-09T20:42:30.494117Z",
     "iopub.status.busy": "2024-05-09T20:42:30.493566Z"
    },
    "tags": []
   },
   "outputs": [],
   "source": [
    "df.fillna(value=42, limit=1, axis=1)"
   ]
  },
  {
   "cell_type": "code",
   "execution_count": 31,
   "id": "41f809cc-48f2-4856-beab-c776edc075ea",
   "metadata": {
    "execution": {
     "iopub.execute_input": "2024-05-09T20:32:04.654068Z",
     "iopub.status.busy": "2024-05-09T20:32:04.653539Z",
     "iopub.status.idle": "2024-05-09T20:32:04.697211Z",
     "shell.execute_reply": "2024-05-09T20:32:04.695719Z",
     "shell.execute_reply.started": "2024-05-09T20:32:04.654019Z"
    },
    "tags": []
   },
   "outputs": [
    {
     "data": {
      "text/plain": [
       "(0.81516284,\n",
       " 0.889,\n",
       " 0    1.0\n",
       " Name: Y_9950828, dtype: float32)"
      ]
     },
     "execution_count": 31,
     "metadata": {},
     "output_type": "execute_result"
    }
   ],
   "source": [
    "a = df.loc['Y_9950828']\n",
    "a.mean(), a.median(), a.mode()"
   ]
  },
  {
   "cell_type": "code",
   "execution_count": 21,
   "id": "f68d45bf-8f63-4faf-a22f-1ec3e289df1c",
   "metadata": {
    "execution": {
     "iopub.execute_input": "2024-05-09T20:25:59.520710Z",
     "iopub.status.busy": "2024-05-09T20:25:59.519719Z",
     "iopub.status.idle": "2024-05-09T20:26:07.813070Z",
     "shell.execute_reply": "2024-05-09T20:26:07.811771Z",
     "shell.execute_reply.started": "2024-05-09T20:25:59.520626Z"
    },
    "tags": []
   },
   "outputs": [
    {
     "name": "stdout",
     "output_type": "stream",
     "text": [
      "nan rows 6_138_477\n",
      "nonnan rows 2_583_616\n",
      "sum 8722093\n"
     ]
    }
   ],
   "source": [
    "#df['Pos'].iloc[-30:]\n",
    "print('nan rows', f'{(df.isna().sum(axis=1) > 0).sum():_}')\n",
    "print('nonnan rows', f'{(df.isna().sum(axis=1)  == 0).sum():_}')\n",
    "print('sum', df.shape[0])"
   ]
  }
 ],
 "metadata": {
  "kernelspec": {
   "display_name": "bio",
   "language": "python",
   "name": "bio"
  },
  "language_info": {
   "codemirror_mode": {
    "name": "ipython",
    "version": 3
   },
   "file_extension": ".py",
   "mimetype": "text/x-python",
   "name": "python",
   "nbconvert_exporter": "python",
   "pygments_lexer": "ipython3",
   "version": "3.8.18"
  }
 },
 "nbformat": 4,
 "nbformat_minor": 5
}
