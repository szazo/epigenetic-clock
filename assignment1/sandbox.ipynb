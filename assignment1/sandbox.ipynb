{
 "cells": [
  {
   "cell_type": "code",
   "execution_count": 1,
   "id": "b448c3ff-b9ba-46c0-8c4a-1abedec0687b",
   "metadata": {},
   "outputs": [],
   "source": [
    "%load_ext autoreload\n",
    "%autoreload 2"
   ]
  },
  {
   "cell_type": "code",
   "execution_count": 2,
   "id": "07905d6d-1d86-4735-ae12-81803a45a696",
   "metadata": {},
   "outputs": [
    {
     "name": "stdout",
     "output_type": "stream",
     "text": [
      "Requirement already satisfied: glmnet in /home/szazo/.envs/glider/lib/python3.8/site-packages (2.2.1)\n",
      "Requirement already satisfied: scipy>=0.14.1 in /home/szazo/.envs/glider/lib/python3.8/site-packages (from glmnet) (1.10.0)\n",
      "Requirement already satisfied: joblib>=0.14.1 in /home/szazo/.envs/glider/lib/python3.8/site-packages (from glmnet) (1.2.0)\n",
      "Requirement already satisfied: numpy>=1.9.2 in /home/szazo/.envs/glider/lib/python3.8/site-packages (from glmnet) (1.23.0)\n",
      "Requirement already satisfied: scikit-learn>=0.18.0 in /home/szazo/.envs/glider/lib/python3.8/site-packages (from glmnet) (1.3.2)\n",
      "Requirement already satisfied: threadpoolctl>=2.0.0 in /home/szazo/.envs/glider/lib/python3.8/site-packages (from scikit-learn>=0.18.0->glmnet) (3.1.0)\n",
      "\n",
      "\u001b[1m[\u001b[0m\u001b[34;49mnotice\u001b[0m\u001b[1;39;49m]\u001b[0m\u001b[39;49m A new release of pip is available: \u001b[0m\u001b[31;49m23.0\u001b[0m\u001b[39;49m -> \u001b[0m\u001b[32;49m24.0\u001b[0m\n",
      "\u001b[1m[\u001b[0m\u001b[34;49mnotice\u001b[0m\u001b[1;39;49m]\u001b[0m\u001b[39;49m To update, run: \u001b[0m\u001b[32;49m/home/szazo/.envs/glider/bin/python -m pip install --upgrade pip\u001b[0m\n",
      "Note: you may need to restart the kernel to use updated packages.\n",
      "Requirement already satisfied: scikit-learn in /home/szazo/.envs/glider/lib/python3.8/site-packages (1.3.2)\n",
      "Requirement already satisfied: joblib>=1.1.1 in /home/szazo/.envs/glider/lib/python3.8/site-packages (from scikit-learn) (1.2.0)\n",
      "Requirement already satisfied: threadpoolctl>=2.0.0 in /home/szazo/.envs/glider/lib/python3.8/site-packages (from scikit-learn) (3.1.0)\n",
      "Requirement already satisfied: scipy>=1.5.0 in /home/szazo/.envs/glider/lib/python3.8/site-packages (from scikit-learn) (1.10.0)\n",
      "Requirement already satisfied: numpy<2.0,>=1.17.3 in /home/szazo/.envs/glider/lib/python3.8/site-packages (from scikit-learn) (1.23.0)\n",
      "\n",
      "\u001b[1m[\u001b[0m\u001b[34;49mnotice\u001b[0m\u001b[1;39;49m]\u001b[0m\u001b[39;49m A new release of pip is available: \u001b[0m\u001b[31;49m23.0\u001b[0m\u001b[39;49m -> \u001b[0m\u001b[32;49m24.0\u001b[0m\n",
      "\u001b[1m[\u001b[0m\u001b[34;49mnotice\u001b[0m\u001b[1;39;49m]\u001b[0m\u001b[39;49m To update, run: \u001b[0m\u001b[32;49m/home/szazo/.envs/glider/bin/python -m pip install --upgrade pip\u001b[0m\n",
      "Note: you may need to restart the kernel to use updated packages.\n"
     ]
    }
   ],
   "source": [
    "%pip install glmnet\n",
    "%pip install --upgrade scikit-learn"
   ]
  },
  {
   "cell_type": "code",
   "execution_count": 3,
   "id": "2b33baf1-9be4-4a7e-ae7a-bdbdb328c483",
   "metadata": {},
   "outputs": [
    {
     "data": {
      "image/png": "[encoded data removed]",
      "text/plain": [
       "<Figure size 640x480 with 1 Axes>"
      ]
     },
     "metadata": {},
     "output_type": "display_data"
    },
    {
     "name": "stdout",
     "output_type": "stream",
     "text": [
      "[-3.04452244 -2.35137526 -1.94591015 -1.65822808 -1.43508453 -1.25276297\n",
      " -1.09861229 -0.9650809  -0.84729786 -0.74193734 -0.64662716 -0.55961579\n",
      " -0.47957308 -0.40546511 -0.33647224 -0.27193372 -0.21130909 -0.15415068\n",
      " -0.10008346 -0.04879016  0.          0.04761905  0.0952381   0.14285714\n",
      "  0.19047619  0.23809524  0.28571429  0.33333333  0.38095238  0.42857143\n",
      "  0.47619048  0.52380952  0.57142857  0.61904762  0.66666667  0.71428571\n",
      "  0.76190476  0.80952381  0.85714286  0.9047619   0.95238095  1.\n",
      "  1.04761905  1.0952381   1.14285714  1.19047619  1.23809524  1.28571429\n",
      "  1.33333333  1.38095238  1.42857143  1.47619048  1.52380952  1.57142857\n",
      "  1.61904762  1.66666667  1.71428571  1.76190476  1.80952381  1.85714286\n",
      "  1.9047619   1.95238095  2.          2.04761905  2.0952381   2.14285714\n",
      "  2.19047619  2.23809524  2.28571429  2.33333333  2.38095238  2.42857143\n",
      "  2.47619048  2.52380952  2.57142857  2.61904762  2.66666667  2.71428571\n",
      "  2.76190476  2.80952381  2.85714286  2.9047619   2.95238095  3.\n",
      "  3.04761905  3.0952381   3.14285714  3.19047619  3.23809524  3.28571429\n",
      "  3.33333333  3.38095238  3.42857143  3.47619048  3.52380952  3.57142857\n",
      "  3.61904762  3.66666667  3.71428571  3.76190476]\n"
     ]
    }
   ],
   "source": [
    "import numpy as np\n",
    "import matplotlib.pyplot as plt\n",
    "from IPython.display import display\n",
    "\n",
    "def F(age: float, adult_age: float = 20.):\n",
    "    \n",
    "    if age <= adult_age:\n",
    "        y = np.log(age + 1) - np.log(adult_age + 1)\n",
    "    else:\n",
    "        y = (age - adult_age) / (adult_age + 1)\n",
    "    \n",
    "    return y\n",
    "\n",
    "age = np.arange(0, 100, 1)\n",
    "y = np.vectorize(F)(age)\n",
    "\n",
    "plt.plot(age, y)\n",
    "plt.show()\n",
    "\n",
    "print(y)\n",
    "\n"
   ]
  },
  {
   "cell_type": "code",
   "execution_count": 4,
   "id": "6fb856ee-b3be-4e16-8483-1f5edc87593c",
   "metadata": {},
   "outputs": [],
   "source": [
    "#import dask as dd\n",
    "\n"
   ]
  },
  {
   "cell_type": "code",
   "execution_count": 5,
   "id": "19b28fc6-7c83-40d1-837a-dc90264d766e",
   "metadata": {},
   "outputs": [],
   "source": [
    "#%%time\n",
    "\n",
    "#import pandas as pd\n",
    "#from collections import defaultdict\n",
    "\n",
    "#dtypes = defaultdict(lambda: 'float32')\n",
    "#dtypes['ID_REF'] = 'string'\n",
    "\n",
    "#print('loading...')\n",
    "#feature_df = pd.read_csv('data/GSE40279_average_beta.txt', delimiter='\\t', index_col=0, usecols=range(0, 657)).transpose(copy=False)\n",
    "\n",
    "#print('getting memory...')\n",
    "#print(feature_df.info(verbose=False, memory_usage='deep'))\n",
    "\n",
    "#feature_df"
   ]
  },
  {
   "cell_type": "code",
   "execution_count": 6,
   "id": "fe4cb66f-14d5-483e-b395-3d56f93d025e",
   "metadata": {},
   "outputs": [
    {
     "name": "stdout",
     "output_type": "stream",
     "text": [
      "processing...\n",
      "['ID_REF']\n",
      "CPU times: user 13.6 s, sys: 3.32 s, total: 16.9 s\n",
      "Wall time: 14.4 s\n"
     ]
    }
   ],
   "source": [
    "%%time\n",
    "\n",
    "from assignment1 import Assignment1\n",
    "\n",
    "job = Assignment1(meta_filepath='data/GSE40279_family.soft-MetaData.csv', features_filepath='data/GSE40279_average_beta.txt')\n",
    "\n",
    "#meta_df = job.load_meta()\n",
    "#features_df = job.load_features()\n",
    "X, y = job.load()"
   ]
  },
  {
   "cell_type": "code",
   "execution_count": 17,
   "id": "1f4a8bcd-335e-4901-8905-599175de28e6",
   "metadata": {},
   "outputs": [
    {
     "name": "stdout",
     "output_type": "stream",
     "text": [
      "X (524, 473034) (132, 473034)\n",
      "Y (524,) (132,)\n"
     ]
    },
    {
     "name": "stderr",
     "output_type": "stream",
     "text": [
      "[Parallel(n_jobs=20)]: Using backend ThreadingBackend with 20 concurrent workers.\n",
      "[Parallel(n_jobs=20)]: Done   4 out of  10 | elapsed:   36.5s remaining:   54.8s\n"
     ]
    },
    {
     "name": "stdout",
     "output_type": "stream",
     "text": [
      "['alpha', 'n_lambda', 'min_lambda_ratio', 'lambda_path', 'standardize', 'lower_limits', 'upper_limits', 'fit_intercept', 'cut_point', 'n_splits', 'scoring', 'n_jobs', 'tol', 'max_iter', 'random_state', 'max_features', 'verbose', 'n_lambda_', 'intercept_path_', 'lambda_path_', 'jerr_', 'coef_path_', '_cv', 'cv_mean_score_', 'cv_standard_error_', 'lambda_max_inx_', 'lambda_max_', 'lambda_best_inx_', 'lambda_best_', 'coef_', 'intercept_', '__module__', '__doc__', '__init__', 'fit', '_fit', 'decision_function', 'predict', 'score', 'set_fit_request', 'set_predict_request', 'set_decision_function_request', 'set_score_request', '_get_param_names', 'get_params', 'set_params', '__sklearn_clone__', '__repr__', '__getstate__', '__setstate__', '_more_tags', '_get_tags', '_check_n_features', '_check_feature_names', '_validate_data', '_validate_params', '_repr_html_', '_repr_html_inner', '_repr_mimebundle_', '__init_subclass__', '_build_request_for_signature', '_get_default_requests', '_get_metadata_request', 'get_metadata_routing', '__dict__', '__weakref__', '__hash__', '__str__', '__getattribute__', '__setattr__', '__delattr__', '__lt__', '__le__', '__eq__', '__ne__', '__gt__', '__ge__', '__new__', '__reduce_ex__', '__reduce__', '__subclasshook__', '__format__', '__sizeof__', '__dir__', '__class__']\n"
     ]
    },
    {
     "name": "stderr",
     "output_type": "stream",
     "text": [
      "[Parallel(n_jobs=20)]: Done  10 out of  10 | elapsed:   37.4s finished\n"
     ]
    },
    {
     "data": {
      "text/plain": [
       "numpy.ndarray"
      ]
     },
     "execution_count": 17,
     "metadata": {},
     "output_type": "execute_result"
    }
   ],
   "source": [
    "import pandas as pd\n",
    "\n",
    "model = job.train()\n",
    "y.shape\n",
    "type(y)\n",
    "#meta_df = job.load_meta()\n",
    "#meta_df\n",
    "\n",
    "#features_df\n",
    "#merged_df = meta_df.join(features_df)\n",
    "\n",
    "#merged_df"
   ]
  },
  {
   "cell_type": "code",
   "execution_count": 38,
   "id": "c3bcf096-bc19-4ca2-9328-536c5574b74d",
   "metadata": {},
   "outputs": [
    {
     "name": "stdout",
     "output_type": "stream",
     "text": [
      "n_lambda_ 60\n",
      "lambda_path_ [12.44071124 11.33551274 10.32849703  9.41094182  8.57489969  7.81312923\n",
      "  7.11903237  6.48659715  5.91034574  5.38528691  4.90687287  4.4709598\n",
      "  4.07377206  3.71186938  3.38211713  3.08165917  2.80789306  2.55844758\n",
      "  2.33116215  2.12406813  1.93537177  1.76343868  1.60677964  1.46403777\n",
      "  1.33397669  1.21546988  1.10749088  1.00910444  0.91945839  0.83777624\n",
      "  0.76335051  0.69553655  0.633747    0.57744666  0.52614789  0.47940636\n",
      "  0.43681722  0.39801159  0.36265333  0.33043621  0.30108117  0.27433395\n",
      "  0.24996288  0.22775686  0.20752357  0.18908775  0.17228971  0.15698397\n",
      "  0.14303795  0.13033085  0.11875262  0.10820296  0.09859051  0.089832\n",
      "  0.08185157  0.0745801   0.06795461  0.06191771  0.05641711  0.05140517]\n",
      "coef_path_ [[0. 0. 0. ... 0. 0. 0.]\n",
      " [0. 0. 0. ... 0. 0. 0.]\n",
      " [0. 0. 0. ... 0. 0. 0.]\n",
      " ...\n",
      " [0. 0. 0. ... 0. 0. 0.]\n",
      " [0. 0. 0. ... 0. 0. 0.]\n",
      " [0. 0. 0. ... 0. 0. 0.]]\n",
      "coef_ [0. 0. 0. ... 0. 0. 0.] float64\n",
      "coef_ nonzero 78\n",
      "intercept_ 18.83418914509859\n",
      "intercept_ [ 63.88740458  54.34920683  45.65835628  37.73957693  30.52428012\n",
      "  23.94997039  18.60658908  16.61196509  13.98914233  11.34034933\n",
      "   8.92185789   7.18317606   6.17847574   5.34039037   5.77446613\n",
      "   6.65504617   8.15154129  10.28759915  12.0746742   13.78486899\n",
      "  15.67124045  17.94031462  20.17646042  22.36452715  24.41326821\n",
      "  25.15669936  24.84548069  23.78918591  22.00108255  18.83418915\n",
      "  14.11993131   8.62404479   2.33128903  -3.31006617  -6.66668331\n",
      " -11.3667189  -19.62774564 -25.43500501 -27.91910963 -25.91510093\n",
      " -22.57639273 -17.13174576 -12.29553594  -8.98384192  -3.83407854\n",
      "   1.26151282   5.66804058   8.53034426  12.88533421  16.5475233\n",
      "  17.880892    18.14743233  17.90335894  16.79194897  15.62255228\n",
      "  14.44437023  13.6773098   12.50966839  11.55777641  10.5955447 ]\n"
     ]
    }
   ],
   "source": [
    "import numpy as np\n",
    "\n",
    "print('n_lambda_', model.n_lambda_)\n",
    "print('lambda_path_', model.lambda_path_)\n",
    "print('coef_path_', model.coef_path_)\n",
    "print('coef_', model.coef_, model.coef_.dtype)\n",
    "print('coef_ nonzero', np.count_nonzero(np.invert(np.isclose(model.coef_, 0, atol=np.finfo(model.coef_.dtype).tiny, rtol=0))))\n",
    "print('intercept_', model.intercept_)\n",
    "print('intercept_', model.intercept_path_)\n"
   ]
  },
  {
   "cell_type": "code",
   "execution_count": null,
   "id": "fdce366a-6048-4a79-94bd-a6dd371b00cf",
   "metadata": {},
   "outputs": [],
   "source": [
    "import pandas as pd\n",
    "\n",
    "meta_df = pd.read_csv('data/GSE40279_family.soft-MetaData.csv', delimiter='|')\n",
    "\n",
    "# split sample title to get the id\n",
    "meta_df.str.split(' ', )\n",
    "\n",
    "display(meta_df.head())\n",
    "print('size: ', meta_df.shape)\n",
    "\n",
    "feature_df = pd.read_csv('data/GSE40279_average_beta.txt', delimiter='\\t', index_col=0).T\n",
    "\n",
    "#feature_df = pd.read_csv('data/GSE40279_average_beta.txt', delimiter='\\t', index_col=0)\n",
    "\n",
    "display(feature_df.head())\n",
    "print('size: ',feature_df.shape)\n",
    "\n"
   ]
  },
  {
   "cell_type": "code",
   "execution_count": null,
   "id": "3e506b28-b81c-4cdc-8ab0-a6a8cc18a960",
   "metadata": {},
   "outputs": [],
   "source": [
    "from sklearn.model_selection import train_test_split\n",
    "\n",
    "y = meta_df['age (y)'].astype(float)\n",
    "print(y, type(y))\n",
    "\n",
    "X_train, X_test, y_train, y_test = train_test_split(feature_df, y, test_size=0.2, random_state=42)\n",
    "\n",
    "print('X', X_train.shape, X_test.shape)\n",
    "print('Y', y_train.shape, y_test.shape)"
   ]
  },
  {
   "cell_type": "code",
   "execution_count": null,
   "id": "c3c0f62f-8e38-4c11-b2d5-82b56c2749d6",
   "metadata": {},
   "outputs": [],
   "source": [
    "from glmnet import ElasticNet\n",
    "\n",
    "model = ElasticNet()\n",
    "model = model.fit(X_train, y_train)\n",
    "\n",
    "print(model)"
   ]
  },
  {
   "cell_type": "code",
   "execution_count": null,
   "id": "3a9c1ecf-422b-4a4c-9e85-926156c8304e",
   "metadata": {},
   "outputs": [],
   "source": [
    "import sklearn\n",
    "print(sklearn.__version__)"
   ]
  },
  {
   "cell_type": "code",
   "execution_count": null,
   "id": "04d36ec1-4528-497e-8d53-de5f6000c134",
   "metadata": {},
   "outputs": [],
   "source": [
    "from sklearn.metrics import explained_variance_score, mean_squared_error, r2_score\n",
    "import numpy as np\n",
    "\n",
    "y_pred = model.predict(X_test)\n",
    "#print(y_pred)\n",
    "\n",
    "# compare with the y_test\n",
    "print('explained_variance_score', explained_variance_score(y_test, y_pred))\n",
    "print('root_mean_squared_error', np.sqrt(mean_squared_error(y_test, y_pred)))\n",
    "print('r2', np.sqrt(r2_score(y_test, y_pred)))\n"
   ]
  }
 ],
 "metadata": {
  "kernelspec": {
   "display_name": "glider",
   "language": "python",
   "name": "glider"
  },
  "language_info": {
   "codemirror_mode": {
    "name": "ipython",
    "version": 3
   },
   "file_extension": ".py",
   "mimetype": "text/x-python",
   "name": "python",
   "nbconvert_exporter": "python",
   "pygments_lexer": "ipython3",
   "version": "3.8.16"
  }
 },
 "nbformat": 4,
 "nbformat_minor": 5
}
