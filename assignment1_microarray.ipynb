{
 "cells": [
  {
   "cell_type": "code",
   "execution_count": 1,
   "id": "69fb24d6-9dca-4188-84d6-f6c1ebc08cb7",
   "metadata": {
    "tags": []
   },
   "outputs": [],
   "source": [
    "# autoreload\n",
    "%load_ext autoreload\n",
    "%autoreload 2\n",
    "\n",
    "# configure logging\n",
    "import logging\n",
    "logging.basicConfig(level=logging.WARNING)\n",
    "logging.getLogger('Assignment1MicroarrayEpigeneticClock').setLevel(logging.DEBUG)\n",
    "logging.getLogger('GlmNetEpigeneticClockTrainer').setLevel(logging.DEBUG)\n",
    "logging.getLogger('download_file').setLevel(logging.DEBUG)"
   ]
  },
  {
   "cell_type": "code",
   "execution_count": 2,
   "id": "bbf39cf7-01b0-4544-9441-6af08e31d8f2",
   "metadata": {
    "tags": []
   },
   "outputs": [
    {
     "name": "stderr",
     "output_type": "stream",
     "text": [
      "DEBUG:download_file:file data/assignment1/GSE40279_average_beta.txt already exists; do not download again\n"
     ]
    },
    {
     "name": "stdout",
     "output_type": "stream",
     "text": [
      "CPU times: user 1.61 s, sys: 4.09 s, total: 5.7 s\n",
      "Wall time: 732 ms\n"
     ]
    }
   ],
   "source": [
    "%%time\n",
    "import os\n",
    "from epigenetic_clock_assignment import download_file, download_nextcloud_file\n",
    "\n",
    "data_dir = 'data/assignment1'\n",
    "meta_filepath = os.path.join(data_dir, 'GSE40279_family.soft-MetaData.csv')\n",
    "features_filepath = os.path.join(data_dir, 'GSE40279_average_beta.txt')\n",
    "features_gz_filepath = os.path.join(data_dir, 'GSE40279_average_beta.txt.gz')\n",
    "\n",
    "# download meta file if does not exists\n",
    "download_nextcloud_file(folder_url='https://nc.elte.hu/s/9E36fFCnWML33yN',\n",
    "                       filename='GSE40279_family.soft-MetaData.csv',\n",
    "                       out_filepath=meta_filepath,\n",
    "                       password='GSE40279')\n",
    "\n",
    "# download features file if does not exists\n",
    "download_file(url='https://www.ncbi.nlm.nih.gov/geo/download/?acc=GSE40279&format=file&file=GSE40279%5Faverage%5Fbeta%2Etxt%2Egz',\n",
    "              out_filepath=features_filepath,\n",
    "              intermediate_archive_filepath=features_gz_filepath,\n",
    "              archive_format='gzip')\n"
   ]
  },
  {
   "cell_type": "code",
   "execution_count": 3,
   "id": "0d8f3427-8fea-4ead-b6f4-779e0ede816b",
   "metadata": {
    "tags": []
   },
   "outputs": [
    {
     "name": "stdout",
     "output_type": "stream",
     "text": [
      "CPU times: user 13.3 s, sys: 1.05 s, total: 14.3 s\n",
      "Wall time: 14.3 s\n"
     ]
    }
   ],
   "source": [
    "%%time\n",
    "\n",
    "import os\n",
    "from epigenetic_clock_assignment import Assignment1MicroarrayDataSource\n",
    "\n",
    "data_source = Assignment1MicroarrayDataSource(\n",
    "        meta_filepath=meta_filepath,\n",
    "        features_filepath=features_filepath\n",
    ")\n",
    "\n",
    "X, y = data_source.load()\n"
   ]
  },
  {
   "cell_type": "code",
   "execution_count": null,
   "id": "2d28581a-adc5-4c53-b890-ebd0515a2e0d",
   "metadata": {
    "tags": []
   },
   "outputs": [
    {
     "name": "stderr",
     "output_type": "stream",
     "text": [
      "DEBUG:GlmNetEpigeneticClockTrainer:starting hyperparameter optimization with alpha range [0.  0.1 0.2 0.3 0.4 0.5 0.6 0.7 0.8 0.9 1. ]\n",
      "DEBUG:GlmNetEpigeneticClockTrainer:training with alpha 0.0...\n",
      "[Parallel(n_jobs=2)]: Using backend ThreadingBackend with 2 concurrent workers.\n",
      "[Parallel(n_jobs=2)]: Done   3 out of   3 | elapsed:   16.4s finished\n",
      "DEBUG:GlmNetEpigeneticClockTrainer:training with alpha 0.1...\n",
      "[Parallel(n_jobs=2)]: Using backend ThreadingBackend with 2 concurrent workers.\n"
     ]
    }
   ],
   "source": [
    "%%time\n",
    "from epigenetic_clock_assignment import GlmNetEpigeneticClockTrainer\n",
    "\n",
    "clock_trainer = GlmNetEpigeneticClockTrainer(\n",
    "    n_parallel_jobs=2,\n",
    "    n_cv_fold=3,\n",
    "    # the weight of standard error used to determine lambda_best, 0 means use lambda_max (see glmnet.ElasticNet)\n",
    "    std_error_weight_for_lambda_best=0.5,\n",
    "    seed=42\n",
    ")\n",
    "\n",
    "X_train, X_test, y_train, y_test = clock_trainer.train_test_split(X, y, test_size=0.2)\n",
    "\n",
    "hyperparameter_result, hyperparameter_stats, best_model = clock_trainer.hyperparameter_optimization(X_train=X_train, y_train=y_train, alpha_count=10 + 1)\n"
   ]
  },
  {
   "cell_type": "code",
   "execution_count": null,
   "id": "7e72b735-420b-48f3-9118-b52fcd3764b4",
   "metadata": {
    "tags": []
   },
   "outputs": [],
   "source": [
    "clock_trainer.plot_hyperparameter_optimization_result(hyperparameter_result=hyperparameter_result, hyperparameter_stats=hyperparameter_stats, arrow_xytext_offset=(-100, -30))\n",
    "hyperparameter_stats\n",
    "hyperparameter_stats.dtypes\n",
    "a = [1,2,3]\n",
    "int(hyperparameter_stats.iloc[-1]['model_index'])"
   ]
  },
  {
   "cell_type": "markdown",
   "id": "9fc4dabf-063b-4463-8447-4f8646e76da8",
   "metadata": {},
   "source": [
    "# Predict on test data using the best model"
   ]
  },
  {
   "cell_type": "code",
   "execution_count": null,
   "id": "d65f6057-0bd3-412e-b2ff-74c7d9055c32",
   "metadata": {
    "tags": []
   },
   "outputs": [],
   "source": [
    "best_lambda = hyperparameter_result.lambd\n",
    "best_alpha = hyperparameter_result.alpha\n",
    "\n",
    "print('best_lambda', best_lambda, best_model.lambda_max_, best_model.lambda_best_ , best_model.cut_point)\n",
    "\n",
    "# sanity check\n",
    "assert best_model.alpha == best_alpha\n",
    "assert best_model.lambda_best_ == best_lambda\n",
    "\n",
    "# predict\n",
    "y_pred = best_model.predict(X = X_test, lamb=best_lambda)\n"
   ]
  },
  {
   "cell_type": "markdown",
   "id": "93fde4c1-4239-4c8f-9a1b-5b3fd3198832",
   "metadata": {},
   "source": [
    "# Plot linear regression result"
   ]
  },
  {
   "cell_type": "code",
   "execution_count": null,
   "id": "75ccef67-1d66-4397-99f2-4f9d5a8efac1",
   "metadata": {
    "tags": []
   },
   "outputs": [],
   "source": [
    "stats = clock_trainer.calculate_statistics(y_true=y_test, y_pred=y_pred)\n",
    "clock_trainer.plot_linear_regression_result(y_true=y_test, y_pred=y_pred, stats=stats, alpha=best_alpha, lamb=best_lambda)\n",
    "\n",
    "import numpy as np\n",
    "print(np.column_stack((y_test, y_pred)))"
   ]
  },
  {
   "cell_type": "code",
   "execution_count": null,
   "id": "ea71be33-a9ad-4a87-abc0-2de9556fdc5f",
   "metadata": {
    "tags": []
   },
   "outputs": [],
   "source": [
    "# P\n",
    "\n",
    "\n",
    "import numpy as np\n",
    "\n",
    "\n",
    "\n",
    "\n",
    "model=best_model\n",
    "print('n_lambda_', model.n_lambda_)\n",
    "print('lambda_path_', model.lambda_path_, model.lambda_path_.shape)\n",
    "print('coef_path_', model.coef_path_, model.coef_path_.shape)\n",
    "print('coef_ for lambda_best', model.coef_, model.coef_.dtype, model.coef_.shape)\n",
    "print('coef_ nonzero', np.count_nonzero(np.invert(np.isclose(model.coef_, 0, atol=np.finfo(model.coef_.dtype).tiny, rtol=0))))\n",
    "print('intercept_ for lambda_best', model.intercept_)\n",
    "print('intercept_path', model.intercept_path_, model.intercept_path_.shape)\n",
    "print('cv_mean_score_', model.cv_mean_score_, model.cv_mean_score_.shape)\n",
    "print('cv_standard_error_', model.cv_standard_error_)\n",
    "print('lambda_max_', model.lambda_max_)\n",
    "print('lambda_best_', model.lambda_best_)"
   ]
  },
  {
   "cell_type": "code",
   "execution_count": null,
   "id": "b59e0fec-b56a-4c2b-9526-e2cb59110486",
   "metadata": {},
   "outputs": [],
   "source": [
    "# TODO: \n",
    "\n",
    "# Feature importance based\n",
    "# Shap Feature Importance\n",
    "# feature matrix\n",
    "# glider-nel mint tanitottunk es min teszteltunk\n",
    "# scatter plot, ahol sok pont van, ott pirosabb (hoterkep)\n",
    "\n",
    "\n",
    "# delta age  pred - pred age\n",
    "# delta age az colleral az eletkorral (fiatalokra gyakran lesz pozitiv , oregekre negativ)\n",
    "# age acc. : prefictalt eletkorbol kivonjuk a regresszios egyenest -> az az erdekes, akik kilognak"
   ]
  }
 ],
 "metadata": {
  "kernelspec": {
   "display_name": "bio",
   "language": "python",
   "name": "bio"
  },
  "language_info": {
   "codemirror_mode": {
    "name": "ipython",
    "version": 3
   },
   "file_extension": ".py",
   "mimetype": "text/x-python",
   "name": "python",
   "nbconvert_exporter": "python",
   "pygments_lexer": "ipython3",
   "version": "3.8.18"
  }
 },
 "nbformat": 4,
 "nbformat_minor": 5
}
